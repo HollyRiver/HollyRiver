{
 "cells": [
  {
   "cell_type": "markdown",
   "metadata": {
    "id": "X2frMe9CR5Wq"
   },
   "source": [
    "###Learning codes"
   ]
  },
  {
   "cell_type": "code",
   "execution_count": null,
   "metadata": {
    "id": "tIgzPS_GSN_o"
   },
   "outputs": [],
   "source": [
    "plt.boxplot() ## 박스플롯 생성"
   ]
  },
  {
   "cell_type": "code",
   "execution_count": null,
   "metadata": {
    "id": "mUlBRfaCSQIg"
   },
   "outputs": [],
   "source": [
    "np.random.randn() ## 정규분포 하 확률변수 추출"
   ]
  },
  {
   "cell_type": "code",
   "execution_count": null,
   "metadata": {
    "id": "-Z0LQdhbjfbb"
   },
   "outputs": [],
   "source": [
    "np.random.seed() ## 임의추출자료 계량화"
   ]
  },
  {
   "cell_type": "code",
   "execution_count": null,
   "metadata": {
    "id": "P-yGWYkmjnHy"
   },
   "outputs": [],
   "source": [
    "plt.hist()  ## 히스토그램 생성"
   ]
  },
  {
   "cell_type": "code",
   "execution_count": null,
   "metadata": {
    "id": "BWXRyGpMjtpQ"
   },
   "outputs": [],
   "source": [
    "!wget link  ## 파일 다운로드(리눅스)"
   ]
  },
  {
   "cell_type": "code",
   "execution_count": null,
   "metadata": {
    "id": "1sfEJ9Egjy3E"
   },
   "outputs": [],
   "source": [
    "cv2.imread()  ## 이미지를 행렬로 읽어들임"
   ]
  },
  {
   "cell_type": "code",
   "execution_count": null,
   "metadata": {
    "id": "zPAoczhXSumR"
   },
   "outputs": [],
   "source": [
    "plt.imshow()  ## 행렬로 저장된 이미지를 읽음"
   ]
  },
  {
   "cell_type": "code",
   "execution_count": null,
   "metadata": {
    "id": "xlKPCzyiR-cY"
   },
   "outputs": [],
   "source": [
    "cv2.equalizeHist()  ## 히스토그램 이퀼라이제이션(대비 향상)"
   ]
  }
 ],
 "metadata": {
  "colab": {
   "authorship_tag": "ABX9TyO11Ys2t4esvSQqUPdpOSDc",
   "provenance": []
  },
  "kernelspec": {
   "display_name": "Python 3 (ipykernel)",
   "language": "python",
   "name": "python3"
  },
  "language_info": {
   "codemirror_mode": {
    "name": "ipython",
    "version": 3
   },
   "file_extension": ".py",
   "mimetype": "text/x-python",
   "name": "python",
   "nbconvert_exporter": "python",
   "pygments_lexer": "ipython3",
   "version": "3.10.13"
  }
 },
 "nbformat": 4,
 "nbformat_minor": 4
}
