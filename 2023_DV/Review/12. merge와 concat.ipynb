{
 "cells": [
  {
   "cell_type": "markdown",
   "id": "c8cf7bb3-54a0-436b-bb4c-27f67d1814ee",
   "metadata": {},
   "source": [
    "---\n",
    "title: \"Tidydata 심화 | `groupby()`\"\n",
    "author: \"강신성\"\n",
    "date: \"2023-10-26\"\n",
    "date-format: iso\n",
    "categories: [pandas]\n",
    "---\n",
    "\n",
    "\n"
   ]
  },
  {
   "cell_type": "markdown",
   "id": "5ac8a865-32b5-4554-afbd-1de1eda203a8",
   "metadata": {},
   "source": [
    "> `groupby()` 메소드의 심화"
   ]
  },
  {
   "cell_type": "markdown",
   "id": "f5a41059-b841-443b-ad07-c5d64e4f21bc",
   "metadata": {},
   "source": [
    "## 1. 라이브러리 imports"
   ]
  },
  {
   "cell_type": "code",
   "execution_count": 2,
   "id": "4b76e08d-d376-496e-8df1-5f93f3251983",
   "metadata": {},
   "outputs": [],
   "source": [
    "import pandas as pd\n",
    "import numpy as np"
   ]
  },
  {
   "cell_type": "markdown",
   "id": "186d2fa0-6d1b-41ad-9d5e-09a401463fb2",
   "metadata": {},
   "source": [
    "## 2. `groupby`"
   ]
  },
  {
   "cell_type": "markdown",
   "id": "f943e625-5b76-4250-977f-073568154c1a",
   "metadata": {},
   "source": [
    "### **A. df.groupby**\n",
    "---\n",
    "\n",
    "\n"
   ]
  },
  {
   "cell_type": "code",
   "execution_count": 3,
   "id": "174e7030-d34f-475f-896c-0d6fb6f27a17",
   "metadata": {},
   "outputs": [
    {
     "data": {
      "text/html": [
       "<div>\n",
       "<style scoped>\n",
       "    .dataframe tbody tr th:only-of-type {\n",
       "        vertical-align: middle;\n",
       "    }\n",
       "\n",
       "    .dataframe tbody tr th {\n",
       "        vertical-align: top;\n",
       "    }\n",
       "\n",
       "    .dataframe thead th {\n",
       "        text-align: right;\n",
       "    }\n",
       "</style>\n",
       "<table border=\"1\" class=\"dataframe\">\n",
       "  <thead>\n",
       "    <tr style=\"text-align: right;\">\n",
       "      <th></th>\n",
       "      <th>department</th>\n",
       "      <th>gender</th>\n",
       "      <th>count</th>\n",
       "    </tr>\n",
       "  </thead>\n",
       "  <tbody>\n",
       "    <tr>\n",
       "      <th>0</th>\n",
       "      <td>A</td>\n",
       "      <td>male</td>\n",
       "      <td>1</td>\n",
       "    </tr>\n",
       "    <tr>\n",
       "      <th>1</th>\n",
       "      <td>A</td>\n",
       "      <td>female</td>\n",
       "      <td>2</td>\n",
       "    </tr>\n",
       "    <tr>\n",
       "      <th>2</th>\n",
       "      <td>B</td>\n",
       "      <td>male</td>\n",
       "      <td>3</td>\n",
       "    </tr>\n",
       "    <tr>\n",
       "      <th>3</th>\n",
       "      <td>B</td>\n",
       "      <td>female</td>\n",
       "      <td>1</td>\n",
       "    </tr>\n",
       "  </tbody>\n",
       "</table>\n",
       "</div>"
      ],
      "text/plain": [
       "  department  gender  count\n",
       "0          A    male      1\n",
       "1          A  female      2\n",
       "2          B    male      3\n",
       "3          B  female      1"
      ]
     },
     "execution_count": 3,
     "metadata": {},
     "output_type": "execute_result"
    }
   ],
   "source": [
    "df = pd.DataFrame({'department':['A','A','B','B'], 'gender':['male','female','male','female'],'count':[1,2,3,1]})\n",
    "df"
   ]
  },
  {
   "cell_type": "code",
   "execution_count": 5,
   "id": "04cfe068-ba2c-43de-9452-3dc224fc05df",
   "metadata": {},
   "outputs": [
    {
     "data": {
      "text/plain": [
       "<pandas.core.groupby.generic.DataFrameGroupBy object at 0x0000029243C3B250>"
      ]
     },
     "execution_count": 5,
     "metadata": {},
     "output_type": "execute_result"
    }
   ],
   "source": [
    "g = df.groupby(by = 'department')\n",
    "g"
   ]
  },
  {
   "cell_type": "code",
   "execution_count": 7,
   "id": "ae1114c7-bf01-462b-ae56-ff584362de59",
   "metadata": {},
   "outputs": [
    {
     "data": {
      "text/plain": [
       "{'__iter__'}"
      ]
     },
     "execution_count": 7,
     "metadata": {},
     "output_type": "execute_result"
    }
   ],
   "source": [
    "set(dir(g)) & {'__iter__'} # g는 반복문을 돌리기 유리하게 설계되어 있음"
   ]
  },
  {
   "cell_type": "markdown",
   "id": "118b20f8-1cc1-4b68-9a45-d0b336da2203",
   "metadata": {},
   "source": [
    "> g에 적용할 수 있는 메소드(dir(g))중에 `'__iter__'`라는 게 있다. 즉, g는 for문을 돌리려고 만든 오브젝트이다."
   ]
  },
  {
   "cell_type": "code",
   "execution_count": 8,
   "id": "7e1f835f-e27f-4f96-b6f6-8768abb5c20f",
   "metadata": {},
   "outputs": [
    {
     "data": {
      "text/plain": [
       "[('A',\n",
       "    department  gender  count\n",
       "  0          A    male      1\n",
       "  1          A  female      2),\n",
       " ('B',\n",
       "    department  gender  count\n",
       "  2          B    male      3\n",
       "  3          B  female      1)]"
      ]
     },
     "execution_count": 8,
     "metadata": {},
     "output_type": "execute_result"
    }
   ],
   "source": [
    "[i for i in g]  ## list(g)"
   ]
  },
  {
   "cell_type": "markdown",
   "id": "c1918dfd-4615-4c32-ad45-9d07fe9d6292",
   "metadata": {},
   "source": [
    "> 두 개의 튜플이 나온다. 튜플의 원소는 그룹화하는 열과 sub_dataframe과 같은 형식이다."
   ]
  },
  {
   "cell_type": "code",
   "execution_count": 11,
   "id": "5aa726ac-3914-4063-8802-993a44201f8e",
   "metadata": {},
   "outputs": [
    {
     "data": {
      "text/plain": [
       "{'A':   department  gender  count\n",
       " 0          A    male      1\n",
       " 1          A  female      2,\n",
       " 'B':   department  gender  count\n",
       " 2          B    male      3\n",
       " 3          B  female      1}"
      ]
     },
     "execution_count": 11,
     "metadata": {},
     "output_type": "execute_result"
    }
   ],
   "source": [
    "dct = {k:df for k, df in g}  ## 딕셔너리 컴프리헨션\n",
    "dct"
   ]
  },
  {
   "cell_type": "code",
   "execution_count": 14,
   "id": "aa294b24-031c-4cf4-b3a1-17bbf1d92417",
   "metadata": {},
   "outputs": [
    {
     "data": {
      "text/html": [
       "<div>\n",
       "<style scoped>\n",
       "    .dataframe tbody tr th:only-of-type {\n",
       "        vertical-align: middle;\n",
       "    }\n",
       "\n",
       "    .dataframe tbody tr th {\n",
       "        vertical-align: top;\n",
       "    }\n",
       "\n",
       "    .dataframe thead th {\n",
       "        text-align: right;\n",
       "    }\n",
       "</style>\n",
       "<table border=\"1\" class=\"dataframe\">\n",
       "  <thead>\n",
       "    <tr style=\"text-align: right;\">\n",
       "      <th></th>\n",
       "      <th>department</th>\n",
       "      <th>gender</th>\n",
       "      <th>count</th>\n",
       "    </tr>\n",
       "  </thead>\n",
       "  <tbody>\n",
       "    <tr>\n",
       "      <th>0</th>\n",
       "      <td>A</td>\n",
       "      <td>male</td>\n",
       "      <td>1</td>\n",
       "    </tr>\n",
       "    <tr>\n",
       "      <th>1</th>\n",
       "      <td>A</td>\n",
       "      <td>female</td>\n",
       "      <td>2</td>\n",
       "    </tr>\n",
       "  </tbody>\n",
       "</table>\n",
       "</div>"
      ],
      "text/plain": [
       "  department  gender  count\n",
       "0          A    male      1\n",
       "1          A  female      2"
      ]
     },
     "metadata": {},
     "output_type": "display_data"
    },
    {
     "data": {
      "text/html": [
       "<div>\n",
       "<style scoped>\n",
       "    .dataframe tbody tr th:only-of-type {\n",
       "        vertical-align: middle;\n",
       "    }\n",
       "\n",
       "    .dataframe tbody tr th {\n",
       "        vertical-align: top;\n",
       "    }\n",
       "\n",
       "    .dataframe thead th {\n",
       "        text-align: right;\n",
       "    }\n",
       "</style>\n",
       "<table border=\"1\" class=\"dataframe\">\n",
       "  <thead>\n",
       "    <tr style=\"text-align: right;\">\n",
       "      <th></th>\n",
       "      <th>department</th>\n",
       "      <th>gender</th>\n",
       "      <th>count</th>\n",
       "    </tr>\n",
       "  </thead>\n",
       "  <tbody>\n",
       "    <tr>\n",
       "      <th>2</th>\n",
       "      <td>B</td>\n",
       "      <td>male</td>\n",
       "      <td>3</td>\n",
       "    </tr>\n",
       "    <tr>\n",
       "      <th>3</th>\n",
       "      <td>B</td>\n",
       "      <td>female</td>\n",
       "      <td>1</td>\n",
       "    </tr>\n",
       "  </tbody>\n",
       "</table>\n",
       "</div>"
      ],
      "text/plain": [
       "  department  gender  count\n",
       "2          B    male      3\n",
       "3          B  female      1"
      ]
     },
     "metadata": {},
     "output_type": "display_data"
    }
   ],
   "source": [
    "display(dct['A'])\n",
    "display(dct['B'])"
   ]
  },
  {
   "cell_type": "markdown",
   "id": "f2b9e959-283d-4ce7-b522-ced2d5f425f2",
   "metadata": {},
   "source": [
    "> 딕셔너리의 원소가 sub-dataframe"
   ]
  },
  {
   "cell_type": "markdown",
   "id": "d3def9b0-b2b8-42f8-a721-5f774f6d58c2",
   "metadata": {},
   "source": [
    "### **B. `g`의 이용법**\n",
    "---\n",
    "\n",
    "\n"
   ]
  },
  {
   "cell_type": "markdown",
   "id": "edcb9b83-4793-4f67-b5a6-3f8fb00bca0b",
   "metadata": {},
   "source": [
    "\\- g를 이용하여 원래의 df를 복원하라."
   ]
  },
  {
   "cell_type": "code",
   "execution_count": 15,
   "id": "e1e24573-b89d-446e-b180-d8fd6c9923d2",
   "metadata": {},
   "outputs": [],
   "source": [
    "df = pd.DataFrame({'department':['A','A','B','B'], 'gender':['male','female','male','female'],'count':[1,2,3,1]})\n",
    "g = df.groupby('department')"
   ]
  },
  {
   "cell_type": "code",
   "execution_count": 17,
   "id": "2638d0ff-999c-4490-a9bf-c41a03d2f2ee",
   "metadata": {},
   "outputs": [
    {
     "data": {
      "text/html": [
       "<div>\n",
       "<style scoped>\n",
       "    .dataframe tbody tr th:only-of-type {\n",
       "        vertical-align: middle;\n",
       "    }\n",
       "\n",
       "    .dataframe tbody tr th {\n",
       "        vertical-align: top;\n",
       "    }\n",
       "\n",
       "    .dataframe thead th {\n",
       "        text-align: right;\n",
       "    }\n",
       "</style>\n",
       "<table border=\"1\" class=\"dataframe\">\n",
       "  <thead>\n",
       "    <tr style=\"text-align: right;\">\n",
       "      <th></th>\n",
       "      <th>department</th>\n",
       "      <th>gender</th>\n",
       "      <th>count</th>\n",
       "    </tr>\n",
       "  </thead>\n",
       "  <tbody>\n",
       "    <tr>\n",
       "      <th>0</th>\n",
       "      <td>A</td>\n",
       "      <td>male</td>\n",
       "      <td>1</td>\n",
       "    </tr>\n",
       "    <tr>\n",
       "      <th>1</th>\n",
       "      <td>A</td>\n",
       "      <td>female</td>\n",
       "      <td>2</td>\n",
       "    </tr>\n",
       "    <tr>\n",
       "      <th>2</th>\n",
       "      <td>B</td>\n",
       "      <td>male</td>\n",
       "      <td>3</td>\n",
       "    </tr>\n",
       "    <tr>\n",
       "      <th>3</th>\n",
       "      <td>B</td>\n",
       "      <td>female</td>\n",
       "      <td>1</td>\n",
       "    </tr>\n",
       "  </tbody>\n",
       "</table>\n",
       "</div>"
      ],
      "text/plain": [
       "  department  gender  count\n",
       "0          A    male      1\n",
       "1          A  female      2\n",
       "2          B    male      3\n",
       "3          B  female      1"
      ]
     },
     "execution_count": 17,
     "metadata": {},
     "output_type": "execute_result"
    }
   ],
   "source": [
    "pd.concat([df for _,df in g])"
   ]
  },
  {
   "cell_type": "markdown",
   "id": "6b485263-946e-4a15-b500-362dc283681b",
   "metadata": {},
   "source": [
    "> 단순히 묶어주기만 해도 이렇게 나온다."
   ]
  },
  {
   "cell_type": "markdown",
   "id": "7aac29d2-2064-4afe-bcb8-cca740f23679",
   "metadata": {},
   "source": [
    "\\- g를 이용하여 아래와 동일한 기능을 하는 코드를 작성하라. (agg함수 사용 금지)"
   ]
  },
  {
   "cell_type": "code",
   "execution_count": 18,
   "id": "019dfa7d-29e3-4fe8-abe5-de9368e308e6",
   "metadata": {},
   "outputs": [
    {
     "data": {
      "text/html": [
       "<div>\n",
       "<style scoped>\n",
       "    .dataframe tbody tr th:only-of-type {\n",
       "        vertical-align: middle;\n",
       "    }\n",
       "\n",
       "    .dataframe tbody tr th {\n",
       "        vertical-align: top;\n",
       "    }\n",
       "\n",
       "    .dataframe thead th {\n",
       "        text-align: right;\n",
       "    }\n",
       "</style>\n",
       "<table border=\"1\" class=\"dataframe\">\n",
       "  <thead>\n",
       "    <tr style=\"text-align: right;\">\n",
       "      <th></th>\n",
       "      <th>count</th>\n",
       "    </tr>\n",
       "    <tr>\n",
       "      <th>department</th>\n",
       "      <th></th>\n",
       "    </tr>\n",
       "  </thead>\n",
       "  <tbody>\n",
       "    <tr>\n",
       "      <th>A</th>\n",
       "      <td>3</td>\n",
       "    </tr>\n",
       "    <tr>\n",
       "      <th>B</th>\n",
       "      <td>4</td>\n",
       "    </tr>\n",
       "  </tbody>\n",
       "</table>\n",
       "</div>"
      ],
      "text/plain": [
       "            count\n",
       "department       \n",
       "A               3\n",
       "B               4"
      ]
     },
     "execution_count": 18,
     "metadata": {},
     "output_type": "execute_result"
    }
   ],
   "source": [
    "df = pd.DataFrame({'department':['A','A','B','B'], 'gender':['male','female','male','female'],'count':[1,2,3,1]})\n",
    "df.groupby('department').agg({'count':'sum'})"
   ]
  },
  {
   "cell_type": "code",
   "execution_count": 21,
   "id": "d3c829c2-17f8-4161-a374-32930df971b7",
   "metadata": {},
   "outputs": [
    {
     "data": {
      "text/plain": [
       "[('A',\n",
       "    department  gender  count\n",
       "  0          A    male      1\n",
       "  1          A  female      2),\n",
       " ('B',\n",
       "    department  gender  count\n",
       "  2          B    male      3\n",
       "  3          B  female      1)]"
      ]
     },
     "execution_count": 21,
     "metadata": {},
     "output_type": "execute_result"
    }
   ],
   "source": [
    "list(g)"
   ]
  },
  {
   "cell_type": "code",
   "execution_count": 41,
   "id": "fc0f5336-2a1c-4c59-8cb8-8fe8e01bda73",
   "metadata": {},
   "outputs": [
    {
     "data": {
      "text/html": [
       "<div>\n",
       "<style scoped>\n",
       "    .dataframe tbody tr th:only-of-type {\n",
       "        vertical-align: middle;\n",
       "    }\n",
       "\n",
       "    .dataframe tbody tr th {\n",
       "        vertical-align: top;\n",
       "    }\n",
       "\n",
       "    .dataframe thead th {\n",
       "        text-align: right;\n",
       "    }\n",
       "</style>\n",
       "<table border=\"1\" class=\"dataframe\">\n",
       "  <thead>\n",
       "    <tr style=\"text-align: right;\">\n",
       "      <th></th>\n",
       "      <th>0</th>\n",
       "    </tr>\n",
       "  </thead>\n",
       "  <tbody>\n",
       "    <tr>\n",
       "      <th>A</th>\n",
       "      <td>3</td>\n",
       "    </tr>\n",
       "    <tr>\n",
       "      <th>B</th>\n",
       "      <td>4</td>\n",
       "    </tr>\n",
       "  </tbody>\n",
       "</table>\n",
       "</div>"
      ],
      "text/plain": [
       "   0\n",
       "A  3\n",
       "B  4"
      ]
     },
     "execution_count": 41,
     "metadata": {},
     "output_type": "execute_result"
    }
   ],
   "source": [
    "pd.DataFrame(pd.Series({i:sum(j['count']) for i, j in g}))  ## 리스트로 먼저 묶어줘야 함.\n",
    "##pd.DataFrame(pd.Series({k:df['count'].sum() for k,df in g})) 이게 더 직관적"
   ]
  },
  {
   "cell_type": "markdown",
   "id": "9c41258c-0590-4f70-9de1-138f972f470e",
   "metadata": {},
   "source": [
    "\\- 이 데이터프레임을 class를 기준으로 그룹핑하여 sub-dataframe을 만들고, score가 높은 순서로 정렬하는 코드를 작성하라."
   ]
  },
  {
   "cell_type": "code",
   "execution_count": 42,
   "id": "d5587761-74e1-4470-87eb-65eb687e0d31",
   "metadata": {},
   "outputs": [
    {
     "data": {
      "text/html": [
       "<div>\n",
       "<style scoped>\n",
       "    .dataframe tbody tr th:only-of-type {\n",
       "        vertical-align: middle;\n",
       "    }\n",
       "\n",
       "    .dataframe tbody tr th {\n",
       "        vertical-align: top;\n",
       "    }\n",
       "\n",
       "    .dataframe thead th {\n",
       "        text-align: right;\n",
       "    }\n",
       "</style>\n",
       "<table border=\"1\" class=\"dataframe\">\n",
       "  <thead>\n",
       "    <tr style=\"text-align: right;\">\n",
       "      <th></th>\n",
       "      <th>class</th>\n",
       "      <th>id</th>\n",
       "      <th>score</th>\n",
       "    </tr>\n",
       "  </thead>\n",
       "  <tbody>\n",
       "    <tr>\n",
       "      <th>0</th>\n",
       "      <td>A</td>\n",
       "      <td>0</td>\n",
       "      <td>60</td>\n",
       "    </tr>\n",
       "    <tr>\n",
       "      <th>1</th>\n",
       "      <td>A</td>\n",
       "      <td>1</td>\n",
       "      <td>20</td>\n",
       "    </tr>\n",
       "    <tr>\n",
       "      <th>2</th>\n",
       "      <td>A</td>\n",
       "      <td>2</td>\n",
       "      <td>40</td>\n",
       "    </tr>\n",
       "    <tr>\n",
       "      <th>3</th>\n",
       "      <td>A</td>\n",
       "      <td>3</td>\n",
       "      <td>60</td>\n",
       "    </tr>\n",
       "    <tr>\n",
       "      <th>4</th>\n",
       "      <td>A</td>\n",
       "      <td>4</td>\n",
       "      <td>90</td>\n",
       "    </tr>\n",
       "    <tr>\n",
       "      <th>5</th>\n",
       "      <td>B</td>\n",
       "      <td>0</td>\n",
       "      <td>20</td>\n",
       "    </tr>\n",
       "    <tr>\n",
       "      <th>6</th>\n",
       "      <td>B</td>\n",
       "      <td>1</td>\n",
       "      <td>30</td>\n",
       "    </tr>\n",
       "    <tr>\n",
       "      <th>7</th>\n",
       "      <td>B</td>\n",
       "      <td>2</td>\n",
       "      <td>90</td>\n",
       "    </tr>\n",
       "    <tr>\n",
       "      <th>8</th>\n",
       "      <td>B</td>\n",
       "      <td>3</td>\n",
       "      <td>95</td>\n",
       "    </tr>\n",
       "    <tr>\n",
       "      <th>9</th>\n",
       "      <td>B</td>\n",
       "      <td>4</td>\n",
       "      <td>95</td>\n",
       "    </tr>\n",
       "  </tbody>\n",
       "</table>\n",
       "</div>"
      ],
      "text/plain": [
       "  class  id  score\n",
       "0     A   0     60\n",
       "1     A   1     20\n",
       "2     A   2     40\n",
       "3     A   3     60\n",
       "4     A   4     90\n",
       "5     B   0     20\n",
       "6     B   1     30\n",
       "7     B   2     90\n",
       "8     B   3     95\n",
       "9     B   4     95"
      ]
     },
     "execution_count": 42,
     "metadata": {},
     "output_type": "execute_result"
    }
   ],
   "source": [
    "df = pd.DataFrame({'class':['A']*5+['B']*5, 'id':[0,1,2,3,4]*2, 'score':[60,20,40,60,90,20,30,90,95,95]})\n",
    "df"
   ]
  },
  {
   "cell_type": "code",
   "execution_count": 45,
   "id": "3b040788-efdc-4ca6-a89b-b883a86cd2e9",
   "metadata": {},
   "outputs": [
    {
     "data": {
      "text/html": [
       "<div>\n",
       "<style scoped>\n",
       "    .dataframe tbody tr th:only-of-type {\n",
       "        vertical-align: middle;\n",
       "    }\n",
       "\n",
       "    .dataframe tbody tr th {\n",
       "        vertical-align: top;\n",
       "    }\n",
       "\n",
       "    .dataframe thead th {\n",
       "        text-align: right;\n",
       "    }\n",
       "</style>\n",
       "<table border=\"1\" class=\"dataframe\">\n",
       "  <thead>\n",
       "    <tr style=\"text-align: right;\">\n",
       "      <th></th>\n",
       "      <th>class</th>\n",
       "      <th>id</th>\n",
       "      <th>score</th>\n",
       "    </tr>\n",
       "  </thead>\n",
       "  <tbody>\n",
       "    <tr>\n",
       "      <th>0</th>\n",
       "      <td>A</td>\n",
       "      <td>4</td>\n",
       "      <td>90</td>\n",
       "    </tr>\n",
       "    <tr>\n",
       "      <th>1</th>\n",
       "      <td>A</td>\n",
       "      <td>0</td>\n",
       "      <td>60</td>\n",
       "    </tr>\n",
       "    <tr>\n",
       "      <th>2</th>\n",
       "      <td>A</td>\n",
       "      <td>3</td>\n",
       "      <td>60</td>\n",
       "    </tr>\n",
       "    <tr>\n",
       "      <th>3</th>\n",
       "      <td>A</td>\n",
       "      <td>2</td>\n",
       "      <td>40</td>\n",
       "    </tr>\n",
       "    <tr>\n",
       "      <th>4</th>\n",
       "      <td>A</td>\n",
       "      <td>1</td>\n",
       "      <td>20</td>\n",
       "    </tr>\n",
       "    <tr>\n",
       "      <th>5</th>\n",
       "      <td>B</td>\n",
       "      <td>3</td>\n",
       "      <td>95</td>\n",
       "    </tr>\n",
       "    <tr>\n",
       "      <th>6</th>\n",
       "      <td>B</td>\n",
       "      <td>4</td>\n",
       "      <td>95</td>\n",
       "    </tr>\n",
       "    <tr>\n",
       "      <th>7</th>\n",
       "      <td>B</td>\n",
       "      <td>2</td>\n",
       "      <td>90</td>\n",
       "    </tr>\n",
       "    <tr>\n",
       "      <th>8</th>\n",
       "      <td>B</td>\n",
       "      <td>1</td>\n",
       "      <td>30</td>\n",
       "    </tr>\n",
       "    <tr>\n",
       "      <th>9</th>\n",
       "      <td>B</td>\n",
       "      <td>0</td>\n",
       "      <td>20</td>\n",
       "    </tr>\n",
       "  </tbody>\n",
       "</table>\n",
       "</div>"
      ],
      "text/plain": [
       "  class  id  score\n",
       "0     A   4     90\n",
       "1     A   0     60\n",
       "2     A   3     60\n",
       "3     A   2     40\n",
       "4     A   1     20\n",
       "5     B   3     95\n",
       "6     B   4     95\n",
       "7     B   2     90\n",
       "8     B   1     30\n",
       "9     B   0     20"
      ]
     },
     "execution_count": 45,
     "metadata": {},
     "output_type": "execute_result"
    }
   ],
   "source": [
    "g = df.groupby('class')\n",
    "\n",
    "pd.concat([df.sort_values('score', ascending = False) for i, df in g], axis = 0).reset_index(drop = True)"
   ]
  },
  {
   "cell_type": "markdown",
   "id": "66784ef9-abdd-4724-90ba-033b75520272",
   "metadata": {},
   "source": [
    "## 3. `merge`"
   ]
  },
  {
   "cell_type": "markdown",
   "id": "050f3127-93e9-4dea-baa4-35ba5b4280c7",
   "metadata": {},
   "source": [
    "### **A. 가장 빈번하게 사용되는 상황**\n",
    "---\n",
    "\n",
    "\n"
   ]
  },
  {
   "cell_type": "markdown",
   "id": "6dcf87ea-82f9-4c3e-bde9-ebc915d6ee99",
   "metadata": {},
   "source": [
    "\\- 예시 : `big` 데이터프레임에 `groupby`+`agg`를 사용하여 `small` 데이터프레임이 생긴 경우"
   ]
  },
  {
   "cell_type": "code",
   "execution_count": 46,
   "id": "c46d0b27-4315-4c2b-ba25-f4bffaff3131",
   "metadata": {},
   "outputs": [],
   "source": [
    "big = pd.DataFrame({'department':['A','A','B','B'], 'gender':['male','female','male','female'],'count':[1,2,3,1]})\n",
    "small = pd.DataFrame({'department':['A','B'], 'count_sum':[3,4]})\n",
    "## big.groupby('department').aggregate({'count':'sum'}).rename({'count' : 'count_sum'}, axis = 1)"
   ]
  },
  {
   "cell_type": "code",
   "execution_count": 47,
   "id": "308d06bf-df4b-4b49-8a08-c109ed2d003f",
   "metadata": {},
   "outputs": [
    {
     "data": {
      "text/plain": [
       "'big'"
      ]
     },
     "metadata": {},
     "output_type": "display_data"
    },
    {
     "data": {
      "text/html": [
       "<div>\n",
       "<style scoped>\n",
       "    .dataframe tbody tr th:only-of-type {\n",
       "        vertical-align: middle;\n",
       "    }\n",
       "\n",
       "    .dataframe tbody tr th {\n",
       "        vertical-align: top;\n",
       "    }\n",
       "\n",
       "    .dataframe thead th {\n",
       "        text-align: right;\n",
       "    }\n",
       "</style>\n",
       "<table border=\"1\" class=\"dataframe\">\n",
       "  <thead>\n",
       "    <tr style=\"text-align: right;\">\n",
       "      <th></th>\n",
       "      <th>department</th>\n",
       "      <th>gender</th>\n",
       "      <th>count</th>\n",
       "    </tr>\n",
       "  </thead>\n",
       "  <tbody>\n",
       "    <tr>\n",
       "      <th>0</th>\n",
       "      <td>A</td>\n",
       "      <td>male</td>\n",
       "      <td>1</td>\n",
       "    </tr>\n",
       "    <tr>\n",
       "      <th>1</th>\n",
       "      <td>A</td>\n",
       "      <td>female</td>\n",
       "      <td>2</td>\n",
       "    </tr>\n",
       "    <tr>\n",
       "      <th>2</th>\n",
       "      <td>B</td>\n",
       "      <td>male</td>\n",
       "      <td>3</td>\n",
       "    </tr>\n",
       "    <tr>\n",
       "      <th>3</th>\n",
       "      <td>B</td>\n",
       "      <td>female</td>\n",
       "      <td>1</td>\n",
       "    </tr>\n",
       "  </tbody>\n",
       "</table>\n",
       "</div>"
      ],
      "text/plain": [
       "  department  gender  count\n",
       "0          A    male      1\n",
       "1          A  female      2\n",
       "2          B    male      3\n",
       "3          B  female      1"
      ]
     },
     "metadata": {},
     "output_type": "display_data"
    },
    {
     "data": {
      "text/plain": [
       "'small'"
      ]
     },
     "metadata": {},
     "output_type": "display_data"
    },
    {
     "data": {
      "text/html": [
       "<div>\n",
       "<style scoped>\n",
       "    .dataframe tbody tr th:only-of-type {\n",
       "        vertical-align: middle;\n",
       "    }\n",
       "\n",
       "    .dataframe tbody tr th {\n",
       "        vertical-align: top;\n",
       "    }\n",
       "\n",
       "    .dataframe thead th {\n",
       "        text-align: right;\n",
       "    }\n",
       "</style>\n",
       "<table border=\"1\" class=\"dataframe\">\n",
       "  <thead>\n",
       "    <tr style=\"text-align: right;\">\n",
       "      <th></th>\n",
       "      <th>department</th>\n",
       "      <th>count_sum</th>\n",
       "    </tr>\n",
       "  </thead>\n",
       "  <tbody>\n",
       "    <tr>\n",
       "      <th>0</th>\n",
       "      <td>A</td>\n",
       "      <td>3</td>\n",
       "    </tr>\n",
       "    <tr>\n",
       "      <th>1</th>\n",
       "      <td>B</td>\n",
       "      <td>4</td>\n",
       "    </tr>\n",
       "  </tbody>\n",
       "</table>\n",
       "</div>"
      ],
      "text/plain": [
       "  department  count_sum\n",
       "0          A          3\n",
       "1          B          4"
      ]
     },
     "metadata": {},
     "output_type": "display_data"
    }
   ],
   "source": [
    "display(\"big\",big)\n",
    "display(\"small\",small)"
   ]
  },
  {
   "cell_type": "markdown",
   "id": "af164994-b4ed-40c3-bbd1-c3cb7927adfa",
   "metadata": {},
   "source": [
    "department | gender | count --> big\n",
    "\n",
    "department | count_sum --> small\n",
    "\n",
    "\n",
    "---\n",
    "\n",
    "\n",
    "department | gender | count | count_sum\n",
    "\n",
    "> 이러한 작업을 하고 싶을 때, pd.merge()를 사용하면 된다."
   ]
  },
  {
   "cell_type": "code",
   "execution_count": 52,
   "id": "3f768b13-4289-46e5-8afd-c48241bc256a",
   "metadata": {},
   "outputs": [
    {
     "data": {
      "text/html": [
       "<div>\n",
       "<style scoped>\n",
       "    .dataframe tbody tr th:only-of-type {\n",
       "        vertical-align: middle;\n",
       "    }\n",
       "\n",
       "    .dataframe tbody tr th {\n",
       "        vertical-align: top;\n",
       "    }\n",
       "\n",
       "    .dataframe thead th {\n",
       "        text-align: right;\n",
       "    }\n",
       "</style>\n",
       "<table border=\"1\" class=\"dataframe\">\n",
       "  <thead>\n",
       "    <tr style=\"text-align: right;\">\n",
       "      <th></th>\n",
       "      <th>department</th>\n",
       "      <th>gender</th>\n",
       "      <th>count</th>\n",
       "      <th>count_sum</th>\n",
       "    </tr>\n",
       "  </thead>\n",
       "  <tbody>\n",
       "    <tr>\n",
       "      <th>0</th>\n",
       "      <td>A</td>\n",
       "      <td>male</td>\n",
       "      <td>1</td>\n",
       "      <td>3</td>\n",
       "    </tr>\n",
       "    <tr>\n",
       "      <th>1</th>\n",
       "      <td>A</td>\n",
       "      <td>female</td>\n",
       "      <td>2</td>\n",
       "      <td>3</td>\n",
       "    </tr>\n",
       "    <tr>\n",
       "      <th>2</th>\n",
       "      <td>B</td>\n",
       "      <td>male</td>\n",
       "      <td>3</td>\n",
       "      <td>4</td>\n",
       "    </tr>\n",
       "    <tr>\n",
       "      <th>3</th>\n",
       "      <td>B</td>\n",
       "      <td>female</td>\n",
       "      <td>1</td>\n",
       "      <td>4</td>\n",
       "    </tr>\n",
       "  </tbody>\n",
       "</table>\n",
       "</div>"
      ],
      "text/plain": [
       "  department  gender  count  count_sum\n",
       "0          A    male      1          3\n",
       "1          A  female      2          3\n",
       "2          B    male      3          4\n",
       "3          B  female      1          4"
      ]
     },
     "execution_count": 52,
     "metadata": {},
     "output_type": "execute_result"
    }
   ],
   "source": [
    "pd.merge(big, small)\n",
    "## big.merge(small)\n",
    "## small.merge(big)"
   ]
  },
  {
   "cell_type": "markdown",
   "id": "51bc5ba2-51bf-498a-9d98-4549fa70eb7c",
   "metadata": {},
   "source": [
    "**사실 아래가 정확한 코드이다.**"
   ]
  },
  {
   "cell_type": "code",
   "execution_count": 53,
   "id": "a8232b75-9484-48b4-ae3a-4da46a4f9169",
   "metadata": {},
   "outputs": [
    {
     "data": {
      "text/html": [
       "<div>\n",
       "<style scoped>\n",
       "    .dataframe tbody tr th:only-of-type {\n",
       "        vertical-align: middle;\n",
       "    }\n",
       "\n",
       "    .dataframe tbody tr th {\n",
       "        vertical-align: top;\n",
       "    }\n",
       "\n",
       "    .dataframe thead th {\n",
       "        text-align: right;\n",
       "    }\n",
       "</style>\n",
       "<table border=\"1\" class=\"dataframe\">\n",
       "  <thead>\n",
       "    <tr style=\"text-align: right;\">\n",
       "      <th></th>\n",
       "      <th>department</th>\n",
       "      <th>gender</th>\n",
       "      <th>count</th>\n",
       "      <th>count_sum</th>\n",
       "    </tr>\n",
       "  </thead>\n",
       "  <tbody>\n",
       "    <tr>\n",
       "      <th>0</th>\n",
       "      <td>A</td>\n",
       "      <td>male</td>\n",
       "      <td>1</td>\n",
       "      <td>3</td>\n",
       "    </tr>\n",
       "    <tr>\n",
       "      <th>1</th>\n",
       "      <td>A</td>\n",
       "      <td>female</td>\n",
       "      <td>2</td>\n",
       "      <td>3</td>\n",
       "    </tr>\n",
       "    <tr>\n",
       "      <th>2</th>\n",
       "      <td>B</td>\n",
       "      <td>male</td>\n",
       "      <td>3</td>\n",
       "      <td>4</td>\n",
       "    </tr>\n",
       "    <tr>\n",
       "      <th>3</th>\n",
       "      <td>B</td>\n",
       "      <td>female</td>\n",
       "      <td>1</td>\n",
       "      <td>4</td>\n",
       "    </tr>\n",
       "  </tbody>\n",
       "</table>\n",
       "</div>"
      ],
      "text/plain": [
       "  department  gender  count  count_sum\n",
       "0          A    male      1          3\n",
       "1          A  female      2          3\n",
       "2          B    male      3          4\n",
       "3          B  female      1          4"
      ]
     },
     "execution_count": 53,
     "metadata": {},
     "output_type": "execute_result"
    }
   ],
   "source": [
    "pd.merge(big, small, on = 'department')"
   ]
  },
  {
   "cell_type": "markdown",
   "id": "434dc01e-6270-469b-ab9f-0e03a86d92a5",
   "metadata": {},
   "source": [
    "> 공통부분인 department에 따라 데이터프레임이 병합됨\n",
    "\n",
    "\n",
    "* 두 데이터프레임은 IndexLabel에 대하여 서로 다른 정보를 각각 정리한 상황\n",
    "* 두 데티어프레임에서 공통인 열(IndexLabel(을 찾고, 이것을 기준으로 데이터의 정보를 병합한다."
   ]
  },
  {
   "cell_type": "markdown",
   "id": "140fd6a7-ac6c-4b43-8b24-06e4765038d8",
   "metadata": {},
   "source": [
    "### **B. 여러가지 파라메터**\n",
    "---\n",
    "\n",
    "\n"
   ]
  },
  {
   "cell_type": "markdown",
   "id": "a3d582b8-3d24-41d6-ad65-163aac5461cd",
   "metadata": {},
   "source": [
    "`# on`"
   ]
  },
  {
   "cell_type": "code",
   "execution_count": 54,
   "id": "7b849492-95cd-494f-9e32-880428d21af6",
   "metadata": {},
   "outputs": [
    {
     "data": {
      "text/plain": [
       "'big'"
      ]
     },
     "metadata": {},
     "output_type": "display_data"
    },
    {
     "data": {
      "text/html": [
       "<div>\n",
       "<style scoped>\n",
       "    .dataframe tbody tr th:only-of-type {\n",
       "        vertical-align: middle;\n",
       "    }\n",
       "\n",
       "    .dataframe tbody tr th {\n",
       "        vertical-align: top;\n",
       "    }\n",
       "\n",
       "    .dataframe thead th {\n",
       "        text-align: right;\n",
       "    }\n",
       "</style>\n",
       "<table border=\"1\" class=\"dataframe\">\n",
       "  <thead>\n",
       "    <tr style=\"text-align: right;\">\n",
       "      <th></th>\n",
       "      <th>department</th>\n",
       "      <th>gender</th>\n",
       "      <th>count</th>\n",
       "    </tr>\n",
       "  </thead>\n",
       "  <tbody>\n",
       "    <tr>\n",
       "      <th>0</th>\n",
       "      <td>A</td>\n",
       "      <td>male</td>\n",
       "      <td>1</td>\n",
       "    </tr>\n",
       "    <tr>\n",
       "      <th>1</th>\n",
       "      <td>A</td>\n",
       "      <td>female</td>\n",
       "      <td>2</td>\n",
       "    </tr>\n",
       "    <tr>\n",
       "      <th>2</th>\n",
       "      <td>B</td>\n",
       "      <td>male</td>\n",
       "      <td>3</td>\n",
       "    </tr>\n",
       "    <tr>\n",
       "      <th>3</th>\n",
       "      <td>B</td>\n",
       "      <td>female</td>\n",
       "      <td>1</td>\n",
       "    </tr>\n",
       "  </tbody>\n",
       "</table>\n",
       "</div>"
      ],
      "text/plain": [
       "  department  gender  count\n",
       "0          A    male      1\n",
       "1          A  female      2\n",
       "2          B    male      3\n",
       "3          B  female      1"
      ]
     },
     "metadata": {},
     "output_type": "display_data"
    },
    {
     "data": {
      "text/plain": [
       "'small'"
      ]
     },
     "metadata": {},
     "output_type": "display_data"
    },
    {
     "data": {
      "text/html": [
       "<div>\n",
       "<style scoped>\n",
       "    .dataframe tbody tr th:only-of-type {\n",
       "        vertical-align: middle;\n",
       "    }\n",
       "\n",
       "    .dataframe tbody tr th {\n",
       "        vertical-align: top;\n",
       "    }\n",
       "\n",
       "    .dataframe thead th {\n",
       "        text-align: right;\n",
       "    }\n",
       "</style>\n",
       "<table border=\"1\" class=\"dataframe\">\n",
       "  <thead>\n",
       "    <tr style=\"text-align: right;\">\n",
       "      <th></th>\n",
       "      <th>department</th>\n",
       "      <th>count</th>\n",
       "    </tr>\n",
       "  </thead>\n",
       "  <tbody>\n",
       "    <tr>\n",
       "      <th>0</th>\n",
       "      <td>A</td>\n",
       "      <td>3</td>\n",
       "    </tr>\n",
       "    <tr>\n",
       "      <th>1</th>\n",
       "      <td>B</td>\n",
       "      <td>4</td>\n",
       "    </tr>\n",
       "  </tbody>\n",
       "</table>\n",
       "</div>"
      ],
      "text/plain": [
       "  department  count\n",
       "0          A      3\n",
       "1          B      4"
      ]
     },
     "metadata": {},
     "output_type": "display_data"
    }
   ],
   "source": [
    "big = pd.DataFrame({'department':['A','A','B','B'], 'gender':['male','female','male','female'],'count':[1,2,3,1]})\n",
    "small = big.groupby('department').agg({'count':'sum'}).reset_index()\n",
    "display(\"big\",big)\n",
    "display(\"small\",small)"
   ]
  },
  {
   "cell_type": "markdown",
   "id": "8ffb65a1-053b-4a11-a9c5-d9cf416c7893",
   "metadata": {},
   "source": [
    "\\- 잘못된 코드"
   ]
  },
  {
   "cell_type": "code",
   "execution_count": 63,
   "id": "71fef6da-ee31-4084-b399-3942da4ff331",
   "metadata": {},
   "outputs": [
    {
     "data": {
      "text/html": [
       "<div>\n",
       "<style scoped>\n",
       "    .dataframe tbody tr th:only-of-type {\n",
       "        vertical-align: middle;\n",
       "    }\n",
       "\n",
       "    .dataframe tbody tr th {\n",
       "        vertical-align: top;\n",
       "    }\n",
       "\n",
       "    .dataframe thead th {\n",
       "        text-align: right;\n",
       "    }\n",
       "</style>\n",
       "<table border=\"1\" class=\"dataframe\">\n",
       "  <thead>\n",
       "    <tr style=\"text-align: right;\">\n",
       "      <th></th>\n",
       "      <th>department</th>\n",
       "      <th>gender</th>\n",
       "      <th>count</th>\n",
       "    </tr>\n",
       "  </thead>\n",
       "  <tbody>\n",
       "  </tbody>\n",
       "</table>\n",
       "</div>"
      ],
      "text/plain": [
       "Empty DataFrame\n",
       "Columns: [department, gender, count]\n",
       "Index: []"
      ]
     },
     "execution_count": 63,
     "metadata": {},
     "output_type": "execute_result"
    }
   ],
   "source": [
    "pd.merge(big, small)  ## department와 count가 겹친다. 이름은 겹치지만 count는 의미가 다름"
   ]
  },
  {
   "cell_type": "markdown",
   "id": "9adac648-8281-420e-8e61-27c9334f347c",
   "metadata": {},
   "source": [
    "> 연결고리로 이해\n",
    "\n",
    "'A', 1\n",
    "\n",
    "'A', 2\n",
    "\n",
    "'B', 3\n",
    "\n",
    "'B', 1\n",
    "\n",
    "\n",
    "---\n",
    "\n",
    "\n",
    "'A', 3\n",
    "\n",
    "'B', 4\n",
    "\n",
    "두 데이터프레임의 연결고리가 없다. 따라서 아무것도 산출할 수 없다..."
   ]
  },
  {
   "cell_type": "markdown",
   "id": "837f3ad5-5caa-43a0-991a-25008d96afcf",
   "metadata": {},
   "source": [
    "\\- 제대로 쓴 코드"
   ]
  },
  {
   "cell_type": "code",
   "execution_count": 64,
   "id": "b73c3d4c-e66a-48e4-a218-dcce53e5edd2",
   "metadata": {},
   "outputs": [
    {
     "data": {
      "text/html": [
       "<div>\n",
       "<style scoped>\n",
       "    .dataframe tbody tr th:only-of-type {\n",
       "        vertical-align: middle;\n",
       "    }\n",
       "\n",
       "    .dataframe tbody tr th {\n",
       "        vertical-align: top;\n",
       "    }\n",
       "\n",
       "    .dataframe thead th {\n",
       "        text-align: right;\n",
       "    }\n",
       "</style>\n",
       "<table border=\"1\" class=\"dataframe\">\n",
       "  <thead>\n",
       "    <tr style=\"text-align: right;\">\n",
       "      <th></th>\n",
       "      <th>department</th>\n",
       "      <th>gender</th>\n",
       "      <th>count_x</th>\n",
       "      <th>count_y</th>\n",
       "    </tr>\n",
       "  </thead>\n",
       "  <tbody>\n",
       "    <tr>\n",
       "      <th>0</th>\n",
       "      <td>A</td>\n",
       "      <td>male</td>\n",
       "      <td>1</td>\n",
       "      <td>3</td>\n",
       "    </tr>\n",
       "    <tr>\n",
       "      <th>1</th>\n",
       "      <td>A</td>\n",
       "      <td>female</td>\n",
       "      <td>2</td>\n",
       "      <td>3</td>\n",
       "    </tr>\n",
       "    <tr>\n",
       "      <th>2</th>\n",
       "      <td>B</td>\n",
       "      <td>male</td>\n",
       "      <td>3</td>\n",
       "      <td>4</td>\n",
       "    </tr>\n",
       "    <tr>\n",
       "      <th>3</th>\n",
       "      <td>B</td>\n",
       "      <td>female</td>\n",
       "      <td>1</td>\n",
       "      <td>4</td>\n",
       "    </tr>\n",
       "  </tbody>\n",
       "</table>\n",
       "</div>"
      ],
      "text/plain": [
       "  department  gender  count_x  count_y\n",
       "0          A    male        1        3\n",
       "1          A  female        2        3\n",
       "2          B    male        3        4\n",
       "3          B  female        1        4"
      ]
     },
     "execution_count": 64,
     "metadata": {},
     "output_type": "execute_result"
    }
   ],
   "source": [
    "pd.merge(big, small, on = 'department')"
   ]
  },
  {
   "cell_type": "markdown",
   "id": "3c15d3dc-30f0-479c-9cf6-31d3bef58047",
   "metadata": {},
   "source": [
    "\\- 열의 이름을 살리면서..."
   ]
  },
  {
   "cell_type": "code",
   "execution_count": 59,
   "id": "e87892a4-ea06-441a-8c01-c756c6bf7848",
   "metadata": {},
   "outputs": [
    {
     "data": {
      "text/html": [
       "<div>\n",
       "<style scoped>\n",
       "    .dataframe tbody tr th:only-of-type {\n",
       "        vertical-align: middle;\n",
       "    }\n",
       "\n",
       "    .dataframe tbody tr th {\n",
       "        vertical-align: top;\n",
       "    }\n",
       "\n",
       "    .dataframe thead th {\n",
       "        text-align: right;\n",
       "    }\n",
       "</style>\n",
       "<table border=\"1\" class=\"dataframe\">\n",
       "  <thead>\n",
       "    <tr style=\"text-align: right;\">\n",
       "      <th></th>\n",
       "      <th>department</th>\n",
       "      <th>gender</th>\n",
       "      <th>count</th>\n",
       "      <th>count_sum</th>\n",
       "    </tr>\n",
       "  </thead>\n",
       "  <tbody>\n",
       "    <tr>\n",
       "      <th>0</th>\n",
       "      <td>A</td>\n",
       "      <td>male</td>\n",
       "      <td>1</td>\n",
       "      <td>3</td>\n",
       "    </tr>\n",
       "    <tr>\n",
       "      <th>1</th>\n",
       "      <td>A</td>\n",
       "      <td>female</td>\n",
       "      <td>2</td>\n",
       "      <td>3</td>\n",
       "    </tr>\n",
       "    <tr>\n",
       "      <th>2</th>\n",
       "      <td>B</td>\n",
       "      <td>male</td>\n",
       "      <td>3</td>\n",
       "      <td>4</td>\n",
       "    </tr>\n",
       "    <tr>\n",
       "      <th>3</th>\n",
       "      <td>B</td>\n",
       "      <td>female</td>\n",
       "      <td>1</td>\n",
       "      <td>4</td>\n",
       "    </tr>\n",
       "  </tbody>\n",
       "</table>\n",
       "</div>"
      ],
      "text/plain": [
       "  department  gender  count  count_sum\n",
       "0          A    male      1          3\n",
       "1          A  female      2          3\n",
       "2          B    male      3          4\n",
       "3          B  female      1          4"
      ]
     },
     "execution_count": 59,
     "metadata": {},
     "output_type": "execute_result"
    }
   ],
   "source": [
    "pd.merge(big, small.rename({'count' : 'count_sum'}, axis = 1))  ## 공통부분을 없애줌"
   ]
  },
  {
   "cell_type": "markdown",
   "id": "439f1228-5684-4c14-9013-7c611c3d0331",
   "metadata": {},
   "source": [
    "> 어차피 이름을 바꿔야 하니, 처음부터 양식에 맞게 해주는 게 더 좋을 수 있음..."
   ]
  },
  {
   "cell_type": "markdown",
   "id": "a97a6109-1cd4-40f7-9102-5808d2786dfc",
   "metadata": {},
   "source": [
    "**사실 아래 둘은 같은 코드이다.**"
   ]
  },
  {
   "cell_type": "code",
   "execution_count": 65,
   "id": "7d272f00-8e4f-4f09-a040-dbdb3c47c7fd",
   "metadata": {},
   "outputs": [
    {
     "data": {
      "text/html": [
       "<div>\n",
       "<style scoped>\n",
       "    .dataframe tbody tr th:only-of-type {\n",
       "        vertical-align: middle;\n",
       "    }\n",
       "\n",
       "    .dataframe tbody tr th {\n",
       "        vertical-align: top;\n",
       "    }\n",
       "\n",
       "    .dataframe thead th {\n",
       "        text-align: right;\n",
       "    }\n",
       "</style>\n",
       "<table border=\"1\" class=\"dataframe\">\n",
       "  <thead>\n",
       "    <tr style=\"text-align: right;\">\n",
       "      <th></th>\n",
       "      <th>department</th>\n",
       "      <th>gender</th>\n",
       "      <th>count_x</th>\n",
       "      <th>count_y</th>\n",
       "    </tr>\n",
       "  </thead>\n",
       "  <tbody>\n",
       "    <tr>\n",
       "      <th>0</th>\n",
       "      <td>A</td>\n",
       "      <td>male</td>\n",
       "      <td>1</td>\n",
       "      <td>3</td>\n",
       "    </tr>\n",
       "    <tr>\n",
       "      <th>1</th>\n",
       "      <td>A</td>\n",
       "      <td>female</td>\n",
       "      <td>2</td>\n",
       "      <td>3</td>\n",
       "    </tr>\n",
       "    <tr>\n",
       "      <th>2</th>\n",
       "      <td>B</td>\n",
       "      <td>male</td>\n",
       "      <td>3</td>\n",
       "      <td>4</td>\n",
       "    </tr>\n",
       "    <tr>\n",
       "      <th>3</th>\n",
       "      <td>B</td>\n",
       "      <td>female</td>\n",
       "      <td>1</td>\n",
       "      <td>4</td>\n",
       "    </tr>\n",
       "  </tbody>\n",
       "</table>\n",
       "</div>"
      ],
      "text/plain": [
       "  department  gender  count_x  count_y\n",
       "0          A    male        1        3\n",
       "1          A  female        2        3\n",
       "2          B    male        3        4\n",
       "3          B  female        1        4"
      ]
     },
     "execution_count": 65,
     "metadata": {},
     "output_type": "execute_result"
    }
   ],
   "source": [
    "pd.merge(big,small,on='department')\n",
    "pd.merge(big,small,left_on='department', right_on='department')"
   ]
  },
  {
   "cell_type": "markdown",
   "id": "70706a88-cd65-4444-8395-4387ca076f34",
   "metadata": {},
   "source": [
    "`# left_on, right_on`"
   ]
  },
  {
   "cell_type": "code",
   "execution_count": 66,
   "id": "2d300005-49d7-48f0-88a6-3b55ff262328",
   "metadata": {},
   "outputs": [
    {
     "data": {
      "text/plain": [
       "'big'"
      ]
     },
     "metadata": {},
     "output_type": "display_data"
    },
    {
     "data": {
      "text/html": [
       "<div>\n",
       "<style scoped>\n",
       "    .dataframe tbody tr th:only-of-type {\n",
       "        vertical-align: middle;\n",
       "    }\n",
       "\n",
       "    .dataframe tbody tr th {\n",
       "        vertical-align: top;\n",
       "    }\n",
       "\n",
       "    .dataframe thead th {\n",
       "        text-align: right;\n",
       "    }\n",
       "</style>\n",
       "<table border=\"1\" class=\"dataframe\">\n",
       "  <thead>\n",
       "    <tr style=\"text-align: right;\">\n",
       "      <th></th>\n",
       "      <th>department</th>\n",
       "      <th>gender</th>\n",
       "      <th>count</th>\n",
       "    </tr>\n",
       "  </thead>\n",
       "  <tbody>\n",
       "    <tr>\n",
       "      <th>0</th>\n",
       "      <td>A</td>\n",
       "      <td>male</td>\n",
       "      <td>1</td>\n",
       "    </tr>\n",
       "    <tr>\n",
       "      <th>1</th>\n",
       "      <td>A</td>\n",
       "      <td>female</td>\n",
       "      <td>2</td>\n",
       "    </tr>\n",
       "    <tr>\n",
       "      <th>2</th>\n",
       "      <td>B</td>\n",
       "      <td>male</td>\n",
       "      <td>3</td>\n",
       "    </tr>\n",
       "    <tr>\n",
       "      <th>3</th>\n",
       "      <td>B</td>\n",
       "      <td>female</td>\n",
       "      <td>1</td>\n",
       "    </tr>\n",
       "  </tbody>\n",
       "</table>\n",
       "</div>"
      ],
      "text/plain": [
       "  department  gender  count\n",
       "0          A    male      1\n",
       "1          A  female      2\n",
       "2          B    male      3\n",
       "3          B  female      1"
      ]
     },
     "metadata": {},
     "output_type": "display_data"
    },
    {
     "data": {
      "text/plain": [
       "'small'"
      ]
     },
     "metadata": {},
     "output_type": "display_data"
    },
    {
     "data": {
      "text/html": [
       "<div>\n",
       "<style scoped>\n",
       "    .dataframe tbody tr th:only-of-type {\n",
       "        vertical-align: middle;\n",
       "    }\n",
       "\n",
       "    .dataframe tbody tr th {\n",
       "        vertical-align: top;\n",
       "    }\n",
       "\n",
       "    .dataframe thead th {\n",
       "        text-align: right;\n",
       "    }\n",
       "</style>\n",
       "<table border=\"1\" class=\"dataframe\">\n",
       "  <thead>\n",
       "    <tr style=\"text-align: right;\">\n",
       "      <th></th>\n",
       "      <th>dept</th>\n",
       "      <th>count</th>\n",
       "    </tr>\n",
       "  </thead>\n",
       "  <tbody>\n",
       "    <tr>\n",
       "      <th>0</th>\n",
       "      <td>A</td>\n",
       "      <td>3</td>\n",
       "    </tr>\n",
       "    <tr>\n",
       "      <th>1</th>\n",
       "      <td>B</td>\n",
       "      <td>4</td>\n",
       "    </tr>\n",
       "  </tbody>\n",
       "</table>\n",
       "</div>"
      ],
      "text/plain": [
       "  dept  count\n",
       "0    A      3\n",
       "1    B      4"
      ]
     },
     "metadata": {},
     "output_type": "display_data"
    }
   ],
   "source": [
    "big = pd.DataFrame({'department':['A','A','B','B'], 'gender':['male','female','male','female'],'count':[1,2,3,1]})\n",
    "small = pd.DataFrame({'dept':['A','B'], 'count':[3,4]})\n",
    "display(\"big\",big)\n",
    "display(\"small\",small)"
   ]
  },
  {
   "cell_type": "markdown",
   "id": "16130077-bf27-4a2e-adf1-f803abcd6106",
   "metadata": {},
   "source": [
    "> 공통부분은 `count`이고, 오히려 다른 부분은 모두 공통되지 않은 상황"
   ]
  },
  {
   "cell_type": "code",
   "execution_count": 67,
   "id": "ccd1e9da-0888-40dc-8559-ae847a61e7be",
   "metadata": {},
   "outputs": [
    {
     "data": {
      "text/html": [
       "<div>\n",
       "<style scoped>\n",
       "    .dataframe tbody tr th:only-of-type {\n",
       "        vertical-align: middle;\n",
       "    }\n",
       "\n",
       "    .dataframe tbody tr th {\n",
       "        vertical-align: top;\n",
       "    }\n",
       "\n",
       "    .dataframe thead th {\n",
       "        text-align: right;\n",
       "    }\n",
       "</style>\n",
       "<table border=\"1\" class=\"dataframe\">\n",
       "  <thead>\n",
       "    <tr style=\"text-align: right;\">\n",
       "      <th></th>\n",
       "      <th>department</th>\n",
       "      <th>gender</th>\n",
       "      <th>count</th>\n",
       "      <th>dept</th>\n",
       "    </tr>\n",
       "  </thead>\n",
       "  <tbody>\n",
       "    <tr>\n",
       "      <th>0</th>\n",
       "      <td>B</td>\n",
       "      <td>male</td>\n",
       "      <td>3</td>\n",
       "      <td>A</td>\n",
       "    </tr>\n",
       "  </tbody>\n",
       "</table>\n",
       "</div>"
      ],
      "text/plain": [
       "  department gender  count dept\n",
       "0          B   male      3    A"
      ]
     },
     "execution_count": 67,
     "metadata": {},
     "output_type": "execute_result"
    }
   ],
   "source": [
    "pd.merge(big, small)"
   ]
  },
  {
   "cell_type": "markdown",
   "id": "0aca8efe-e643-47c0-b3ef-bd789bb9fe85",
   "metadata": {},
   "source": [
    "> count로 합치면서 지랄이 난다."
   ]
  },
  {
   "cell_type": "markdown",
   "id": "f89e95eb-1272-4579-a6a7-9571a9b500ee",
   "metadata": {},
   "source": [
    "\\- department, dept를 기준으로 병합..."
   ]
  },
  {
   "cell_type": "code",
   "execution_count": 72,
   "id": "1bc9702c-5d08-45fe-a02b-0768bf998b00",
   "metadata": {},
   "outputs": [
    {
     "data": {
      "text/html": [
       "<div>\n",
       "<style scoped>\n",
       "    .dataframe tbody tr th:only-of-type {\n",
       "        vertical-align: middle;\n",
       "    }\n",
       "\n",
       "    .dataframe tbody tr th {\n",
       "        vertical-align: top;\n",
       "    }\n",
       "\n",
       "    .dataframe thead th {\n",
       "        text-align: right;\n",
       "    }\n",
       "</style>\n",
       "<table border=\"1\" class=\"dataframe\">\n",
       "  <thead>\n",
       "    <tr style=\"text-align: right;\">\n",
       "      <th></th>\n",
       "      <th>department</th>\n",
       "      <th>gender</th>\n",
       "      <th>count_x</th>\n",
       "      <th>dept</th>\n",
       "      <th>count_y</th>\n",
       "    </tr>\n",
       "  </thead>\n",
       "  <tbody>\n",
       "    <tr>\n",
       "      <th>0</th>\n",
       "      <td>A</td>\n",
       "      <td>male</td>\n",
       "      <td>1</td>\n",
       "      <td>A</td>\n",
       "      <td>3</td>\n",
       "    </tr>\n",
       "    <tr>\n",
       "      <th>1</th>\n",
       "      <td>A</td>\n",
       "      <td>female</td>\n",
       "      <td>2</td>\n",
       "      <td>A</td>\n",
       "      <td>3</td>\n",
       "    </tr>\n",
       "    <tr>\n",
       "      <th>2</th>\n",
       "      <td>B</td>\n",
       "      <td>male</td>\n",
       "      <td>3</td>\n",
       "      <td>B</td>\n",
       "      <td>4</td>\n",
       "    </tr>\n",
       "    <tr>\n",
       "      <th>3</th>\n",
       "      <td>B</td>\n",
       "      <td>female</td>\n",
       "      <td>1</td>\n",
       "      <td>B</td>\n",
       "      <td>4</td>\n",
       "    </tr>\n",
       "  </tbody>\n",
       "</table>\n",
       "</div>"
      ],
      "text/plain": [
       "  department  gender  count_x dept  count_y\n",
       "0          A    male        1    A        3\n",
       "1          A  female        2    A        3\n",
       "2          B    male        3    B        4\n",
       "3          B  female        1    B        4"
      ]
     },
     "execution_count": 72,
     "metadata": {},
     "output_type": "execute_result"
    }
   ],
   "source": [
    "pd.merge(big, small, left_on = 'department', right_on = 'dept')\n",
    "## 왼쪽 데이터프레임에선 department, 오른쪽 데이터프레임에선 dept를 기준으로 삼음..."
   ]
  },
  {
   "cell_type": "markdown",
   "id": "d449f0b5-6e40-43cf-91ce-9c1506293180",
   "metadata": {},
   "source": [
    "\\- 더 직관적이고 편하게..."
   ]
  },
  {
   "cell_type": "code",
   "execution_count": 68,
   "id": "6d04797d-bb2b-4db6-bdd4-8baeb1d11152",
   "metadata": {},
   "outputs": [
    {
     "data": {
      "text/html": [
       "<div>\n",
       "<style scoped>\n",
       "    .dataframe tbody tr th:only-of-type {\n",
       "        vertical-align: middle;\n",
       "    }\n",
       "\n",
       "    .dataframe tbody tr th {\n",
       "        vertical-align: top;\n",
       "    }\n",
       "\n",
       "    .dataframe thead th {\n",
       "        text-align: right;\n",
       "    }\n",
       "</style>\n",
       "<table border=\"1\" class=\"dataframe\">\n",
       "  <thead>\n",
       "    <tr style=\"text-align: right;\">\n",
       "      <th></th>\n",
       "      <th>department</th>\n",
       "      <th>gender</th>\n",
       "      <th>count</th>\n",
       "      <th>count_sum</th>\n",
       "    </tr>\n",
       "  </thead>\n",
       "  <tbody>\n",
       "    <tr>\n",
       "      <th>0</th>\n",
       "      <td>A</td>\n",
       "      <td>male</td>\n",
       "      <td>1</td>\n",
       "      <td>3</td>\n",
       "    </tr>\n",
       "    <tr>\n",
       "      <th>1</th>\n",
       "      <td>A</td>\n",
       "      <td>female</td>\n",
       "      <td>2</td>\n",
       "      <td>3</td>\n",
       "    </tr>\n",
       "    <tr>\n",
       "      <th>2</th>\n",
       "      <td>B</td>\n",
       "      <td>male</td>\n",
       "      <td>3</td>\n",
       "      <td>4</td>\n",
       "    </tr>\n",
       "    <tr>\n",
       "      <th>3</th>\n",
       "      <td>B</td>\n",
       "      <td>female</td>\n",
       "      <td>1</td>\n",
       "      <td>4</td>\n",
       "    </tr>\n",
       "  </tbody>\n",
       "</table>\n",
       "</div>"
      ],
      "text/plain": [
       "  department  gender  count  count_sum\n",
       "0          A    male      1          3\n",
       "1          A  female      2          3\n",
       "2          B    male      3          4\n",
       "3          B  female      1          4"
      ]
     },
     "execution_count": 68,
     "metadata": {},
     "output_type": "execute_result"
    }
   ],
   "source": [
    "pd.merge(big, small.rename({'dept' : 'department', 'count' : 'count_sum'}, axis = 1))"
   ]
  },
  {
   "cell_type": "markdown",
   "id": "7dcc44e0-abff-4a37-bd5c-e9ab3a63c6bb",
   "metadata": {},
   "source": [
    "> 강제로 한 열만 이름이 같도록 해서 공통부분을 지정해줬다.(훨씬 편하지요옹?)"
   ]
  },
  {
   "cell_type": "markdown",
   "id": "61c34450-8f36-495d-996f-91959c226fa4",
   "metadata": {},
   "source": [
    "`# how`"
   ]
  },
  {
   "cell_type": "code",
   "execution_count": 70,
   "id": "0aeee708-66eb-4846-a76d-a5fe35dd4b15",
   "metadata": {},
   "outputs": [
    {
     "data": {
      "text/plain": [
       "'df1'"
      ]
     },
     "metadata": {},
     "output_type": "display_data"
    },
    {
     "data": {
      "text/html": [
       "<div>\n",
       "<style scoped>\n",
       "    .dataframe tbody tr th:only-of-type {\n",
       "        vertical-align: middle;\n",
       "    }\n",
       "\n",
       "    .dataframe tbody tr th {\n",
       "        vertical-align: top;\n",
       "    }\n",
       "\n",
       "    .dataframe thead th {\n",
       "        text-align: right;\n",
       "    }\n",
       "</style>\n",
       "<table border=\"1\" class=\"dataframe\">\n",
       "  <thead>\n",
       "    <tr style=\"text-align: right;\">\n",
       "      <th></th>\n",
       "      <th>dept</th>\n",
       "      <th>count</th>\n",
       "    </tr>\n",
       "  </thead>\n",
       "  <tbody>\n",
       "    <tr>\n",
       "      <th>0</th>\n",
       "      <td>통계</td>\n",
       "      <td>20</td>\n",
       "    </tr>\n",
       "    <tr>\n",
       "      <th>1</th>\n",
       "      <td>수학</td>\n",
       "      <td>30</td>\n",
       "    </tr>\n",
       "    <tr>\n",
       "      <th>2</th>\n",
       "      <td>과학</td>\n",
       "      <td>25</td>\n",
       "    </tr>\n",
       "    <tr>\n",
       "      <th>3</th>\n",
       "      <td>IAB</td>\n",
       "      <td>50</td>\n",
       "    </tr>\n",
       "  </tbody>\n",
       "</table>\n",
       "</div>"
      ],
      "text/plain": [
       "  dept  count\n",
       "0   통계     20\n",
       "1   수학     30\n",
       "2   과학     25\n",
       "3  IAB     50"
      ]
     },
     "metadata": {},
     "output_type": "display_data"
    },
    {
     "data": {
      "text/plain": [
       "'df2'"
      ]
     },
     "metadata": {},
     "output_type": "display_data"
    },
    {
     "data": {
      "text/html": [
       "<div>\n",
       "<style scoped>\n",
       "    .dataframe tbody tr th:only-of-type {\n",
       "        vertical-align: middle;\n",
       "    }\n",
       "\n",
       "    .dataframe tbody tr th {\n",
       "        vertical-align: top;\n",
       "    }\n",
       "\n",
       "    .dataframe thead th {\n",
       "        text-align: right;\n",
       "    }\n",
       "</style>\n",
       "<table border=\"1\" class=\"dataframe\">\n",
       "  <thead>\n",
       "    <tr style=\"text-align: right;\">\n",
       "      <th></th>\n",
       "      <th>dept</th>\n",
       "      <th>desc</th>\n",
       "    </tr>\n",
       "  </thead>\n",
       "  <tbody>\n",
       "    <tr>\n",
       "      <th>0</th>\n",
       "      <td>통계</td>\n",
       "      <td>통계학과는...</td>\n",
       "    </tr>\n",
       "    <tr>\n",
       "      <th>1</th>\n",
       "      <td>수학</td>\n",
       "      <td>수학과는...</td>\n",
       "    </tr>\n",
       "    <tr>\n",
       "      <th>2</th>\n",
       "      <td>과학</td>\n",
       "      <td>과학학과는...</td>\n",
       "    </tr>\n",
       "    <tr>\n",
       "      <th>3</th>\n",
       "      <td>신설학과</td>\n",
       "      <td>이 학과는 내년에 신설될 예정이고...</td>\n",
       "    </tr>\n",
       "  </tbody>\n",
       "</table>\n",
       "</div>"
      ],
      "text/plain": [
       "   dept                   desc\n",
       "0    통계               통계학과는...\n",
       "1    수학                수학과는...\n",
       "2    과학               과학학과는...\n",
       "3  신설학과  이 학과는 내년에 신설될 예정이고..."
      ]
     },
     "metadata": {},
     "output_type": "display_data"
    }
   ],
   "source": [
    "df1 = pd.DataFrame({\n",
    "    'dept':['통계','수학','과학','IAB'], \n",
    "    'count':[20,30,25,50]\n",
    "})\n",
    "df2 = pd.DataFrame({\n",
    "    'dept':['통계','수학','과학','신설학과'], \n",
    "    'desc':['통계학과는...','수학과는...','과학학과는...','이 학과는 내년에 신설될 예정이고...']\n",
    "})\n",
    "display(\"df1\",df1)\n",
    "display(\"df2\",df2)"
   ]
  },
  {
   "cell_type": "markdown",
   "id": "5d407088-c3e7-443f-a594-f79e2c1036f4",
   "metadata": {},
   "source": [
    "공통의 열인 dept, 서로 다른 정보인 count와 desc\n",
    "\n",
    "> on, left_on, right_on을 사용할 필요가 없다."
   ]
  },
  {
   "cell_type": "code",
   "execution_count": 74,
   "id": "929c79d0-fcd9-4efe-9a6d-8c242f876230",
   "metadata": {},
   "outputs": [
    {
     "data": {
      "text/html": [
       "<div>\n",
       "<style scoped>\n",
       "    .dataframe tbody tr th:only-of-type {\n",
       "        vertical-align: middle;\n",
       "    }\n",
       "\n",
       "    .dataframe tbody tr th {\n",
       "        vertical-align: top;\n",
       "    }\n",
       "\n",
       "    .dataframe thead th {\n",
       "        text-align: right;\n",
       "    }\n",
       "</style>\n",
       "<table border=\"1\" class=\"dataframe\">\n",
       "  <thead>\n",
       "    <tr style=\"text-align: right;\">\n",
       "      <th></th>\n",
       "      <th>dept</th>\n",
       "      <th>count</th>\n",
       "      <th>desc</th>\n",
       "    </tr>\n",
       "  </thead>\n",
       "  <tbody>\n",
       "    <tr>\n",
       "      <th>0</th>\n",
       "      <td>통계</td>\n",
       "      <td>20</td>\n",
       "      <td>통계학과는...</td>\n",
       "    </tr>\n",
       "    <tr>\n",
       "      <th>1</th>\n",
       "      <td>수학</td>\n",
       "      <td>30</td>\n",
       "      <td>수학과는...</td>\n",
       "    </tr>\n",
       "    <tr>\n",
       "      <th>2</th>\n",
       "      <td>과학</td>\n",
       "      <td>25</td>\n",
       "      <td>과학학과는...</td>\n",
       "    </tr>\n",
       "  </tbody>\n",
       "</table>\n",
       "</div>"
      ],
      "text/plain": [
       "  dept  count      desc\n",
       "0   통계     20  통계학과는...\n",
       "1   수학     30   수학과는...\n",
       "2   과학     25  과학학과는..."
      ]
     },
     "execution_count": 74,
     "metadata": {},
     "output_type": "execute_result"
    }
   ],
   "source": [
    "pd.merge(df1, df2)  ## IAB, 신설학과가 미아됨"
   ]
  },
  {
   "cell_type": "markdown",
   "id": "c31ee0b1-48dd-4fa3-a0f9-5512577a3c93",
   "metadata": {},
   "source": [
    "> 근데 겹치지 않는 것이 없어졌음...\n",
    "\n",
    "\n",
    "겹치지 않는 자료를 처리하는 방식은 4가지 경우로 나누어진다."
   ]
  },
  {
   "cell_type": "code",
   "execution_count": 79,
   "id": "b1b05920-2620-4da3-a1e1-67ab6f8bf099",
   "metadata": {},
   "outputs": [
    {
     "data": {
      "text/html": [
       "<div>\n",
       "<style scoped>\n",
       "    .dataframe tbody tr th:only-of-type {\n",
       "        vertical-align: middle;\n",
       "    }\n",
       "\n",
       "    .dataframe tbody tr th {\n",
       "        vertical-align: top;\n",
       "    }\n",
       "\n",
       "    .dataframe thead th {\n",
       "        text-align: right;\n",
       "    }\n",
       "</style>\n",
       "<table border=\"1\" class=\"dataframe\">\n",
       "  <thead>\n",
       "    <tr style=\"text-align: right;\">\n",
       "      <th></th>\n",
       "      <th>dept</th>\n",
       "      <th>count</th>\n",
       "      <th>desc</th>\n",
       "    </tr>\n",
       "  </thead>\n",
       "  <tbody>\n",
       "    <tr>\n",
       "      <th>0</th>\n",
       "      <td>통계</td>\n",
       "      <td>20.0</td>\n",
       "      <td>통계학과는...</td>\n",
       "    </tr>\n",
       "    <tr>\n",
       "      <th>1</th>\n",
       "      <td>수학</td>\n",
       "      <td>30.0</td>\n",
       "      <td>수학과는...</td>\n",
       "    </tr>\n",
       "    <tr>\n",
       "      <th>2</th>\n",
       "      <td>과학</td>\n",
       "      <td>25.0</td>\n",
       "      <td>과학학과는...</td>\n",
       "    </tr>\n",
       "    <tr>\n",
       "      <th>3</th>\n",
       "      <td>IAB</td>\n",
       "      <td>50.0</td>\n",
       "      <td>NaN</td>\n",
       "    </tr>\n",
       "    <tr>\n",
       "      <th>4</th>\n",
       "      <td>신설학과</td>\n",
       "      <td>NaN</td>\n",
       "      <td>이 학과는 내년에 신설될 예정이고...</td>\n",
       "    </tr>\n",
       "  </tbody>\n",
       "</table>\n",
       "</div>"
      ],
      "text/plain": [
       "   dept  count                   desc\n",
       "0    통계   20.0               통계학과는...\n",
       "1    수학   30.0                수학과는...\n",
       "2    과학   25.0               과학학과는...\n",
       "3   IAB   50.0                    NaN\n",
       "4  신설학과    NaN  이 학과는 내년에 신설될 예정이고..."
      ]
     },
     "execution_count": 79,
     "metadata": {},
     "output_type": "execute_result"
    }
   ],
   "source": [
    "#pd.merge(df1, df2, how = 'inner')  ## 보수적으로, 자료가 없으면 없앰, default\n",
    "#pd.merge(df1, df2, how = 'left')  ## 왼쪽 거 기준으로(첫 번째)\n",
    "#pd.merge(df1, df2, how = 'right')  ## 오른쪽 거 기준으로(두 번째)\n",
    "pd.merge(df1, df2, how = 'outer')  ## 개방적으로, 자료를 전부 보전"
   ]
  },
  {
   "cell_type": "markdown",
   "id": "dc647b10-8f61-4070-9ee1-c684b256fabb",
   "metadata": {},
   "source": [
    "## 4. `concat`, `merge`를 이용한 데이터 병합"
   ]
  },
  {
   "cell_type": "code",
   "execution_count": 80,
   "id": "9a813ca3-3731-49e0-a8ed-02753321d889",
   "metadata": {},
   "outputs": [
    {
     "data": {
      "text/html": [
       "<div>\n",
       "<style scoped>\n",
       "    .dataframe tbody tr th:only-of-type {\n",
       "        vertical-align: middle;\n",
       "    }\n",
       "\n",
       "    .dataframe tbody tr th {\n",
       "        vertical-align: top;\n",
       "    }\n",
       "\n",
       "    .dataframe thead th {\n",
       "        text-align: right;\n",
       "    }\n",
       "</style>\n",
       "<table border=\"1\" class=\"dataframe\">\n",
       "  <thead>\n",
       "    <tr style=\"text-align: right;\">\n",
       "      <th></th>\n",
       "      <th>name</th>\n",
       "      <th>year</th>\n",
       "      <th>course</th>\n",
       "    </tr>\n",
       "  </thead>\n",
       "  <tbody>\n",
       "    <tr>\n",
       "      <th>0</th>\n",
       "      <td>최규빈</td>\n",
       "      <td>2023</td>\n",
       "      <td>파이썬프로그래밍</td>\n",
       "    </tr>\n",
       "    <tr>\n",
       "      <th>1</th>\n",
       "      <td>최규빈</td>\n",
       "      <td>2023</td>\n",
       "      <td>데이터시각화</td>\n",
       "    </tr>\n",
       "    <tr>\n",
       "      <th>2</th>\n",
       "      <td>최규빈</td>\n",
       "      <td>2023</td>\n",
       "      <td>기계학습활용</td>\n",
       "    </tr>\n",
       "    <tr>\n",
       "      <th>3</th>\n",
       "      <td>최혜미</td>\n",
       "      <td>2023</td>\n",
       "      <td>수리통계1</td>\n",
       "    </tr>\n",
       "    <tr>\n",
       "      <th>4</th>\n",
       "      <td>최혜미</td>\n",
       "      <td>2023</td>\n",
       "      <td>수리통계2</td>\n",
       "    </tr>\n",
       "    <tr>\n",
       "      <th>5</th>\n",
       "      <td>이영미</td>\n",
       "      <td>2023</td>\n",
       "      <td>회귀분석1</td>\n",
       "    </tr>\n",
       "    <tr>\n",
       "      <th>6</th>\n",
       "      <td>양성준</td>\n",
       "      <td>2023</td>\n",
       "      <td>통계수학</td>\n",
       "    </tr>\n",
       "  </tbody>\n",
       "</table>\n",
       "</div>"
      ],
      "text/plain": [
       "  name  year    course\n",
       "0  최규빈  2023  파이썬프로그래밍\n",
       "1  최규빈  2023    데이터시각화\n",
       "2  최규빈  2023    기계학습활용\n",
       "3  최혜미  2023     수리통계1\n",
       "4  최혜미  2023     수리통계2\n",
       "5  이영미  2023     회귀분석1\n",
       "6  양성준  2023      통계수학"
      ]
     },
     "execution_count": 80,
     "metadata": {},
     "output_type": "execute_result"
    }
   ],
   "source": [
    "df_course2023 = pd.DataFrame({\n",
    "    'name':['최규빈']*3+['최혜미']*2+['이영미']+['양성준'],\n",
    "    'year':[2023]*7,\n",
    "    'course':['파이썬프로그래밍', '데이터시각화', '기계학습활용','수리통계1', '수리통계2','회귀분석1','통계수학']})\n",
    "df_course2023"
   ]
  },
  {
   "cell_type": "code",
   "execution_count": 81,
   "id": "2f5c2a86-a75d-4dbe-ac39-7f5030babc63",
   "metadata": {},
   "outputs": [
    {
     "data": {
      "text/html": [
       "<div>\n",
       "<style scoped>\n",
       "    .dataframe tbody tr th:only-of-type {\n",
       "        vertical-align: middle;\n",
       "    }\n",
       "\n",
       "    .dataframe tbody tr th {\n",
       "        vertical-align: top;\n",
       "    }\n",
       "\n",
       "    .dataframe thead th {\n",
       "        text-align: right;\n",
       "    }\n",
       "</style>\n",
       "<table border=\"1\" class=\"dataframe\">\n",
       "  <thead>\n",
       "    <tr style=\"text-align: right;\">\n",
       "      <th></th>\n",
       "      <th>name</th>\n",
       "      <th>year</th>\n",
       "      <th>course</th>\n",
       "    </tr>\n",
       "  </thead>\n",
       "  <tbody>\n",
       "    <tr>\n",
       "      <th>0</th>\n",
       "      <td>최규빈</td>\n",
       "      <td>2024</td>\n",
       "      <td>기계학습활용</td>\n",
       "    </tr>\n",
       "    <tr>\n",
       "      <th>1</th>\n",
       "      <td>이영미</td>\n",
       "      <td>2024</td>\n",
       "      <td>수리통계1</td>\n",
       "    </tr>\n",
       "    <tr>\n",
       "      <th>2</th>\n",
       "      <td>이영미</td>\n",
       "      <td>2024</td>\n",
       "      <td>수리통계2</td>\n",
       "    </tr>\n",
       "    <tr>\n",
       "      <th>3</th>\n",
       "      <td>양성준</td>\n",
       "      <td>2024</td>\n",
       "      <td>회귀분석1</td>\n",
       "    </tr>\n",
       "    <tr>\n",
       "      <th>4</th>\n",
       "      <td>최혜미</td>\n",
       "      <td>2024</td>\n",
       "      <td>통계수학</td>\n",
       "    </tr>\n",
       "  </tbody>\n",
       "</table>\n",
       "</div>"
      ],
      "text/plain": [
       "  name  year  course\n",
       "0  최규빈  2024  기계학습활용\n",
       "1  이영미  2024   수리통계1\n",
       "2  이영미  2024   수리통계2\n",
       "3  양성준  2024   회귀분석1\n",
       "4  최혜미  2024    통계수학"
      ]
     },
     "execution_count": 81,
     "metadata": {},
     "output_type": "execute_result"
    }
   ],
   "source": [
    "df_course2024 = pd.DataFrame({\n",
    "    'name':['최규빈','이영미','이영미','양성준','최혜미'],\n",
    "    'year':[2024]*5,\n",
    "    'course':['기계학습활용','수리통계1', '수리통계2','회귀분석1','통계수학']})\n",
    "df_course2024"
   ]
  },
  {
   "cell_type": "code",
   "execution_count": 82,
   "id": "39bd48fd-ac3e-4387-8028-bb5be0eecba7",
   "metadata": {},
   "outputs": [
    {
     "data": {
      "text/html": [
       "<div>\n",
       "<style scoped>\n",
       "    .dataframe tbody tr th:only-of-type {\n",
       "        vertical-align: middle;\n",
       "    }\n",
       "\n",
       "    .dataframe tbody tr th {\n",
       "        vertical-align: top;\n",
       "    }\n",
       "\n",
       "    .dataframe thead th {\n",
       "        text-align: right;\n",
       "    }\n",
       "</style>\n",
       "<table border=\"1\" class=\"dataframe\">\n",
       "  <thead>\n",
       "    <tr style=\"text-align: right;\">\n",
       "      <th></th>\n",
       "      <th>name</th>\n",
       "      <th>year</th>\n",
       "      <th>score</th>\n",
       "    </tr>\n",
       "  </thead>\n",
       "  <tbody>\n",
       "    <tr>\n",
       "      <th>0</th>\n",
       "      <td>최규빈</td>\n",
       "      <td>2023</td>\n",
       "      <td>1.0</td>\n",
       "    </tr>\n",
       "    <tr>\n",
       "      <th>1</th>\n",
       "      <td>최규빈</td>\n",
       "      <td>2024</td>\n",
       "      <td>1.2</td>\n",
       "    </tr>\n",
       "    <tr>\n",
       "      <th>2</th>\n",
       "      <td>이영미</td>\n",
       "      <td>2023</td>\n",
       "      <td>5.0</td>\n",
       "    </tr>\n",
       "    <tr>\n",
       "      <th>3</th>\n",
       "      <td>이영미</td>\n",
       "      <td>2024</td>\n",
       "      <td>5.0</td>\n",
       "    </tr>\n",
       "    <tr>\n",
       "      <th>4</th>\n",
       "      <td>양성준</td>\n",
       "      <td>2023</td>\n",
       "      <td>5.0</td>\n",
       "    </tr>\n",
       "    <tr>\n",
       "      <th>5</th>\n",
       "      <td>양성준</td>\n",
       "      <td>2024</td>\n",
       "      <td>5.0</td>\n",
       "    </tr>\n",
       "    <tr>\n",
       "      <th>6</th>\n",
       "      <td>최혜미</td>\n",
       "      <td>2023</td>\n",
       "      <td>5.0</td>\n",
       "    </tr>\n",
       "    <tr>\n",
       "      <th>7</th>\n",
       "      <td>최혜미</td>\n",
       "      <td>2024</td>\n",
       "      <td>5.0</td>\n",
       "    </tr>\n",
       "  </tbody>\n",
       "</table>\n",
       "</div>"
      ],
      "text/plain": [
       "  name  year  score\n",
       "0  최규빈  2023    1.0\n",
       "1  최규빈  2024    1.2\n",
       "2  이영미  2023    5.0\n",
       "3  이영미  2024    5.0\n",
       "4  양성준  2023    5.0\n",
       "5  양성준  2024    5.0\n",
       "6  최혜미  2023    5.0\n",
       "7  최혜미  2024    5.0"
      ]
     },
     "execution_count": 82,
     "metadata": {},
     "output_type": "execute_result"
    }
   ],
   "source": [
    "df_score = pd.DataFrame({\n",
    "    'name':['최규빈','최규빈','이영미','이영미','양성준','양성준','최혜미','최혜미'],\n",
    "    'year':[2023,2024]*4,\n",
    "    'score':[1, 1.2, 5,5,5,5,5,5]})\n",
    "df_score"
   ]
  },
  {
   "cell_type": "code",
   "execution_count": 84,
   "id": "8e18b675-e100-4dcb-b600-cabdf36708a8",
   "metadata": {},
   "outputs": [
    {
     "data": {
      "text/html": [
       "<div>\n",
       "<style scoped>\n",
       "    .dataframe tbody tr th:only-of-type {\n",
       "        vertical-align: middle;\n",
       "    }\n",
       "\n",
       "    .dataframe tbody tr th {\n",
       "        vertical-align: top;\n",
       "    }\n",
       "\n",
       "    .dataframe thead th {\n",
       "        text-align: right;\n",
       "    }\n",
       "</style>\n",
       "<table border=\"1\" class=\"dataframe\">\n",
       "  <thead>\n",
       "    <tr style=\"text-align: right;\">\n",
       "      <th></th>\n",
       "      <th>name</th>\n",
       "      <th>sex</th>\n",
       "    </tr>\n",
       "  </thead>\n",
       "  <tbody>\n",
       "    <tr>\n",
       "      <th>0</th>\n",
       "      <td>최규빈</td>\n",
       "      <td>male</td>\n",
       "    </tr>\n",
       "    <tr>\n",
       "      <th>1</th>\n",
       "      <td>이영미</td>\n",
       "      <td>female</td>\n",
       "    </tr>\n",
       "    <tr>\n",
       "      <th>2</th>\n",
       "      <td>양성준</td>\n",
       "      <td>male</td>\n",
       "    </tr>\n",
       "    <tr>\n",
       "      <th>3</th>\n",
       "      <td>최혜미</td>\n",
       "      <td>female</td>\n",
       "    </tr>\n",
       "  </tbody>\n",
       "</table>\n",
       "</div>"
      ],
      "text/plain": [
       "  name     sex\n",
       "0  최규빈    male\n",
       "1  이영미  female\n",
       "2  양성준    male\n",
       "3  최혜미  female"
      ]
     },
     "execution_count": 84,
     "metadata": {},
     "output_type": "execute_result"
    }
   ],
   "source": [
    "df_sex = pd.DataFrame({'name':['최규빈','이영미','양성준','최혜미'],\n",
    "                        'sex':['male','female','male','female']})\n",
    "df_sex"
   ]
  },
  {
   "cell_type": "markdown",
   "id": "8364141e-5551-4493-a899-c8895b30af83",
   "metadata": {},
   "source": [
    "주어진 정보를 바탕으로, 4개의 데이터프레임을 결합하라."
   ]
  },
  {
   "cell_type": "markdown",
   "id": "f662d2a0-a79e-436c-b78d-6fb4a9652ea9",
   "metadata": {},
   "source": [
    "\\- 풀이"
   ]
  },
  {
   "cell_type": "markdown",
   "id": "f9878807-1673-43fd-a034-62a3bca24c8c",
   "metadata": {},
   "source": [
    "```\n",
    "df_course2023  ## 7개 강의목록\n",
    "df_course2024  ## 5개 강의목록\n",
    "df_score  ## 점수\n",
    "df_sex  ## 교수님 성별\n",
    "```\n",
    "\n",
    "> 위 두개는 열이 똑같다. (concat)\n",
    "\n",
    "> 아래 두 개는 다른 정보이다. (merge)"
   ]
  },
  {
   "cell_type": "code",
   "execution_count": 87,
   "id": "ddc58b36-83fd-44a0-a0e8-b1551b0e92d1",
   "metadata": {},
   "outputs": [
    {
     "data": {
      "text/html": [
       "<div>\n",
       "<style scoped>\n",
       "    .dataframe tbody tr th:only-of-type {\n",
       "        vertical-align: middle;\n",
       "    }\n",
       "\n",
       "    .dataframe tbody tr th {\n",
       "        vertical-align: top;\n",
       "    }\n",
       "\n",
       "    .dataframe thead th {\n",
       "        text-align: right;\n",
       "    }\n",
       "</style>\n",
       "<table border=\"1\" class=\"dataframe\">\n",
       "  <thead>\n",
       "    <tr style=\"text-align: right;\">\n",
       "      <th></th>\n",
       "      <th>name</th>\n",
       "      <th>year</th>\n",
       "      <th>course</th>\n",
       "    </tr>\n",
       "  </thead>\n",
       "  <tbody>\n",
       "    <tr>\n",
       "      <th>0</th>\n",
       "      <td>최규빈</td>\n",
       "      <td>2023</td>\n",
       "      <td>파이썬프로그래밍</td>\n",
       "    </tr>\n",
       "    <tr>\n",
       "      <th>1</th>\n",
       "      <td>최규빈</td>\n",
       "      <td>2023</td>\n",
       "      <td>데이터시각화</td>\n",
       "    </tr>\n",
       "    <tr>\n",
       "      <th>2</th>\n",
       "      <td>최규빈</td>\n",
       "      <td>2023</td>\n",
       "      <td>기계학습활용</td>\n",
       "    </tr>\n",
       "    <tr>\n",
       "      <th>3</th>\n",
       "      <td>최혜미</td>\n",
       "      <td>2023</td>\n",
       "      <td>수리통계1</td>\n",
       "    </tr>\n",
       "    <tr>\n",
       "      <th>4</th>\n",
       "      <td>최혜미</td>\n",
       "      <td>2023</td>\n",
       "      <td>수리통계2</td>\n",
       "    </tr>\n",
       "    <tr>\n",
       "      <th>5</th>\n",
       "      <td>이영미</td>\n",
       "      <td>2023</td>\n",
       "      <td>회귀분석1</td>\n",
       "    </tr>\n",
       "    <tr>\n",
       "      <th>6</th>\n",
       "      <td>양성준</td>\n",
       "      <td>2023</td>\n",
       "      <td>통계수학</td>\n",
       "    </tr>\n",
       "    <tr>\n",
       "      <th>7</th>\n",
       "      <td>최규빈</td>\n",
       "      <td>2024</td>\n",
       "      <td>기계학습활용</td>\n",
       "    </tr>\n",
       "    <tr>\n",
       "      <th>8</th>\n",
       "      <td>이영미</td>\n",
       "      <td>2024</td>\n",
       "      <td>수리통계1</td>\n",
       "    </tr>\n",
       "    <tr>\n",
       "      <th>9</th>\n",
       "      <td>이영미</td>\n",
       "      <td>2024</td>\n",
       "      <td>수리통계2</td>\n",
       "    </tr>\n",
       "    <tr>\n",
       "      <th>10</th>\n",
       "      <td>양성준</td>\n",
       "      <td>2024</td>\n",
       "      <td>회귀분석1</td>\n",
       "    </tr>\n",
       "    <tr>\n",
       "      <th>11</th>\n",
       "      <td>최혜미</td>\n",
       "      <td>2024</td>\n",
       "      <td>통계수학</td>\n",
       "    </tr>\n",
       "  </tbody>\n",
       "</table>\n",
       "</div>"
      ],
      "text/plain": [
       "   name  year    course\n",
       "0   최규빈  2023  파이썬프로그래밍\n",
       "1   최규빈  2023    데이터시각화\n",
       "2   최규빈  2023    기계학습활용\n",
       "3   최혜미  2023     수리통계1\n",
       "4   최혜미  2023     수리통계2\n",
       "5   이영미  2023     회귀분석1\n",
       "6   양성준  2023      통계수학\n",
       "7   최규빈  2024    기계학습활용\n",
       "8   이영미  2024     수리통계1\n",
       "9   이영미  2024     수리통계2\n",
       "10  양성준  2024     회귀분석1\n",
       "11  최혜미  2024      통계수학"
      ]
     },
     "execution_count": 87,
     "metadata": {},
     "output_type": "execute_result"
    }
   ],
   "source": [
    "pd.concat([df_course2023, df_course2024], axis = 0).reset_index(drop = True)"
   ]
  },
  {
   "cell_type": "markdown",
   "id": "3b5459d6-cd48-4205-808b-6fa6bcbb2113",
   "metadata": {},
   "source": [
    "> 단순히 두 개의 데이터프레임을 합쳤다."
   ]
  },
  {
   "cell_type": "code",
   "execution_count": 89,
   "id": "927a65b6-6c95-49f4-9bff-2c099d221119",
   "metadata": {},
   "outputs": [
    {
     "data": {
      "text/html": [
       "<div>\n",
       "<style scoped>\n",
       "    .dataframe tbody tr th:only-of-type {\n",
       "        vertical-align: middle;\n",
       "    }\n",
       "\n",
       "    .dataframe tbody tr th {\n",
       "        vertical-align: top;\n",
       "    }\n",
       "\n",
       "    .dataframe thead th {\n",
       "        text-align: right;\n",
       "    }\n",
       "</style>\n",
       "<table border=\"1\" class=\"dataframe\">\n",
       "  <thead>\n",
       "    <tr style=\"text-align: right;\">\n",
       "      <th></th>\n",
       "      <th>name</th>\n",
       "      <th>year</th>\n",
       "      <th>course</th>\n",
       "      <th>score</th>\n",
       "    </tr>\n",
       "  </thead>\n",
       "  <tbody>\n",
       "    <tr>\n",
       "      <th>0</th>\n",
       "      <td>최규빈</td>\n",
       "      <td>2023</td>\n",
       "      <td>파이썬프로그래밍</td>\n",
       "      <td>1.0</td>\n",
       "    </tr>\n",
       "    <tr>\n",
       "      <th>1</th>\n",
       "      <td>최규빈</td>\n",
       "      <td>2023</td>\n",
       "      <td>데이터시각화</td>\n",
       "      <td>1.0</td>\n",
       "    </tr>\n",
       "    <tr>\n",
       "      <th>2</th>\n",
       "      <td>최규빈</td>\n",
       "      <td>2023</td>\n",
       "      <td>기계학습활용</td>\n",
       "      <td>1.0</td>\n",
       "    </tr>\n",
       "    <tr>\n",
       "      <th>3</th>\n",
       "      <td>최혜미</td>\n",
       "      <td>2023</td>\n",
       "      <td>수리통계1</td>\n",
       "      <td>5.0</td>\n",
       "    </tr>\n",
       "    <tr>\n",
       "      <th>4</th>\n",
       "      <td>최혜미</td>\n",
       "      <td>2023</td>\n",
       "      <td>수리통계2</td>\n",
       "      <td>5.0</td>\n",
       "    </tr>\n",
       "    <tr>\n",
       "      <th>5</th>\n",
       "      <td>이영미</td>\n",
       "      <td>2023</td>\n",
       "      <td>회귀분석1</td>\n",
       "      <td>5.0</td>\n",
       "    </tr>\n",
       "    <tr>\n",
       "      <th>6</th>\n",
       "      <td>양성준</td>\n",
       "      <td>2023</td>\n",
       "      <td>통계수학</td>\n",
       "      <td>5.0</td>\n",
       "    </tr>\n",
       "    <tr>\n",
       "      <th>7</th>\n",
       "      <td>최규빈</td>\n",
       "      <td>2024</td>\n",
       "      <td>기계학습활용</td>\n",
       "      <td>1.2</td>\n",
       "    </tr>\n",
       "    <tr>\n",
       "      <th>8</th>\n",
       "      <td>이영미</td>\n",
       "      <td>2024</td>\n",
       "      <td>수리통계1</td>\n",
       "      <td>5.0</td>\n",
       "    </tr>\n",
       "    <tr>\n",
       "      <th>9</th>\n",
       "      <td>이영미</td>\n",
       "      <td>2024</td>\n",
       "      <td>수리통계2</td>\n",
       "      <td>5.0</td>\n",
       "    </tr>\n",
       "    <tr>\n",
       "      <th>10</th>\n",
       "      <td>양성준</td>\n",
       "      <td>2024</td>\n",
       "      <td>회귀분석1</td>\n",
       "      <td>5.0</td>\n",
       "    </tr>\n",
       "    <tr>\n",
       "      <th>11</th>\n",
       "      <td>최혜미</td>\n",
       "      <td>2024</td>\n",
       "      <td>통계수학</td>\n",
       "      <td>5.0</td>\n",
       "    </tr>\n",
       "  </tbody>\n",
       "</table>\n",
       "</div>"
      ],
      "text/plain": [
       "   name  year    course  score\n",
       "0   최규빈  2023  파이썬프로그래밍    1.0\n",
       "1   최규빈  2023    데이터시각화    1.0\n",
       "2   최규빈  2023    기계학습활용    1.0\n",
       "3   최혜미  2023     수리통계1    5.0\n",
       "4   최혜미  2023     수리통계2    5.0\n",
       "5   이영미  2023     회귀분석1    5.0\n",
       "6   양성준  2023      통계수학    5.0\n",
       "7   최규빈  2024    기계학습활용    1.2\n",
       "8   이영미  2024     수리통계1    5.0\n",
       "9   이영미  2024     수리통계2    5.0\n",
       "10  양성준  2024     회귀분석1    5.0\n",
       "11  최혜미  2024      통계수학    5.0"
      ]
     },
     "execution_count": 89,
     "metadata": {},
     "output_type": "execute_result"
    }
   ],
   "source": [
    "pd.concat([df_course2023, df_course2024], axis = 0).reset_index(drop = True).merge(df_score)"
   ]
  },
  {
   "cell_type": "markdown",
   "id": "82cfe456-e7a2-4ca8-b2c6-089df52d7f85",
   "metadata": {},
   "source": [
    "> 연도별로 점수를 넣어줬다. name과 year만 겹치므로 알아서 합쳐진다."
   ]
  },
  {
   "cell_type": "code",
   "execution_count": 90,
   "id": "f3f000c8-b642-4484-afc8-366399aae57a",
   "metadata": {},
   "outputs": [
    {
     "data": {
      "text/html": [
       "<div>\n",
       "<style scoped>\n",
       "    .dataframe tbody tr th:only-of-type {\n",
       "        vertical-align: middle;\n",
       "    }\n",
       "\n",
       "    .dataframe tbody tr th {\n",
       "        vertical-align: top;\n",
       "    }\n",
       "\n",
       "    .dataframe thead th {\n",
       "        text-align: right;\n",
       "    }\n",
       "</style>\n",
       "<table border=\"1\" class=\"dataframe\">\n",
       "  <thead>\n",
       "    <tr style=\"text-align: right;\">\n",
       "      <th></th>\n",
       "      <th>name</th>\n",
       "      <th>year</th>\n",
       "      <th>course</th>\n",
       "      <th>score</th>\n",
       "      <th>sex</th>\n",
       "    </tr>\n",
       "  </thead>\n",
       "  <tbody>\n",
       "    <tr>\n",
       "      <th>0</th>\n",
       "      <td>최규빈</td>\n",
       "      <td>2023</td>\n",
       "      <td>파이썬프로그래밍</td>\n",
       "      <td>1.0</td>\n",
       "      <td>male</td>\n",
       "    </tr>\n",
       "    <tr>\n",
       "      <th>1</th>\n",
       "      <td>최규빈</td>\n",
       "      <td>2023</td>\n",
       "      <td>데이터시각화</td>\n",
       "      <td>1.0</td>\n",
       "      <td>male</td>\n",
       "    </tr>\n",
       "    <tr>\n",
       "      <th>2</th>\n",
       "      <td>최규빈</td>\n",
       "      <td>2023</td>\n",
       "      <td>기계학습활용</td>\n",
       "      <td>1.0</td>\n",
       "      <td>male</td>\n",
       "    </tr>\n",
       "    <tr>\n",
       "      <th>3</th>\n",
       "      <td>최규빈</td>\n",
       "      <td>2024</td>\n",
       "      <td>기계학습활용</td>\n",
       "      <td>1.2</td>\n",
       "      <td>male</td>\n",
       "    </tr>\n",
       "    <tr>\n",
       "      <th>4</th>\n",
       "      <td>최혜미</td>\n",
       "      <td>2023</td>\n",
       "      <td>수리통계1</td>\n",
       "      <td>5.0</td>\n",
       "      <td>female</td>\n",
       "    </tr>\n",
       "    <tr>\n",
       "      <th>5</th>\n",
       "      <td>최혜미</td>\n",
       "      <td>2023</td>\n",
       "      <td>수리통계2</td>\n",
       "      <td>5.0</td>\n",
       "      <td>female</td>\n",
       "    </tr>\n",
       "    <tr>\n",
       "      <th>6</th>\n",
       "      <td>최혜미</td>\n",
       "      <td>2024</td>\n",
       "      <td>통계수학</td>\n",
       "      <td>5.0</td>\n",
       "      <td>female</td>\n",
       "    </tr>\n",
       "    <tr>\n",
       "      <th>7</th>\n",
       "      <td>이영미</td>\n",
       "      <td>2023</td>\n",
       "      <td>회귀분석1</td>\n",
       "      <td>5.0</td>\n",
       "      <td>female</td>\n",
       "    </tr>\n",
       "    <tr>\n",
       "      <th>8</th>\n",
       "      <td>이영미</td>\n",
       "      <td>2024</td>\n",
       "      <td>수리통계1</td>\n",
       "      <td>5.0</td>\n",
       "      <td>female</td>\n",
       "    </tr>\n",
       "    <tr>\n",
       "      <th>9</th>\n",
       "      <td>이영미</td>\n",
       "      <td>2024</td>\n",
       "      <td>수리통계2</td>\n",
       "      <td>5.0</td>\n",
       "      <td>female</td>\n",
       "    </tr>\n",
       "    <tr>\n",
       "      <th>10</th>\n",
       "      <td>양성준</td>\n",
       "      <td>2023</td>\n",
       "      <td>통계수학</td>\n",
       "      <td>5.0</td>\n",
       "      <td>male</td>\n",
       "    </tr>\n",
       "    <tr>\n",
       "      <th>11</th>\n",
       "      <td>양성준</td>\n",
       "      <td>2024</td>\n",
       "      <td>회귀분석1</td>\n",
       "      <td>5.0</td>\n",
       "      <td>male</td>\n",
       "    </tr>\n",
       "  </tbody>\n",
       "</table>\n",
       "</div>"
      ],
      "text/plain": [
       "   name  year    course  score     sex\n",
       "0   최규빈  2023  파이썬프로그래밍    1.0    male\n",
       "1   최규빈  2023    데이터시각화    1.0    male\n",
       "2   최규빈  2023    기계학습활용    1.0    male\n",
       "3   최규빈  2024    기계학습활용    1.2    male\n",
       "4   최혜미  2023     수리통계1    5.0  female\n",
       "5   최혜미  2023     수리통계2    5.0  female\n",
       "6   최혜미  2024      통계수학    5.0  female\n",
       "7   이영미  2023     회귀분석1    5.0  female\n",
       "8   이영미  2024     수리통계1    5.0  female\n",
       "9   이영미  2024     수리통계2    5.0  female\n",
       "10  양성준  2023      통계수학    5.0    male\n",
       "11  양성준  2024     회귀분석1    5.0    male"
      ]
     },
     "execution_count": 90,
     "metadata": {},
     "output_type": "execute_result"
    }
   ],
   "source": [
    "pd.concat([df_course2023, df_course2024], axis = 0).reset_index(drop = True).merge(df_score).merge(df_sex)"
   ]
  },
  {
   "cell_type": "markdown",
   "id": "cdb44fc0-0d71-4f60-bc0a-48dbcc1fda20",
   "metadata": {},
   "source": [
    "> name이 겹치므로 알아서 합쳐진다."
   ]
  }
 ],
 "metadata": {
  "kernelspec": {
   "display_name": "Python 3 (ipykernel)",
   "language": "python",
   "name": "python3"
  },
  "language_info": {
   "codemirror_mode": {
    "name": "ipython",
    "version": 3
   },
   "file_extension": ".py",
   "mimetype": "text/x-python",
   "name": "python",
   "nbconvert_exporter": "python",
   "pygments_lexer": "ipython3",
   "version": "3.10.13"
  }
 },
 "nbformat": 4,
 "nbformat_minor": 5
}
