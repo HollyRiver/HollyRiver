{
 "cells": [
  {
   "cell_type": "markdown",
   "id": "09531cc8-b195-4044-9b32-8af254be3277",
   "metadata": {},
   "source": [
    "---\n",
    "title: \"전처리 | 연속형 자료의 범위 조정\"\n",
    "author: \"강신성\"\n",
    "date: \"2023-10-22\"\n",
    "date-format: iso\n",
    "categories: [python, Scaler]\n",
    "---\n",
    "\n",
    "\n"
   ]
  },
  {
   "cell_type": "markdown",
   "id": "704359e1-b5d2-4a0f-81eb-607c6f35270c",
   "metadata": {},
   "source": [
    "> `sklearn.preprocessing`을 이용하여 자료의 범위를 전처리해보자."
   ]
  },
  {
   "cell_type": "markdown",
   "id": "aae377d9-5b9a-4e7b-8732-3c2a4f0c0e4e",
   "metadata": {},
   "source": [
    "###### 해당 자료는 전북대학교 통계학과 최규빈 교수님의 강의 내용을 토대로 재구성되었음을 밝힙니다."
   ]
  },
  {
   "cell_type": "markdown",
   "id": "3fc1444c-885c-4ae9-8a6e-98e3b591d334",
   "metadata": {},
   "source": [
    "## 1. 라이브러리 import"
   ]
  },
  {
   "cell_type": "code",
   "execution_count": 1,
   "id": "698086eb-1d61-4de1-9322-3056f2fafd5c",
   "metadata": {},
   "outputs": [],
   "source": [
    "import pandas as pd\n",
    "import numpy as np\n",
    "import sklearn.preprocessing"
   ]
  },
  {
   "cell_type": "markdown",
   "id": "d299ed32-af32-4b99-b6d5-9c842869883e",
   "metadata": {},
   "source": [
    "## 2. `MinMaxScaler`"
   ]
  },
  {
   "cell_type": "markdown",
   "id": "464d9b43-ef3f-42fa-8929-e7fcb559ae7c",
   "metadata": {},
   "source": [
    "### **A. 모티브**\n",
    "---\n",
    "\n",
    "\n"
   ]
  },
  {
   "cell_type": "markdown",
   "id": "a7705558-f6db-44eb-b3b9-2eb66b92bb49",
   "metadata": {},
   "source": [
    "\\- 예제자료 : 학점, 토익 등이 취업에 미치는 정도"
   ]
  },
  {
   "cell_type": "code",
   "execution_count": 2,
   "id": "d9404e5b-df6a-41c1-abd2-5e39ff6f79f5",
   "metadata": {},
   "outputs": [
    {
     "data": {
      "text/html": [
       "<div>\n",
       "<style scoped>\n",
       "    .dataframe tbody tr th:only-of-type {\n",
       "        vertical-align: middle;\n",
       "    }\n",
       "\n",
       "    .dataframe tbody tr th {\n",
       "        vertical-align: top;\n",
       "    }\n",
       "\n",
       "    .dataframe thead th {\n",
       "        text-align: right;\n",
       "    }\n",
       "</style>\n",
       "<table border=\"1\" class=\"dataframe\">\n",
       "  <thead>\n",
       "    <tr style=\"text-align: right;\">\n",
       "      <th></th>\n",
       "      <th>toeic</th>\n",
       "      <th>gpa</th>\n",
       "    </tr>\n",
       "  </thead>\n",
       "  <tbody>\n",
       "    <tr>\n",
       "      <th>0</th>\n",
       "      <td>135</td>\n",
       "      <td>0.051535</td>\n",
       "    </tr>\n",
       "    <tr>\n",
       "      <th>1</th>\n",
       "      <td>935</td>\n",
       "      <td>0.355496</td>\n",
       "    </tr>\n",
       "    <tr>\n",
       "      <th>2</th>\n",
       "      <td>485</td>\n",
       "      <td>2.228435</td>\n",
       "    </tr>\n",
       "    <tr>\n",
       "      <th>3</th>\n",
       "      <td>65</td>\n",
       "      <td>1.179701</td>\n",
       "    </tr>\n",
       "    <tr>\n",
       "      <th>4</th>\n",
       "      <td>445</td>\n",
       "      <td>3.962356</td>\n",
       "    </tr>\n",
       "    <tr>\n",
       "      <th>5</th>\n",
       "      <td>65</td>\n",
       "      <td>1.846885</td>\n",
       "    </tr>\n",
       "    <tr>\n",
       "      <th>6</th>\n",
       "      <td>290</td>\n",
       "      <td>0.309928</td>\n",
       "    </tr>\n",
       "    <tr>\n",
       "      <th>7</th>\n",
       "      <td>730</td>\n",
       "      <td>0.336081</td>\n",
       "    </tr>\n",
       "  </tbody>\n",
       "</table>\n",
       "</div>"
      ],
      "text/plain": [
       "   toeic       gpa\n",
       "0    135  0.051535\n",
       "1    935  0.355496\n",
       "2    485  2.228435\n",
       "3     65  1.179701\n",
       "4    445  3.962356\n",
       "5     65  1.846885\n",
       "6    290  0.309928\n",
       "7    730  0.336081"
      ]
     },
     "execution_count": 2,
     "metadata": {},
     "output_type": "execute_result"
    }
   ],
   "source": [
    "df = pd.read_csv('https://raw.githubusercontent.com/guebin/MP2023/main/posts/employment.csv').loc[:7,['toeic','gpa']]\n",
    "df"
   ]
  },
  {
   "cell_type": "markdown",
   "id": "de0cb145-8016-46ed-a692-193b7f32b069",
   "metadata": {},
   "source": [
    "\\- 모형을 돌려보고 해석한 결과...\n",
    "(```sklearn.linear_model.Linear_Regression()```)\n",
    "\n",
    "```\n",
    "u = X.toeic*0.00571598 + X.gpa*2.46520018 -8.45433334\n",
    "v = 1/(1+np.exp(-u))\n",
    "v # 확률같은것임\n",
    "```\n",
    "\n",
    "**그래서...**\n",
    "* 토익이 중요해? 아니면 학점이 중요해?\n",
    "* 무엇이 얼만큼 중요해?\n",
    "\n",
    "\\- 모티브 : 토익과 gpa 모두 0~1 사이의 척도로 바꾸면 해석이 쉽지 않을까?"
   ]
  },
  {
   "cell_type": "markdown",
   "id": "0fb8d398-b7ef-472f-af49-9f2326328429",
   "metadata": {},
   "source": [
    "### **B. 사용방법**\n",
    "---\n",
    "\n",
    "\n"
   ]
  },
  {
   "cell_type": "markdown",
   "id": "92b06c10-b59b-48d6-a748-df957314af45",
   "metadata": {},
   "source": [
    "* class를 이용, object를 생성하는 방법(이전과 유사한 방법)"
   ]
  },
  {
   "cell_type": "code",
   "execution_count": 4,
   "id": "36ddbdd6-3681-4e53-a9f7-f7a723864adc",
   "metadata": {},
   "outputs": [
    {
     "data": {
      "text/plain": [
       "array([[0.08045977, 0.        ],\n",
       "       [1.        , 0.07772319],\n",
       "       [0.48275862, 0.55663499],\n",
       "       [0.        , 0.28847292],\n",
       "       [0.43678161, 1.        ],\n",
       "       [0.        , 0.45907256],\n",
       "       [0.25862069, 0.06607128],\n",
       "       [0.76436782, 0.07275881]])"
      ]
     },
     "execution_count": 4,
     "metadata": {},
     "output_type": "execute_result"
    }
   ],
   "source": [
    "scalr = sklearn.preprocessing.MinMaxScaler()\n",
    "\n",
    "scalr.fit(df)\n",
    "\n",
    "scalr.transform(df)  ## 전처리의 경우에는 transform을 사용한다. .impute.SimpleImputer()에서도 그랬잖아?"
   ]
  },
  {
   "cell_type": "markdown",
   "id": "b5fd0bd2-8fe2-4098-a542-837a8a3eb782",
   "metadata": {},
   "source": [
    "* 역시 한번에 할 수도 있다."
   ]
  },
  {
   "cell_type": "code",
   "execution_count": 7,
   "id": "e2880d68-ae36-43a4-8705-369f85099ba5",
   "metadata": {},
   "outputs": [
    {
     "data": {
      "text/plain": [
       "array([[0.08045977, 0.        ],\n",
       "       [1.        , 0.07772319],\n",
       "       [0.48275862, 0.55663499],\n",
       "       [0.        , 0.28847292],\n",
       "       [0.43678161, 1.        ],\n",
       "       [0.        , 0.45907256],\n",
       "       [0.25862069, 0.06607128],\n",
       "       [0.76436782, 0.07275881]])"
      ]
     },
     "execution_count": 7,
     "metadata": {},
     "output_type": "execute_result"
    }
   ],
   "source": [
    "scalr.fit_transform(df)  ## 당연히 원래 자료를 훼손하진 않는다."
   ]
  },
  {
   "cell_type": "code",
   "execution_count": null,
   "id": "438fe6ee-5efe-4a39-a2ff-62b585f19f66",
   "metadata": {},
   "outputs": [],
   "source": []
  }
 ],
 "metadata": {
  "kernelspec": {
   "display_name": "Python 3 (ipykernel)",
   "language": "python",
   "name": "python3"
  },
  "language_info": {
   "codemirror_mode": {
    "name": "ipython",
    "version": 3
   },
   "file_extension": ".py",
   "mimetype": "text/x-python",
   "name": "python",
   "nbconvert_exporter": "python",
   "pygments_lexer": "ipython3",
   "version": "3.10.13"
  }
 },
 "nbformat": 4,
 "nbformat_minor": 5
}
