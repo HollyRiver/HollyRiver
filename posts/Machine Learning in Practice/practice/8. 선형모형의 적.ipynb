{
 "cells": [
  {
   "cell_type": "markdown",
   "id": "8a333757-45d6-4b7c-b7fd-52397de540e3",
   "metadata": {},
   "source": [
    "---\n",
    "title: \"선형모형의 적\"\n",
    "author: \"강신성\"\n",
    "date: \"2023-10-29\"\n",
    "date-format: iso\n",
    "categories: [python, MultipleLinearity, Outlier]\n",
    "---\n",
    "\n",
    "\n"
   ]
  },
  {
   "cell_type": "markdown",
   "id": "fa49a853-323e-4103-b8ba-e1149108d05f",
   "metadata": {},
   "source": [
    "> 우리의 주적은 북한인데, 선형모형의 적은?"
   ]
  },
  {
   "cell_type": "markdown",
   "id": "065e4afa-9143-432e-9e7f-beada212bc35",
   "metadata": {},
   "source": [
    "###### 해당 자료는 전북대학교 통계학과 최규빈 교수님의 강의 내용을 토대로 재구성되었음을 밝힙니다."
   ]
  },
  {
   "cell_type": "markdown",
   "id": "6aceec13-e60b-46e9-85f3-cc8a87b4919f",
   "metadata": {},
   "source": [
    "## 1. 라이브러리 imports"
   ]
  },
  {
   "cell_type": "code",
   "execution_count": 60,
   "id": "410fb185-210f-406d-a384-2f26e3371a47",
   "metadata": {},
   "outputs": [],
   "source": [
    "import pandas as pd\n",
    "import numpy as np\n",
    "import sklearn.linear_model\n",
    "import matplotlib.pyplot as plt\n",
    "import sklearn.preprocessing\n",
    "import sklearn.impute\n",
    "import seaborn as sns\n",
    "import sklearn.tree"
   ]
  },
  {
   "cell_type": "markdown",
   "id": "5bdd0fee-6716-4341-9eef-4190c7b42fbd",
   "metadata": {},
   "source": [
    "## 2. 선형모형의 적"
   ]
  },
  {
   "cell_type": "markdown",
   "id": "43d06f37-5bea-4738-a6bd-1aafd8686eb1",
   "metadata": {},
   "source": [
    "### **A. 결측치의 존재**\n",
    "---\n",
    "\n",
    "\n"
   ]
  },
  {
   "cell_type": "markdown",
   "id": "f3dd028f-5722-4a62-8fde-c9641d5817c7",
   "metadata": {},
   "source": [
    "<span style=color:red>문제</span> : 데이터에서 누락된 값이 있는 경우, 선형모델이 돌아가지 않는다.\n",
    "\n",
    "\\- 해결방안\n",
    "\n",
    "1 : 결측치를 제거\n",
    "\n",
    "> * 결측치가 포함된 열을 제거\n",
    ">\n",
    "> * 결측치가 포함된 행을 제거\n",
    ">\n",
    "> * 둘을 혼합\n",
    "\n",
    "2. 결측치를 impute\n",
    "\n",
    "> * train에서는 fit_transform, test에서는 transform\n",
    ">\n",
    "> * train, test에서 모두 fit_transform\n",
    "> * 임의의 값으로 일괄 impute\n",
    "> * interploation(이미지 또는 시계열, 근처의 값과 자연스럽게 연동되도록 만들 수 있음)\n",
    "> * ~train, test data를 합쳐서 fit_transform~ <span style=color:red>이건 정보누수로 실격사유가 된다</span>\n",
    "\n",
    "\\- 사용 가능한 코드나 모듈\n",
    "\n",
    "> `isna()`, `dropna()`, `sklearn.inpute`의 하위 모듈 등."
   ]
  },
  {
   "cell_type": "markdown",
   "id": "932dbc0e-11d5-498b-a291-8ce5499c55d9",
   "metadata": {},
   "source": [
    "### **B. 다중공선성의 존재**\n",
    "---\n",
    "\n",
    "\n"
   ]
  },
  {
   "cell_type": "markdown",
   "id": "4a5ed90f-746a-40f3-b921-5818bb0af8a8",
   "metadata": {},
   "source": [
    "<span style=color:red>문제</span> : 데이터의 설명변수가 역할이 겹칠 경우, 선형모형의 일반화 성능이 좋지 않음.\n",
    "\n",
    "\\- 해결방안\n",
    "\n",
    "> * 변수 제거\n",
    "> > 설명변수 간 corr을 파악하고, 느낌적으로 제거\n",
    "> >\n",
    "> >  PCA 등 차원축소기법을 이용한 제거\n",
    "> * 공선성을 가지는 변수를 모아 새로운 변수로 변환\n",
    "> > 느낌적으로 변환\n",
    "> >\n",
    "> > PCA를 이용한 변환\n",
    "> \n",
    "> * Lasso, Ridge 등 패널티 계열을 사용\n",
    "> > Lasso : l1 / liblinear\n",
    "> >\n",
    "> > Ridge : l2\n",
    "> >\n",
    "> > Elastic net"
   ]
  },
  {
   "cell_type": "markdown",
   "id": "0c95572c-b55a-4e2d-bb79-92c305fabab9",
   "metadata": {},
   "source": [
    "\\- corr파악 후 느낌적으로 제거의 예시"
   ]
  },
  {
   "cell_type": "code",
   "execution_count": 3,
   "id": "ac58069e-7f78-4ce1-9953-8cd455690725",
   "metadata": {},
   "outputs": [
    {
     "data": {
      "text/html": [
       "<div>\n",
       "<style scoped>\n",
       "    .dataframe tbody tr th:only-of-type {\n",
       "        vertical-align: middle;\n",
       "    }\n",
       "\n",
       "    .dataframe tbody tr th {\n",
       "        vertical-align: top;\n",
       "    }\n",
       "\n",
       "    .dataframe thead th {\n",
       "        text-align: right;\n",
       "    }\n",
       "</style>\n",
       "<table border=\"1\" class=\"dataframe\">\n",
       "  <thead>\n",
       "    <tr style=\"text-align: right;\">\n",
       "      <th></th>\n",
       "      <th>gpa</th>\n",
       "      <th>toeic</th>\n",
       "      <th>toeic0</th>\n",
       "      <th>toeic1</th>\n",
       "      <th>toeic2</th>\n",
       "    </tr>\n",
       "  </thead>\n",
       "  <tbody>\n",
       "    <tr>\n",
       "      <th>0</th>\n",
       "      <td>0.051535</td>\n",
       "      <td>135</td>\n",
       "      <td>129.566309</td>\n",
       "      <td>133.078481</td>\n",
       "      <td>121.678398</td>\n",
       "    </tr>\n",
       "    <tr>\n",
       "      <th>1</th>\n",
       "      <td>0.355496</td>\n",
       "      <td>935</td>\n",
       "      <td>940.563187</td>\n",
       "      <td>935.723570</td>\n",
       "      <td>939.190519</td>\n",
       "    </tr>\n",
       "    <tr>\n",
       "      <th>2</th>\n",
       "      <td>2.228435</td>\n",
       "      <td>485</td>\n",
       "      <td>493.671390</td>\n",
       "      <td>493.909118</td>\n",
       "      <td>475.500970</td>\n",
       "    </tr>\n",
       "    <tr>\n",
       "      <th>3</th>\n",
       "      <td>1.179701</td>\n",
       "      <td>65</td>\n",
       "      <td>62.272565</td>\n",
       "      <td>55.957257</td>\n",
       "      <td>68.521468</td>\n",
       "    </tr>\n",
       "    <tr>\n",
       "      <th>4</th>\n",
       "      <td>3.962356</td>\n",
       "      <td>445</td>\n",
       "      <td>449.280637</td>\n",
       "      <td>438.895582</td>\n",
       "      <td>433.598274</td>\n",
       "    </tr>\n",
       "    <tr>\n",
       "      <th>...</th>\n",
       "      <td>...</td>\n",
       "      <td>...</td>\n",
       "      <td>...</td>\n",
       "      <td>...</td>\n",
       "      <td>...</td>\n",
       "    </tr>\n",
       "    <tr>\n",
       "      <th>495</th>\n",
       "      <td>4.288465</td>\n",
       "      <td>280</td>\n",
       "      <td>276.680902</td>\n",
       "      <td>274.502675</td>\n",
       "      <td>277.868536</td>\n",
       "    </tr>\n",
       "    <tr>\n",
       "      <th>496</th>\n",
       "      <td>2.601212</td>\n",
       "      <td>310</td>\n",
       "      <td>296.940263</td>\n",
       "      <td>301.545000</td>\n",
       "      <td>306.725610</td>\n",
       "    </tr>\n",
       "    <tr>\n",
       "      <th>497</th>\n",
       "      <td>0.042323</td>\n",
       "      <td>225</td>\n",
       "      <td>206.793217</td>\n",
       "      <td>228.335345</td>\n",
       "      <td>222.115146</td>\n",
       "    </tr>\n",
       "    <tr>\n",
       "      <th>498</th>\n",
       "      <td>1.041416</td>\n",
       "      <td>320</td>\n",
       "      <td>327.461442</td>\n",
       "      <td>323.019899</td>\n",
       "      <td>329.589337</td>\n",
       "    </tr>\n",
       "    <tr>\n",
       "      <th>499</th>\n",
       "      <td>3.626883</td>\n",
       "      <td>375</td>\n",
       "      <td>370.966595</td>\n",
       "      <td>364.668477</td>\n",
       "      <td>371.853566</td>\n",
       "    </tr>\n",
       "  </tbody>\n",
       "</table>\n",
       "<p>500 rows × 5 columns</p>\n",
       "</div>"
      ],
      "text/plain": [
       "          gpa  toeic      toeic0      toeic1      toeic2\n",
       "0    0.051535    135  129.566309  133.078481  121.678398\n",
       "1    0.355496    935  940.563187  935.723570  939.190519\n",
       "2    2.228435    485  493.671390  493.909118  475.500970\n",
       "3    1.179701     65   62.272565   55.957257   68.521468\n",
       "4    3.962356    445  449.280637  438.895582  433.598274\n",
       "..        ...    ...         ...         ...         ...\n",
       "495  4.288465    280  276.680902  274.502675  277.868536\n",
       "496  2.601212    310  296.940263  301.545000  306.725610\n",
       "497  0.042323    225  206.793217  228.335345  222.115146\n",
       "498  1.041416    320  327.461442  323.019899  329.589337\n",
       "499  3.626883    375  370.966595  364.668477  371.853566\n",
       "\n",
       "[500 rows x 5 columns]"
      ]
     },
     "execution_count": 3,
     "metadata": {},
     "output_type": "execute_result"
    }
   ],
   "source": [
    "df = pd.read_csv(\"https://raw.githubusercontent.com/guebin/MP2023/main/posts/employment_multicollinearity.csv\")\n",
    "X = df.loc[:,'gpa':'toeic2']\n",
    "X"
   ]
  },
  {
   "cell_type": "code",
   "execution_count": 9,
   "id": "7f12b2b7-dea0-4274-b002-7b21870fe683",
   "metadata": {},
   "outputs": [
    {
     "data": {
      "text/html": [
       "<div>\n",
       "<style scoped>\n",
       "    .dataframe tbody tr th:only-of-type {\n",
       "        vertical-align: middle;\n",
       "    }\n",
       "\n",
       "    .dataframe tbody tr th {\n",
       "        vertical-align: top;\n",
       "    }\n",
       "\n",
       "    .dataframe thead th {\n",
       "        text-align: right;\n",
       "    }\n",
       "</style>\n",
       "<table border=\"1\" class=\"dataframe\">\n",
       "  <thead>\n",
       "    <tr style=\"text-align: right;\">\n",
       "      <th></th>\n",
       "      <th>gpa</th>\n",
       "      <th>toeic</th>\n",
       "      <th>toeic0</th>\n",
       "      <th>toeic1</th>\n",
       "      <th>toeic2</th>\n",
       "    </tr>\n",
       "  </thead>\n",
       "  <tbody>\n",
       "    <tr>\n",
       "      <th>gpa</th>\n",
       "      <td>1.000000</td>\n",
       "      <td>-0.033983</td>\n",
       "      <td>-0.035722</td>\n",
       "      <td>-0.037734</td>\n",
       "      <td>-0.034828</td>\n",
       "    </tr>\n",
       "    <tr>\n",
       "      <th>toeic</th>\n",
       "      <td>-0.033983</td>\n",
       "      <td>1.000000</td>\n",
       "      <td>0.999435</td>\n",
       "      <td>0.999322</td>\n",
       "      <td>0.999341</td>\n",
       "    </tr>\n",
       "    <tr>\n",
       "      <th>toeic0</th>\n",
       "      <td>-0.035722</td>\n",
       "      <td>0.999435</td>\n",
       "      <td>1.000000</td>\n",
       "      <td>0.998746</td>\n",
       "      <td>0.998828</td>\n",
       "    </tr>\n",
       "    <tr>\n",
       "      <th>toeic1</th>\n",
       "      <td>-0.037734</td>\n",
       "      <td>0.999322</td>\n",
       "      <td>0.998746</td>\n",
       "      <td>1.000000</td>\n",
       "      <td>0.998721</td>\n",
       "    </tr>\n",
       "    <tr>\n",
       "      <th>toeic2</th>\n",
       "      <td>-0.034828</td>\n",
       "      <td>0.999341</td>\n",
       "      <td>0.998828</td>\n",
       "      <td>0.998721</td>\n",
       "      <td>1.000000</td>\n",
       "    </tr>\n",
       "  </tbody>\n",
       "</table>\n",
       "</div>"
      ],
      "text/plain": [
       "             gpa     toeic    toeic0    toeic1    toeic2\n",
       "gpa     1.000000 -0.033983 -0.035722 -0.037734 -0.034828\n",
       "toeic  -0.033983  1.000000  0.999435  0.999322  0.999341\n",
       "toeic0 -0.035722  0.999435  1.000000  0.998746  0.998828\n",
       "toeic1 -0.037734  0.999322  0.998746  1.000000  0.998721\n",
       "toeic2 -0.034828  0.999341  0.998828  0.998721  1.000000"
      ]
     },
     "execution_count": 9,
     "metadata": {},
     "output_type": "execute_result"
    }
   ],
   "source": [
    "X.corr()"
   ]
  },
  {
   "cell_type": "markdown",
   "id": "bc801323-16a9-4f4d-af90-2494b1dd42df",
   "metadata": {},
   "source": [
    "> pandas의 데이터프레임에는 자체적으로 해당 메소드를 지원한다."
   ]
  },
  {
   "cell_type": "code",
   "execution_count": 8,
   "id": "dabd9b01-aa7e-428b-9e13-1bba829c82b7",
   "metadata": {},
   "outputs": [
    {
     "data": {
      "text/plain": [
       "<Axes: >"
      ]
     },
     "execution_count": 8,
     "metadata": {},
     "output_type": "execute_result"
    },
    {
     "data": {
      "image/png": "[encoded data removed]",
      "text/plain": [
       "<Figure size 640x480 with 2 Axes>"
      ]
     },
     "metadata": {},
     "output_type": "display_data"
    }
   ],
   "source": [
    "sns.heatmap(X.corr(), annot = True)"
   ]
  },
  {
   "cell_type": "markdown",
   "id": "d563b584-2fd7-4de7-8f9f-9c224defe9f1",
   "metadata": {},
   "source": [
    "\\- toeic과 유사 toeic끼리 상관성이 짙네?\n",
    "\n",
    "> 제거한다."
   ]
  },
  {
   "cell_type": "markdown",
   "id": "748c2b13-3db5-428a-bf7a-7cb9a7d94648",
   "metadata": {},
   "source": [
    "### **C. 관련이 없는 변수의 존재**\n",
    "---\n",
    "\n",
    "\n"
   ]
  },
  {
   "cell_type": "markdown",
   "id": "a181bc05-dc9e-487c-a284-72af855a8f98",
   "metadata": {},
   "source": [
    "<span style=color:red>문제</span> : 데이터에서 불필요한 설명변수가 너무 많을 경우, 선형모형의 일반화 성능이 좋지 않음.(overfitting)\n",
    "\n",
    "> 예시 : 고객이름, ID, Index 관련 변수(물론 얘네들도 어딘가 쓸모가 있을 수도 있다...)\n",
    "\n",
    "\\- 해결방법\n",
    "\n",
    "> * 변수 제거\n",
    "> > (y, X)의 corr을 파악하고 느낌적으로 제거(위에서와 달리 관련이 있어야 한다.)\n",
    "> >\n",
    "> > PCA를 이용한 제거\n",
    "> >\n",
    "> > Lasso를 이용한 제거(여기서 Ridge는 사용하면 안된다. 해당 모듈은 유사한 것들의 계수 합이 일정하도록 조정하는 거니까...)\n",
    "> \n",
    "> * 더 많은 데이터를 확보\n",
    "> > 하지만 이는 어렵다... 어떤 변수가 관련이 없다는 것을 파악하기 위해선 데이터를 많이 가져와야 하는데, Feature의 수가 많아질 때 필요한 데이터의 수는 지수적으로 증가한다."
   ]
  },
  {
   "cell_type": "markdown",
   "id": "300a6595-851a-496c-a4ee-ac8d5298dc5e",
   "metadata": {},
   "source": [
    "\\- 느낌적으로 제거 예시"
   ]
  },
  {
   "cell_type": "code",
   "execution_count": 30,
   "id": "52a3cedc-01c1-4425-93b0-2d171e7dcb1a",
   "metadata": {},
   "outputs": [
    {
     "data": {
      "text/html": [
       "<div>\n",
       "<style scoped>\n",
       "    .dataframe tbody tr th:only-of-type {\n",
       "        vertical-align: middle;\n",
       "    }\n",
       "\n",
       "    .dataframe tbody tr th {\n",
       "        vertical-align: top;\n",
       "    }\n",
       "\n",
       "    .dataframe thead th {\n",
       "        text-align: right;\n",
       "    }\n",
       "</style>\n",
       "<table border=\"1\" class=\"dataframe\">\n",
       "  <thead>\n",
       "    <tr style=\"text-align: right;\">\n",
       "      <th></th>\n",
       "      <th>toeic</th>\n",
       "      <th>gpa</th>\n",
       "      <th>employment</th>\n",
       "      <th>balance0</th>\n",
       "      <th>balance1</th>\n",
       "      <th>balance2</th>\n",
       "    </tr>\n",
       "  </thead>\n",
       "  <tbody>\n",
       "    <tr>\n",
       "      <th>toeic</th>\n",
       "      <td>1.000000</td>\n",
       "      <td>-0.033983</td>\n",
       "      <td>0.260183</td>\n",
       "      <td>0.002682</td>\n",
       "      <td>0.110530</td>\n",
       "      <td>0.024664</td>\n",
       "    </tr>\n",
       "    <tr>\n",
       "      <th>gpa</th>\n",
       "      <td>-0.033983</td>\n",
       "      <td>1.000000</td>\n",
       "      <td>0.711022</td>\n",
       "      <td>-0.025197</td>\n",
       "      <td>0.005272</td>\n",
       "      <td>0.020794</td>\n",
       "    </tr>\n",
       "    <tr>\n",
       "      <th>employment</th>\n",
       "      <td>0.260183</td>\n",
       "      <td>0.711022</td>\n",
       "      <td>1.000000</td>\n",
       "      <td>-0.007348</td>\n",
       "      <td>0.036706</td>\n",
       "      <td>0.032284</td>\n",
       "    </tr>\n",
       "    <tr>\n",
       "      <th>balance0</th>\n",
       "      <td>0.002682</td>\n",
       "      <td>-0.025197</td>\n",
       "      <td>-0.007348</td>\n",
       "      <td>1.000000</td>\n",
       "      <td>-0.059167</td>\n",
       "      <td>0.040035</td>\n",
       "    </tr>\n",
       "    <tr>\n",
       "      <th>balance1</th>\n",
       "      <td>0.110530</td>\n",
       "      <td>0.005272</td>\n",
       "      <td>0.036706</td>\n",
       "      <td>-0.059167</td>\n",
       "      <td>1.000000</td>\n",
       "      <td>-0.030215</td>\n",
       "    </tr>\n",
       "    <tr>\n",
       "      <th>balance2</th>\n",
       "      <td>0.024664</td>\n",
       "      <td>0.020794</td>\n",
       "      <td>0.032284</td>\n",
       "      <td>0.040035</td>\n",
       "      <td>-0.030215</td>\n",
       "      <td>1.000000</td>\n",
       "    </tr>\n",
       "  </tbody>\n",
       "</table>\n",
       "</div>"
      ],
      "text/plain": [
       "               toeic       gpa  employment  balance0  balance1  balance2\n",
       "toeic       1.000000 -0.033983    0.260183  0.002682  0.110530  0.024664\n",
       "gpa        -0.033983  1.000000    0.711022 -0.025197  0.005272  0.020794\n",
       "employment  0.260183  0.711022    1.000000 -0.007348  0.036706  0.032284\n",
       "balance0    0.002682 -0.025197   -0.007348  1.000000 -0.059167  0.040035\n",
       "balance1    0.110530  0.005272    0.036706 -0.059167  1.000000 -0.030215\n",
       "balance2    0.024664  0.020794    0.032284  0.040035 -0.030215  1.000000"
      ]
     },
     "execution_count": 30,
     "metadata": {},
     "output_type": "execute_result"
    }
   ],
   "source": [
    "df_train.corr()"
   ]
  },
  {
   "cell_type": "code",
   "execution_count": 32,
   "id": "d662e35c-6ba6-457d-a5e3-ef279a0e0b45",
   "metadata": {},
   "outputs": [
    {
     "data": {
      "text/plain": [
       "<Axes: >"
      ]
     },
     "execution_count": 32,
     "metadata": {},
     "output_type": "execute_result"
    },
    {
     "data": {
      "image/png": "[encoded data removed]",
      "text/plain": [
       "<Figure size 640x480 with 2 Axes>"
      ]
     },
     "metadata": {},
     "output_type": "display_data"
    }
   ],
   "source": [
    "sns.heatmap(df_train.corr(), annot = True)"
   ]
  },
  {
   "cell_type": "markdown",
   "id": "484277ad-ff42-4889-9c91-fa8e887fa77a",
   "metadata": {},
   "source": [
    "> `balance0 ~ 2`는 `employment`와의 상관성이 낮다. 따라서 제거하고 분석한다."
   ]
  },
  {
   "cell_type": "code",
   "execution_count": 35,
   "id": "66cf40a2-2eb8-47ed-8890-8418456cce45",
   "metadata": {},
   "outputs": [
    {
     "data": {
      "text/plain": [
       "0.882"
      ]
     },
     "execution_count": 35,
     "metadata": {},
     "output_type": "execute_result"
    }
   ],
   "source": [
    "## 1\n",
    "X = df_train.loc[:, :'gpa']\n",
    "y = df_train.employment\n",
    "\n",
    "## 2\n",
    "predictr = sklearn.linear_model.LogisticRegression()\n",
    "\n",
    "## 3\n",
    "predictr.fit(X, y)\n",
    "\n",
    "## 4\n",
    "predictr.score(X, y)"
   ]
  },
  {
   "cell_type": "markdown",
   "id": "45d5576e-a717-4afd-8ba3-b67a7ed75aad",
   "metadata": {},
   "source": [
    "\\- Lasso를 이용한 제거 예시"
   ]
  },
  {
   "cell_type": "code",
   "execution_count": 10,
   "id": "b8179bc4-a284-475a-a828-dbfa9c43e047",
   "metadata": {},
   "outputs": [
    {
     "data": {
      "text/html": [
       "<div>\n",
       "<style scoped>\n",
       "    .dataframe tbody tr th:only-of-type {\n",
       "        vertical-align: middle;\n",
       "    }\n",
       "\n",
       "    .dataframe tbody tr th {\n",
       "        vertical-align: top;\n",
       "    }\n",
       "\n",
       "    .dataframe thead th {\n",
       "        text-align: right;\n",
       "    }\n",
       "</style>\n",
       "<table border=\"1\" class=\"dataframe\">\n",
       "  <thead>\n",
       "    <tr style=\"text-align: right;\">\n",
       "      <th></th>\n",
       "      <th>toeic</th>\n",
       "      <th>gpa</th>\n",
       "      <th>employment</th>\n",
       "      <th>balance0</th>\n",
       "      <th>balance1</th>\n",
       "      <th>balance2</th>\n",
       "    </tr>\n",
       "  </thead>\n",
       "  <tbody>\n",
       "    <tr>\n",
       "      <th>0</th>\n",
       "      <td>135</td>\n",
       "      <td>0.051535</td>\n",
       "      <td>0</td>\n",
       "      <td>1.624345</td>\n",
       "      <td>-0.611756</td>\n",
       "      <td>-0.528172</td>\n",
       "    </tr>\n",
       "    <tr>\n",
       "      <th>1</th>\n",
       "      <td>935</td>\n",
       "      <td>0.355496</td>\n",
       "      <td>0</td>\n",
       "      <td>-1.072969</td>\n",
       "      <td>0.865408</td>\n",
       "      <td>-2.301539</td>\n",
       "    </tr>\n",
       "    <tr>\n",
       "      <th>2</th>\n",
       "      <td>485</td>\n",
       "      <td>2.228435</td>\n",
       "      <td>0</td>\n",
       "      <td>1.744812</td>\n",
       "      <td>-0.761207</td>\n",
       "      <td>0.319039</td>\n",
       "    </tr>\n",
       "    <tr>\n",
       "      <th>3</th>\n",
       "      <td>65</td>\n",
       "      <td>1.179701</td>\n",
       "      <td>0</td>\n",
       "      <td>-0.249370</td>\n",
       "      <td>1.462108</td>\n",
       "      <td>-2.060141</td>\n",
       "    </tr>\n",
       "    <tr>\n",
       "      <th>4</th>\n",
       "      <td>445</td>\n",
       "      <td>3.962356</td>\n",
       "      <td>1</td>\n",
       "      <td>-0.322417</td>\n",
       "      <td>-0.384054</td>\n",
       "      <td>1.133769</td>\n",
       "    </tr>\n",
       "    <tr>\n",
       "      <th>...</th>\n",
       "      <td>...</td>\n",
       "      <td>...</td>\n",
       "      <td>...</td>\n",
       "      <td>...</td>\n",
       "      <td>...</td>\n",
       "      <td>...</td>\n",
       "    </tr>\n",
       "    <tr>\n",
       "      <th>495</th>\n",
       "      <td>280</td>\n",
       "      <td>4.288465</td>\n",
       "      <td>1</td>\n",
       "      <td>-1.326490</td>\n",
       "      <td>0.308204</td>\n",
       "      <td>1.115489</td>\n",
       "    </tr>\n",
       "    <tr>\n",
       "      <th>496</th>\n",
       "      <td>310</td>\n",
       "      <td>2.601212</td>\n",
       "      <td>1</td>\n",
       "      <td>1.008196</td>\n",
       "      <td>-3.016032</td>\n",
       "      <td>-1.619646</td>\n",
       "    </tr>\n",
       "    <tr>\n",
       "      <th>497</th>\n",
       "      <td>225</td>\n",
       "      <td>0.042323</td>\n",
       "      <td>0</td>\n",
       "      <td>2.005141</td>\n",
       "      <td>-0.187626</td>\n",
       "      <td>-0.148941</td>\n",
       "    </tr>\n",
       "    <tr>\n",
       "      <th>498</th>\n",
       "      <td>320</td>\n",
       "      <td>1.041416</td>\n",
       "      <td>0</td>\n",
       "      <td>1.165335</td>\n",
       "      <td>0.196645</td>\n",
       "      <td>-0.632590</td>\n",
       "    </tr>\n",
       "    <tr>\n",
       "      <th>499</th>\n",
       "      <td>375</td>\n",
       "      <td>3.626883</td>\n",
       "      <td>1</td>\n",
       "      <td>-0.209847</td>\n",
       "      <td>1.897161</td>\n",
       "      <td>-1.381391</td>\n",
       "    </tr>\n",
       "  </tbody>\n",
       "</table>\n",
       "<p>500 rows × 6 columns</p>\n",
       "</div>"
      ],
      "text/plain": [
       "     toeic       gpa  employment  balance0  balance1  balance2\n",
       "0      135  0.051535           0  1.624345 -0.611756 -0.528172\n",
       "1      935  0.355496           0 -1.072969  0.865408 -2.301539\n",
       "2      485  2.228435           0  1.744812 -0.761207  0.319039\n",
       "3       65  1.179701           0 -0.249370  1.462108 -2.060141\n",
       "4      445  3.962356           1 -0.322417 -0.384054  1.133769\n",
       "..     ...       ...         ...       ...       ...       ...\n",
       "495    280  4.288465           1 -1.326490  0.308204  1.115489\n",
       "496    310  2.601212           1  1.008196 -3.016032 -1.619646\n",
       "497    225  0.042323           0  2.005141 -0.187626 -0.148941\n",
       "498    320  1.041416           0  1.165335  0.196645 -0.632590\n",
       "499    375  3.626883           1 -0.209847  1.897161 -1.381391\n",
       "\n",
       "[500 rows x 6 columns]"
      ]
     },
     "execution_count": 10,
     "metadata": {},
     "output_type": "execute_result"
    }
   ],
   "source": [
    "np.random.seed(1)\n",
    "df = pd.read_csv('https://raw.githubusercontent.com/guebin/MP2023/main/posts/employment.csv')\n",
    "df_balance = pd.DataFrame((np.random.randn(500,3)).reshape(500,3)*1,columns = ['balance'+str(i) for i in range(3)])\n",
    "df_train = pd.concat([df,df_balance],axis=1)\n",
    "df_train"
   ]
  },
  {
   "cell_type": "markdown",
   "id": "096116cf-359a-43b1-b742-7f3ce9454a2a",
   "metadata": {},
   "source": [
    "> 로지스틱 선형 회귀가 필요한 경우이다. 로지스틱 또한 penalty 계열 분석을 할 수 있다."
   ]
  },
  {
   "cell_type": "code",
   "execution_count": 23,
   "id": "368a0309-28e9-4963-be34-f7285a747efa",
   "metadata": {},
   "outputs": [
    {
     "data": {
      "text/plain": [
       "0.876"
      ]
     },
     "execution_count": 23,
     "metadata": {},
     "output_type": "execute_result"
    }
   ],
   "source": [
    "## 1\n",
    "X = df_train.drop('employment', axis = 1)\n",
    "y = df_train.employment\n",
    "\n",
    "## 2\n",
    "predictr = sklearn.linear_model.LogisticRegressionCV(Cs = [0.1, 1, 10, 100], penalty = 'l1', solver = 'liblinear', random_state = 42)\n",
    "\n",
    "## 3\n",
    "predictr.fit(X, y)\n",
    "\n",
    "## 4\n",
    "predictr.score(X, y)"
   ]
  },
  {
   "cell_type": "code",
   "execution_count": 24,
   "id": "311ea97e-52b9-4741-8cb0-9527b1cf9985",
   "metadata": {},
   "outputs": [
    {
     "data": {
      "text/plain": [
       "array([[0.00260249, 1.41401358, 0.        , 0.        , 0.        ]])"
      ]
     },
     "execution_count": 24,
     "metadata": {},
     "output_type": "execute_result"
    }
   ],
   "source": [
    "predictr.coef_"
   ]
  },
  {
   "cell_type": "code",
   "execution_count": 28,
   "id": "d5f987c7-d9f4-4ca2-b26c-dc7cf0f8916f",
   "metadata": {},
   "outputs": [
    {
     "data": {
      "text/plain": [
       "toeic       0.002602\n",
       "gpa         1.414014\n",
       "balance0    0.000000\n",
       "balance1    0.000000\n",
       "balance2    0.000000\n",
       "dtype: float64"
      ]
     },
     "execution_count": 28,
     "metadata": {},
     "output_type": "execute_result"
    }
   ],
   "source": [
    "s = pd.Series(predictr.coef_.reshape(-1))  ## 시리즈의 경우 1차원의 입력값만 받는다.\n",
    "s.index = X.columns\n",
    "s"
   ]
  },
  {
   "cell_type": "markdown",
   "id": "4162f2ce-b213-4d4b-88f7-150796e889e2",
   "metadata": {},
   "source": [
    "> 위에서 쓸모없는 것을 제거하고 분석한 것에 비해 점수가 낮지만, 쓸모없는 것이라는 사실을 모르는 상황에서는 Lasso가 상당히 괜찮다."
   ]
  },
  {
   "cell_type": "markdown",
   "id": "a21e1ea5-c00c-42d3-9b1a-eec9035e680a",
   "metadata": {},
   "source": [
    "### **D. 이상치의 존재**\n",
    "---\n",
    "\n",
    "\n"
   ]
  },
  {
   "cell_type": "markdown",
   "id": "13734d0e-59d7-4034-bcd3-cb4b11e88e77",
   "metadata": {},
   "source": [
    "<span style=color:red>문제</span> : 이상치가 존재할 경우 전체 모형이 무너질 수 있음\n",
    "\n",
    "\\- 해결방법\n",
    "\n",
    "> * 이상치를 제거하고 분석\n",
    "> > 느낌적으로 제거\n",
    "> >\n",
    "> > 이상치를 감지하는 지표를 사용하여 제거\n",
    "> >\n",
    "> > 이상치를 자동으로 감지하는 모형 사용하여 이상치 제거 후 분석\n",
    "> \n",
    "> * 로버스트 선형회귀 계열을 이용 > 이상치에 큰 영향을 받지 않음\n",
    "> > `sklearn.linear_model.HuberRegressor` 등\n",
    "> \n",
    "> * 이상치를 완화시키는 변환을 사용\n",
    "> > `sklearn.preprocessing.PowerTransformer`를 이용"
   ]
  },
  {
   "cell_type": "code",
   "execution_count": 36,
   "id": "dc105656-f1f2-4b15-b376-33e7e654a9bf",
   "metadata": {},
   "outputs": [
    {
     "data": {
      "text/html": [
       "<div>\n",
       "<style scoped>\n",
       "    .dataframe tbody tr th:only-of-type {\n",
       "        vertical-align: middle;\n",
       "    }\n",
       "\n",
       "    .dataframe tbody tr th {\n",
       "        vertical-align: top;\n",
       "    }\n",
       "\n",
       "    .dataframe thead th {\n",
       "        text-align: right;\n",
       "    }\n",
       "</style>\n",
       "<table border=\"1\" class=\"dataframe\">\n",
       "  <thead>\n",
       "    <tr style=\"text-align: right;\">\n",
       "      <th></th>\n",
       "      <th>temp</th>\n",
       "      <th>ice_sales</th>\n",
       "    </tr>\n",
       "  </thead>\n",
       "  <tbody>\n",
       "    <tr>\n",
       "      <th>0</th>\n",
       "      <td>-4.1</td>\n",
       "      <td>50.000000</td>\n",
       "    </tr>\n",
       "    <tr>\n",
       "      <th>1</th>\n",
       "      <td>-3.7</td>\n",
       "      <td>9.234175</td>\n",
       "    </tr>\n",
       "    <tr>\n",
       "      <th>2</th>\n",
       "      <td>-3.0</td>\n",
       "      <td>9.642778</td>\n",
       "    </tr>\n",
       "    <tr>\n",
       "      <th>3</th>\n",
       "      <td>-1.3</td>\n",
       "      <td>9.657894</td>\n",
       "    </tr>\n",
       "    <tr>\n",
       "      <th>4</th>\n",
       "      <td>-0.5</td>\n",
       "      <td>9.987787</td>\n",
       "    </tr>\n",
       "    <tr>\n",
       "      <th>5</th>\n",
       "      <td>-0.3</td>\n",
       "      <td>10.205951</td>\n",
       "    </tr>\n",
       "    <tr>\n",
       "      <th>6</th>\n",
       "      <td>0.3</td>\n",
       "      <td>8.486925</td>\n",
       "    </tr>\n",
       "    <tr>\n",
       "      <th>7</th>\n",
       "      <td>0.4</td>\n",
       "      <td>8.817227</td>\n",
       "    </tr>\n",
       "    <tr>\n",
       "      <th>8</th>\n",
       "      <td>0.4</td>\n",
       "      <td>8.273155</td>\n",
       "    </tr>\n",
       "    <tr>\n",
       "      <th>9</th>\n",
       "      <td>0.7</td>\n",
       "      <td>8.863784</td>\n",
       "    </tr>\n",
       "  </tbody>\n",
       "</table>\n",
       "</div>"
      ],
      "text/plain": [
       "   temp  ice_sales\n",
       "0  -4.1  50.000000\n",
       "1  -3.7   9.234175\n",
       "2  -3.0   9.642778\n",
       "3  -1.3   9.657894\n",
       "4  -0.5   9.987787\n",
       "5  -0.3  10.205951\n",
       "6   0.3   8.486925\n",
       "7   0.4   8.817227\n",
       "8   0.4   8.273155\n",
       "9   0.7   8.863784"
      ]
     },
     "execution_count": 36,
     "metadata": {},
     "output_type": "execute_result"
    }
   ],
   "source": [
    "np.random.seed(43052)\n",
    "temp = pd.read_csv('https://raw.githubusercontent.com/guebin/DV2022/master/posts/temp.csv').iloc[:100,3].to_numpy()\n",
    "temp.sort()\n",
    "ice_sales = 10 + temp * 0.5 + np.random.randn(100)\n",
    "ice_sales[0] = 50\n",
    "df_train = pd.DataFrame({'temp':temp,'ice_sales':ice_sales})[:10]\n",
    "df_train"
   ]
  },
  {
   "cell_type": "code",
   "execution_count": 37,
   "id": "d6e47841-37e5-4630-b901-4384d7243b02",
   "metadata": {},
   "outputs": [
    {
     "data": {
      "text/plain": [
       "array([[-1.40729341,  2.42405408],\n",
       "       [-1.31406689, -0.18677452],\n",
       "       [-1.13030154,  0.16485704],\n",
       "       [-0.50278108,  0.17667635],\n",
       "       [-0.02130412,  0.41617603],\n",
       "       [ 0.13926015,  0.55696978],\n",
       "       [ 0.81742569, -1.03040835],\n",
       "       [ 0.96759638, -0.62032873],\n",
       "       [ 0.96759638, -1.33362249],\n",
       "       [ 1.48386844, -0.56759919]])"
      ]
     },
     "execution_count": 37,
     "metadata": {},
     "output_type": "execute_result"
    }
   ],
   "source": [
    "transformr = sklearn.preprocessing.PowerTransformer()\n",
    "\n",
    "transformr.fit_transform(df_train)"
   ]
  },
  {
   "cell_type": "code",
   "execution_count": 42,
   "id": "e0d75000-036d-4554-9132-35e133e7ab27",
   "metadata": {},
   "outputs": [
    {
     "data": {
      "text/plain": [
       "(array([-1.40729341, -1.31406689, -1.13030154, -0.50278108, -0.02130412,\n",
       "         0.13926015,  0.81742569,  0.96759638,  0.96759638,  1.48386844]),\n",
       " array([ 2.42405408, -0.18677452,  0.16485704,  0.17667635,  0.41617603,\n",
       "         0.55696978, -1.03040835, -0.62032873, -1.33362249, -0.56759919]))"
      ]
     },
     "execution_count": 42,
     "metadata": {},
     "output_type": "execute_result"
    }
   ],
   "source": [
    "x, y = transformr.fit_transform(df_train).T\n",
    "x, y"
   ]
  },
  {
   "cell_type": "code",
   "execution_count": 50,
   "id": "49ff2162-8d36-4474-9f3d-f798ce04b93c",
   "metadata": {},
   "outputs": [
    {
     "data": {
      "image/png": "[encoded data removed]",
      "text/plain": [
       "<Figure size 640x480 with 1 Axes>"
      ]
     },
     "metadata": {},
     "output_type": "display_data"
    }
   ],
   "source": [
    "plt.plot(df_train.temp, df_train.ice_sales, 'o', label = 'before')\n",
    "plt.plot(x, y, 'o', label = 'after')\n",
    "plt.xlabel('temp')\n",
    "plt.ylabel('ice sales')\n",
    "plt.legend()\n",
    "plt.show()"
   ]
  },
  {
   "cell_type": "markdown",
   "id": "cfef0001-854f-449c-9f0f-1d49a52d2ceb",
   "metadata": {},
   "source": [
    "> 강제로 정규화한 모습이다."
   ]
  },
  {
   "cell_type": "code",
   "execution_count": 52,
   "id": "9e1f7c07-5a66-4236-aef9-1f563e9937fa",
   "metadata": {},
   "outputs": [
    {
     "name": "stderr",
     "output_type": "stream",
     "text": [
      "C:\\Users\\hollyriver\\anaconda3\\envs\\py\\lib\\site-packages\\sklearn\\base.py:464: UserWarning: X does not have valid feature names, but PowerTransformer was fitted with feature names\n",
      "  warnings.warn(\n"
     ]
    },
    {
     "data": {
      "text/plain": [
       "array([[-4.1       , 50.        ],\n",
       "       [-3.7       ,  9.2341745 ],\n",
       "       [-3.        ,  9.64277825],\n",
       "       [-1.3       ,  9.65789368],\n",
       "       [-0.5       ,  9.98778744],\n",
       "       [-0.3       , 10.20595116],\n",
       "       [ 0.3       ,  8.48692458],\n",
       "       [ 0.4       ,  8.81722682],\n",
       "       [ 0.4       ,  8.27315516],\n",
       "       [ 0.7       ,  8.8637837 ]])"
      ]
     },
     "execution_count": 52,
     "metadata": {},
     "output_type": "execute_result"
    }
   ],
   "source": [
    "transformr.inverse_transform(transformr.fit_transform(df_train))"
   ]
  },
  {
   "cell_type": "code",
   "execution_count": 56,
   "id": "bb94ca6e-63a0-4d99-bfa0-abe17490f2dd",
   "metadata": {},
   "outputs": [
    {
     "data": {
      "text/html": [
       "<div>\n",
       "<style scoped>\n",
       "    .dataframe tbody tr th:only-of-type {\n",
       "        vertical-align: middle;\n",
       "    }\n",
       "\n",
       "    .dataframe tbody tr th {\n",
       "        vertical-align: top;\n",
       "    }\n",
       "\n",
       "    .dataframe thead th {\n",
       "        text-align: right;\n",
       "    }\n",
       "</style>\n",
       "<table border=\"1\" class=\"dataframe\">\n",
       "  <thead>\n",
       "    <tr style=\"text-align: right;\">\n",
       "      <th></th>\n",
       "      <th>temp</th>\n",
       "      <th>ice_sales</th>\n",
       "    </tr>\n",
       "  </thead>\n",
       "  <tbody>\n",
       "    <tr>\n",
       "      <th>0</th>\n",
       "      <td>-4.1</td>\n",
       "      <td>50.000000</td>\n",
       "    </tr>\n",
       "    <tr>\n",
       "      <th>1</th>\n",
       "      <td>-3.7</td>\n",
       "      <td>9.234175</td>\n",
       "    </tr>\n",
       "    <tr>\n",
       "      <th>2</th>\n",
       "      <td>-3.0</td>\n",
       "      <td>9.642778</td>\n",
       "    </tr>\n",
       "    <tr>\n",
       "      <th>3</th>\n",
       "      <td>-1.3</td>\n",
       "      <td>9.657894</td>\n",
       "    </tr>\n",
       "    <tr>\n",
       "      <th>4</th>\n",
       "      <td>-0.5</td>\n",
       "      <td>9.987787</td>\n",
       "    </tr>\n",
       "    <tr>\n",
       "      <th>5</th>\n",
       "      <td>-0.3</td>\n",
       "      <td>10.205951</td>\n",
       "    </tr>\n",
       "    <tr>\n",
       "      <th>6</th>\n",
       "      <td>0.3</td>\n",
       "      <td>8.486925</td>\n",
       "    </tr>\n",
       "    <tr>\n",
       "      <th>7</th>\n",
       "      <td>0.4</td>\n",
       "      <td>8.817227</td>\n",
       "    </tr>\n",
       "    <tr>\n",
       "      <th>8</th>\n",
       "      <td>0.4</td>\n",
       "      <td>8.273155</td>\n",
       "    </tr>\n",
       "    <tr>\n",
       "      <th>9</th>\n",
       "      <td>0.7</td>\n",
       "      <td>8.863784</td>\n",
       "    </tr>\n",
       "  </tbody>\n",
       "</table>\n",
       "</div>"
      ],
      "text/plain": [
       "   temp  ice_sales\n",
       "0  -4.1  50.000000\n",
       "1  -3.7   9.234175\n",
       "2  -3.0   9.642778\n",
       "3  -1.3   9.657894\n",
       "4  -0.5   9.987787\n",
       "5  -0.3  10.205951\n",
       "6   0.3   8.486925\n",
       "7   0.4   8.817227\n",
       "8   0.4   8.273155\n",
       "9   0.7   8.863784"
      ]
     },
     "execution_count": 56,
     "metadata": {},
     "output_type": "execute_result"
    }
   ],
   "source": [
    "df_train"
   ]
  },
  {
   "cell_type": "markdown",
   "id": "c56df5e6-2856-45b1-9cc1-7c764ae68513",
   "metadata": {},
   "source": [
    "> 어차피 역변환 할 수 있는 것은 상관이 없다."
   ]
  },
  {
   "cell_type": "markdown",
   "id": "fed00788-3650-48d7-82f6-ac3b806cfbfc",
   "metadata": {},
   "source": [
    "### **E. 교호작용의 존재**\n",
    "---\n",
    "\n",
    "\n"
   ]
  },
  {
   "cell_type": "markdown",
   "id": "58b0364d-59f2-40a2-9981-22506709ba42",
   "metadata": {},
   "source": [
    "<span style=color:red>문제</span> : 설명 변수 간의 상호작용이 있는 경우, 이를 고려하지 않으면 데이터를 잘 설명하지 못할 수 있음.\n",
    "\n",
    "\\- 해결방안\n",
    "\n",
    "> * 교호작용이 있는 열들의 값끼리 곱함\n",
    "> * 교호작용에 영향을 받지 않는 모델 사용\n",
    "> > `sklearn.tree.DecisionTreeRegressor()`"
   ]
  },
  {
   "cell_type": "markdown",
   "id": "c165bbbe-0e4d-4c2c-b35d-31a9c27c6c68",
   "metadata": {},
   "source": [
    "\\- 교호작용이 있는 열을 곱함"
   ]
  },
  {
   "cell_type": "code",
   "execution_count": 61,
   "id": "1db7ad1c-9f6d-46f9-914f-58ed1b6decf4",
   "metadata": {},
   "outputs": [
    {
     "data": {
      "text/html": [
       "<div>\n",
       "<style scoped>\n",
       "    .dataframe tbody tr th:only-of-type {\n",
       "        vertical-align: middle;\n",
       "    }\n",
       "\n",
       "    .dataframe tbody tr th {\n",
       "        vertical-align: top;\n",
       "    }\n",
       "\n",
       "    .dataframe thead th {\n",
       "        text-align: right;\n",
       "    }\n",
       "</style>\n",
       "<table border=\"1\" class=\"dataframe\">\n",
       "  <thead>\n",
       "    <tr style=\"text-align: right;\">\n",
       "      <th></th>\n",
       "      <th>Supplement</th>\n",
       "      <th>Exercise</th>\n",
       "      <th>Weight_Loss</th>\n",
       "    </tr>\n",
       "  </thead>\n",
       "  <tbody>\n",
       "    <tr>\n",
       "      <th>0</th>\n",
       "      <td>False</td>\n",
       "      <td>False</td>\n",
       "      <td>-0.877103</td>\n",
       "    </tr>\n",
       "    <tr>\n",
       "      <th>1</th>\n",
       "      <td>True</td>\n",
       "      <td>False</td>\n",
       "      <td>1.604542</td>\n",
       "    </tr>\n",
       "    <tr>\n",
       "      <th>2</th>\n",
       "      <td>True</td>\n",
       "      <td>True</td>\n",
       "      <td>13.824148</td>\n",
       "    </tr>\n",
       "    <tr>\n",
       "      <th>3</th>\n",
       "      <td>True</td>\n",
       "      <td>True</td>\n",
       "      <td>13.004505</td>\n",
       "    </tr>\n",
       "    <tr>\n",
       "      <th>4</th>\n",
       "      <td>True</td>\n",
       "      <td>True</td>\n",
       "      <td>13.701128</td>\n",
       "    </tr>\n",
       "    <tr>\n",
       "      <th>...</th>\n",
       "      <td>...</td>\n",
       "      <td>...</td>\n",
       "      <td>...</td>\n",
       "    </tr>\n",
       "    <tr>\n",
       "      <th>9995</th>\n",
       "      <td>True</td>\n",
       "      <td>False</td>\n",
       "      <td>1.558841</td>\n",
       "    </tr>\n",
       "    <tr>\n",
       "      <th>9996</th>\n",
       "      <td>False</td>\n",
       "      <td>False</td>\n",
       "      <td>-0.217816</td>\n",
       "    </tr>\n",
       "    <tr>\n",
       "      <th>9997</th>\n",
       "      <td>False</td>\n",
       "      <td>True</td>\n",
       "      <td>4.072701</td>\n",
       "    </tr>\n",
       "    <tr>\n",
       "      <th>9998</th>\n",
       "      <td>True</td>\n",
       "      <td>False</td>\n",
       "      <td>-0.253796</td>\n",
       "    </tr>\n",
       "    <tr>\n",
       "      <th>9999</th>\n",
       "      <td>False</td>\n",
       "      <td>False</td>\n",
       "      <td>-1.399092</td>\n",
       "    </tr>\n",
       "  </tbody>\n",
       "</table>\n",
       "<p>10000 rows × 3 columns</p>\n",
       "</div>"
      ],
      "text/plain": [
       "      Supplement  Exercise  Weight_Loss\n",
       "0          False     False    -0.877103\n",
       "1           True     False     1.604542\n",
       "2           True      True    13.824148\n",
       "3           True      True    13.004505\n",
       "4           True      True    13.701128\n",
       "...          ...       ...          ...\n",
       "9995        True     False     1.558841\n",
       "9996       False     False    -0.217816\n",
       "9997       False      True     4.072701\n",
       "9998        True     False    -0.253796\n",
       "9999       False     False    -1.399092\n",
       "\n",
       "[10000 rows x 3 columns]"
      ]
     },
     "execution_count": 61,
     "metadata": {},
     "output_type": "execute_result"
    }
   ],
   "source": [
    "df_train = pd.read_csv('https://raw.githubusercontent.com/guebin/MP2023/main/posts/weightloss.csv')\n",
    "df_train"
   ]
  },
  {
   "cell_type": "code",
   "execution_count": 63,
   "id": "93c16883-d7fb-4aa1-a98c-be6de55caea4",
   "metadata": {},
   "outputs": [
    {
     "data": {
      "text/html": [
       "<div>\n",
       "<style scoped>\n",
       "    .dataframe tbody tr th:only-of-type {\n",
       "        vertical-align: middle;\n",
       "    }\n",
       "\n",
       "    .dataframe tbody tr th {\n",
       "        vertical-align: top;\n",
       "    }\n",
       "\n",
       "    .dataframe thead th {\n",
       "        text-align: right;\n",
       "    }\n",
       "</style>\n",
       "<table border=\"1\" class=\"dataframe\">\n",
       "  <thead>\n",
       "    <tr style=\"text-align: right;\">\n",
       "      <th>Exercise</th>\n",
       "      <th>False</th>\n",
       "      <th>True</th>\n",
       "    </tr>\n",
       "    <tr>\n",
       "      <th>Supplement</th>\n",
       "      <th></th>\n",
       "      <th></th>\n",
       "    </tr>\n",
       "  </thead>\n",
       "  <tbody>\n",
       "    <tr>\n",
       "      <th>False</th>\n",
       "      <td>0.021673</td>\n",
       "      <td>4.991314</td>\n",
       "    </tr>\n",
       "    <tr>\n",
       "      <th>True</th>\n",
       "      <td>0.497573</td>\n",
       "      <td>14.966363</td>\n",
       "    </tr>\n",
       "  </tbody>\n",
       "</table>\n",
       "</div>"
      ],
      "text/plain": [
       "Exercise       False      True \n",
       "Supplement                     \n",
       "False       0.021673   4.991314\n",
       "True        0.497573  14.966363"
      ]
     },
     "execution_count": 63,
     "metadata": {},
     "output_type": "execute_result"
    }
   ],
   "source": [
    "df_train.pivot_table(index = 'Supplement', columns = 'Exercise', values = 'Weight_Loss', aggfunc = 'mean')"
   ]
  },
  {
   "cell_type": "markdown",
   "id": "e64543d5-0f31-4fdd-96b9-6a1a42ad8edb",
   "metadata": {},
   "source": [
    "> 둘 다 했을 때 가장 평균이 높고, 각각 하는 것만으로는 그렇게 큰 영향은 없는 것 같다.\n",
    "\n",
    "**교호작용을 고려하지 않은 분석**"
   ]
  },
  {
   "cell_type": "code",
   "execution_count": 62,
   "id": "1698224c-6164-4030-abfc-95416bcd63c8",
   "metadata": {},
   "outputs": [
    {
     "data": {
      "text/plain": [
       "0.8208414124769222"
      ]
     },
     "execution_count": 62,
     "metadata": {},
     "output_type": "execute_result"
    }
   ],
   "source": [
    "## 1\n",
    "X = df_train.drop('Weight_Loss', axis = 1)\n",
    "y = df_train.Weight_Loss\n",
    "\n",
    "## 2\n",
    "predictr = sklearn.linear_model.LinearRegression()\n",
    "\n",
    "## 3\n",
    "predictr.fit(X, y)\n",
    "\n",
    "## 4\n",
    "predictr.score(X, y)"
   ]
  },
  {
   "cell_type": "code",
   "execution_count": 64,
   "id": "fd4f3c3b-08d3-4860-a1d6-6e6d378c455b",
   "metadata": {},
   "outputs": [
    {
     "data": {
      "text/plain": [
       "array([5.21904037, 9.74766346])"
      ]
     },
     "execution_count": 64,
     "metadata": {},
     "output_type": "execute_result"
    }
   ],
   "source": [
    "predictr.coef_"
   ]
  },
  {
   "cell_type": "markdown",
   "id": "21d57f19-14ec-4b07-ae53-026de93a161f",
   "metadata": {},
   "source": [
    "> 보충제는 5kg, 운동은 10kg의 감량효과가 있다고 추정하고 있다."
   ]
  },
  {
   "cell_type": "code",
   "execution_count": 67,
   "id": "1b074fc8-d082-4f7a-9c3d-3abcacf02786",
   "metadata": {},
   "outputs": [
    {
     "data": {
      "text/html": [
       "<div>\n",
       "<style scoped>\n",
       "    .dataframe tbody tr th:only-of-type {\n",
       "        vertical-align: middle;\n",
       "    }\n",
       "\n",
       "    .dataframe tbody tr th {\n",
       "        vertical-align: top;\n",
       "    }\n",
       "\n",
       "    .dataframe thead th {\n",
       "        text-align: right;\n",
       "    }\n",
       "</style>\n",
       "<table border=\"1\" class=\"dataframe\">\n",
       "  <thead>\n",
       "    <tr style=\"text-align: right;\">\n",
       "      <th>Exercise</th>\n",
       "      <th>False</th>\n",
       "      <th>True</th>\n",
       "    </tr>\n",
       "    <tr>\n",
       "      <th>Supplement</th>\n",
       "      <th></th>\n",
       "      <th></th>\n",
       "    </tr>\n",
       "  </thead>\n",
       "  <tbody>\n",
       "    <tr>\n",
       "      <th>False</th>\n",
       "      <td>-2.373106</td>\n",
       "      <td>7.374557</td>\n",
       "    </tr>\n",
       "    <tr>\n",
       "      <th>True</th>\n",
       "      <td>2.845934</td>\n",
       "      <td>12.593598</td>\n",
       "    </tr>\n",
       "  </tbody>\n",
       "</table>\n",
       "</div>"
      ],
      "text/plain": [
       "Exercise       False      True \n",
       "Supplement                     \n",
       "False      -2.373106   7.374557\n",
       "True        2.845934  12.593598"
      ]
     },
     "execution_count": 67,
     "metadata": {},
     "output_type": "execute_result"
    }
   ],
   "source": [
    "df_train.assign(Weight_Loss_hat = predictr.predict(X)).drop('Weight_Loss', axis = 1)\\\n",
    ".pivot_table(index = 'Supplement', columns = 'Exercise', values = 'Weight_Loss_hat', aggfunc = 'mean')"
   ]
  },
  {
   "cell_type": "markdown",
   "id": "329eb448-63b3-4177-825b-482e818d7cc7",
   "metadata": {},
   "source": [
    "> 예측값과 실제 값의 차이가 크다."
   ]
  },
  {
   "cell_type": "markdown",
   "id": "82bcb5c6-e040-461b-a454-107a0c5d27d8",
   "metadata": {},
   "source": [
    "**교호작용을 고려한 분석**"
   ]
  },
  {
   "cell_type": "code",
   "execution_count": 68,
   "id": "dbbb3a4a-d9ee-4a3c-8ac7-9fbf45d0c931",
   "metadata": {},
   "outputs": [
    {
     "data": {
      "text/html": [
       "<div>\n",
       "<style scoped>\n",
       "    .dataframe tbody tr th:only-of-type {\n",
       "        vertical-align: middle;\n",
       "    }\n",
       "\n",
       "    .dataframe tbody tr th {\n",
       "        vertical-align: top;\n",
       "    }\n",
       "\n",
       "    .dataframe thead th {\n",
       "        text-align: right;\n",
       "    }\n",
       "</style>\n",
       "<table border=\"1\" class=\"dataframe\">\n",
       "  <thead>\n",
       "    <tr style=\"text-align: right;\">\n",
       "      <th></th>\n",
       "      <th>Supplement</th>\n",
       "      <th>Exercise</th>\n",
       "      <th>Weight_Loss</th>\n",
       "      <th>Interaction</th>\n",
       "    </tr>\n",
       "  </thead>\n",
       "  <tbody>\n",
       "    <tr>\n",
       "      <th>0</th>\n",
       "      <td>False</td>\n",
       "      <td>False</td>\n",
       "      <td>-0.877103</td>\n",
       "      <td>False</td>\n",
       "    </tr>\n",
       "    <tr>\n",
       "      <th>1</th>\n",
       "      <td>True</td>\n",
       "      <td>False</td>\n",
       "      <td>1.604542</td>\n",
       "      <td>False</td>\n",
       "    </tr>\n",
       "    <tr>\n",
       "      <th>2</th>\n",
       "      <td>True</td>\n",
       "      <td>True</td>\n",
       "      <td>13.824148</td>\n",
       "      <td>True</td>\n",
       "    </tr>\n",
       "    <tr>\n",
       "      <th>3</th>\n",
       "      <td>True</td>\n",
       "      <td>True</td>\n",
       "      <td>13.004505</td>\n",
       "      <td>True</td>\n",
       "    </tr>\n",
       "    <tr>\n",
       "      <th>4</th>\n",
       "      <td>True</td>\n",
       "      <td>True</td>\n",
       "      <td>13.701128</td>\n",
       "      <td>True</td>\n",
       "    </tr>\n",
       "    <tr>\n",
       "      <th>...</th>\n",
       "      <td>...</td>\n",
       "      <td>...</td>\n",
       "      <td>...</td>\n",
       "      <td>...</td>\n",
       "    </tr>\n",
       "    <tr>\n",
       "      <th>9995</th>\n",
       "      <td>True</td>\n",
       "      <td>False</td>\n",
       "      <td>1.558841</td>\n",
       "      <td>False</td>\n",
       "    </tr>\n",
       "    <tr>\n",
       "      <th>9996</th>\n",
       "      <td>False</td>\n",
       "      <td>False</td>\n",
       "      <td>-0.217816</td>\n",
       "      <td>False</td>\n",
       "    </tr>\n",
       "    <tr>\n",
       "      <th>9997</th>\n",
       "      <td>False</td>\n",
       "      <td>True</td>\n",
       "      <td>4.072701</td>\n",
       "      <td>False</td>\n",
       "    </tr>\n",
       "    <tr>\n",
       "      <th>9998</th>\n",
       "      <td>True</td>\n",
       "      <td>False</td>\n",
       "      <td>-0.253796</td>\n",
       "      <td>False</td>\n",
       "    </tr>\n",
       "    <tr>\n",
       "      <th>9999</th>\n",
       "      <td>False</td>\n",
       "      <td>False</td>\n",
       "      <td>-1.399092</td>\n",
       "      <td>False</td>\n",
       "    </tr>\n",
       "  </tbody>\n",
       "</table>\n",
       "<p>10000 rows × 4 columns</p>\n",
       "</div>"
      ],
      "text/plain": [
       "      Supplement  Exercise  Weight_Loss  Interaction\n",
       "0          False     False    -0.877103        False\n",
       "1           True     False     1.604542        False\n",
       "2           True      True    13.824148         True\n",
       "3           True      True    13.004505         True\n",
       "4           True      True    13.701128         True\n",
       "...          ...       ...          ...          ...\n",
       "9995        True     False     1.558841        False\n",
       "9996       False     False    -0.217816        False\n",
       "9997       False      True     4.072701        False\n",
       "9998        True     False    -0.253796        False\n",
       "9999       False     False    -1.399092        False\n",
       "\n",
       "[10000 rows x 4 columns]"
      ]
     },
     "execution_count": 68,
     "metadata": {},
     "output_type": "execute_result"
    }
   ],
   "source": [
    "df_train.assign(Interaction = df_train.Supplement * df_train.Exercise)"
   ]
  },
  {
   "cell_type": "code",
   "execution_count": 70,
   "id": "c89a044f-910f-4bb7-b225-ca8cab0aa299",
   "metadata": {},
   "outputs": [
    {
     "data": {
      "text/plain": [
       "0.9727754257714795"
      ]
     },
     "execution_count": 70,
     "metadata": {},
     "output_type": "execute_result"
    }
   ],
   "source": [
    "## 1\n",
    "_df = df_train.assign(Interaction = df_train.Supplement * df_train.Exercise)\n",
    "X = _df.drop('Weight_Loss', axis = 1)\n",
    "y = _df.Weight_Loss\n",
    "\n",
    "## 2\n",
    "predictr = sklearn.linear_model.LinearRegression()\n",
    "\n",
    "## 3\n",
    "predictr.fit(X, y)\n",
    "\n",
    "## 4\n",
    "predictr.score(X, y)"
   ]
  },
  {
   "cell_type": "markdown",
   "id": "27499701-3c6f-4ab9-a97f-8899091630d6",
   "metadata": {},
   "source": [
    "> 정확도가 개선되었다."
   ]
  },
  {
   "cell_type": "code",
   "execution_count": 73,
   "id": "34f0ac99-d867-412b-bae6-4fcea3dfa481",
   "metadata": {},
   "outputs": [
    {
     "data": {
      "text/html": [
       "<div>\n",
       "<style scoped>\n",
       "    .dataframe tbody tr th:only-of-type {\n",
       "        vertical-align: middle;\n",
       "    }\n",
       "\n",
       "    .dataframe tbody tr th {\n",
       "        vertical-align: top;\n",
       "    }\n",
       "\n",
       "    .dataframe thead th {\n",
       "        text-align: right;\n",
       "    }\n",
       "</style>\n",
       "<table border=\"1\" class=\"dataframe\">\n",
       "  <thead>\n",
       "    <tr style=\"text-align: right;\">\n",
       "      <th>Exercise</th>\n",
       "      <th>False</th>\n",
       "      <th>True</th>\n",
       "    </tr>\n",
       "    <tr>\n",
       "      <th>Supplement</th>\n",
       "      <th></th>\n",
       "      <th></th>\n",
       "    </tr>\n",
       "  </thead>\n",
       "  <tbody>\n",
       "    <tr>\n",
       "      <th>False</th>\n",
       "      <td>0.021673</td>\n",
       "      <td>4.991314</td>\n",
       "    </tr>\n",
       "    <tr>\n",
       "      <th>True</th>\n",
       "      <td>0.497573</td>\n",
       "      <td>14.966363</td>\n",
       "    </tr>\n",
       "  </tbody>\n",
       "</table>\n",
       "</div>"
      ],
      "text/plain": [
       "Exercise       False      True \n",
       "Supplement                     \n",
       "False       0.021673   4.991314\n",
       "True        0.497573  14.966363"
      ]
     },
     "execution_count": 73,
     "metadata": {},
     "output_type": "execute_result"
    }
   ],
   "source": [
    "df_train.assign(Weight_Loss_hat = predictr.predict(X)).drop('Weight_Loss', axis = 1)\\\n",
    ".pivot_table(index = 'Supplement', columns = 'Exercise', values = 'Weight_Loss_hat', aggfunc = 'mean')"
   ]
  },
  {
   "cell_type": "markdown",
   "id": "821b6b51-5617-42cd-af33-6b85983466ce",
   "metadata": {},
   "source": [
    "> 평균을 보면(오차를 제거함) 표본과 동일한 것을 볼 수 있다."
   ]
  },
  {
   "cell_type": "markdown",
   "id": "f5fd6fff-3cc9-4a71-aa4c-4b17f9af5ad3",
   "metadata": {},
   "source": [
    "## 3. 교호작용"
   ]
  },
  {
   "cell_type": "markdown",
   "id": "157b08ac-f51f-47ed-8927-97081e21e47f",
   "metadata": {},
   "source": [
    "### **A. 아이스크림 타입 별 판매량**\n",
    "---\n",
    "\n",
    "\n"
   ]
  },
  {
   "cell_type": "markdown",
   "id": "b51c33cb-a748-41d1-94f7-ea333b418652",
   "metadata": {},
   "source": [
    "\\- 왠지 익숙한 데이터"
   ]
  },
  {
   "cell_type": "code",
   "execution_count": 75,
   "id": "82c60788-303d-4bf9-a29d-5e085111638c",
   "metadata": {},
   "outputs": [
    {
     "data": {
      "text/html": [
       "<div>\n",
       "<style scoped>\n",
       "    .dataframe tbody tr th:only-of-type {\n",
       "        vertical-align: middle;\n",
       "    }\n",
       "\n",
       "    .dataframe tbody tr th {\n",
       "        vertical-align: top;\n",
       "    }\n",
       "\n",
       "    .dataframe thead th {\n",
       "        text-align: right;\n",
       "    }\n",
       "</style>\n",
       "<table border=\"1\" class=\"dataframe\">\n",
       "  <thead>\n",
       "    <tr style=\"text-align: right;\">\n",
       "      <th></th>\n",
       "      <th>temp</th>\n",
       "      <th>sales</th>\n",
       "      <th>type</th>\n",
       "    </tr>\n",
       "  </thead>\n",
       "  <tbody>\n",
       "    <tr>\n",
       "      <th>0</th>\n",
       "      <td>-4.1</td>\n",
       "      <td>32.950261</td>\n",
       "      <td>choco</td>\n",
       "    </tr>\n",
       "    <tr>\n",
       "      <th>1</th>\n",
       "      <td>-3.7</td>\n",
       "      <td>35.852524</td>\n",
       "      <td>choco</td>\n",
       "    </tr>\n",
       "    <tr>\n",
       "      <th>2</th>\n",
       "      <td>-3.0</td>\n",
       "      <td>37.428335</td>\n",
       "      <td>choco</td>\n",
       "    </tr>\n",
       "    <tr>\n",
       "      <th>3</th>\n",
       "      <td>-1.3</td>\n",
       "      <td>38.323681</td>\n",
       "      <td>choco</td>\n",
       "    </tr>\n",
       "    <tr>\n",
       "      <th>4</th>\n",
       "      <td>-0.5</td>\n",
       "      <td>39.713362</td>\n",
       "      <td>choco</td>\n",
       "    </tr>\n",
       "    <tr>\n",
       "      <th>...</th>\n",
       "      <td>...</td>\n",
       "      <td>...</td>\n",
       "      <td>...</td>\n",
       "    </tr>\n",
       "    <tr>\n",
       "      <th>95</th>\n",
       "      <td>12.4</td>\n",
       "      <td>119.708075</td>\n",
       "      <td>vanilla</td>\n",
       "    </tr>\n",
       "    <tr>\n",
       "      <th>96</th>\n",
       "      <td>13.4</td>\n",
       "      <td>129.300464</td>\n",
       "      <td>vanilla</td>\n",
       "    </tr>\n",
       "    <tr>\n",
       "      <th>97</th>\n",
       "      <td>14.7</td>\n",
       "      <td>136.596568</td>\n",
       "      <td>vanilla</td>\n",
       "    </tr>\n",
       "    <tr>\n",
       "      <th>98</th>\n",
       "      <td>15.0</td>\n",
       "      <td>136.213140</td>\n",
       "      <td>vanilla</td>\n",
       "    </tr>\n",
       "    <tr>\n",
       "      <th>99</th>\n",
       "      <td>15.2</td>\n",
       "      <td>135.595252</td>\n",
       "      <td>vanilla</td>\n",
       "    </tr>\n",
       "  </tbody>\n",
       "</table>\n",
       "<p>200 rows × 3 columns</p>\n",
       "</div>"
      ],
      "text/plain": [
       "    temp       sales     type\n",
       "0   -4.1   32.950261    choco\n",
       "1   -3.7   35.852524    choco\n",
       "2   -3.0   37.428335    choco\n",
       "3   -1.3   38.323681    choco\n",
       "4   -0.5   39.713362    choco\n",
       "..   ...         ...      ...\n",
       "95  12.4  119.708075  vanilla\n",
       "96  13.4  129.300464  vanilla\n",
       "97  14.7  136.596568  vanilla\n",
       "98  15.0  136.213140  vanilla\n",
       "99  15.2  135.595252  vanilla\n",
       "\n",
       "[200 rows x 3 columns]"
      ]
     },
     "execution_count": 75,
     "metadata": {},
     "output_type": "execute_result"
    }
   ],
   "source": [
    "np.random.seed(43052)\n",
    "temp = pd.read_csv('https://raw.githubusercontent.com/guebin/DV2022/master/posts/temp.csv').iloc[:,3].to_numpy()[:100]\n",
    "temp.sort()\n",
    "choco = 40 + temp * 2.0 + np.random.randn(100)*3\n",
    "vanilla = 60 + temp * 5.0 + np.random.randn(100)*3\n",
    "df1 = pd.DataFrame({'temp':temp,'sales':choco}).assign(type='choco')\n",
    "df2 = pd.DataFrame({'temp':temp,'sales':vanilla}).assign(type='vanilla')\n",
    "df_train = pd.concat([df1,df2])\n",
    "df_train"
   ]
  },
  {
   "cell_type": "code",
   "execution_count": 76,
   "id": "30d54887-0bd8-422e-b41e-bdcc2b4ede82",
   "metadata": {},
   "outputs": [
    {
     "data": {
      "text/plain": [
       "{'choco', 'vanilla'}"
      ]
     },
     "execution_count": 76,
     "metadata": {},
     "output_type": "execute_result"
    }
   ],
   "source": [
    "set(df_train.type)"
   ]
  },
  {
   "cell_type": "code",
   "execution_count": 80,
   "id": "b6ce6876-3fdc-4f54-9d97-1efde9fb4312",
   "metadata": {},
   "outputs": [
    {
     "data": {
      "image/png": "[encoded data removed]",
      "text/plain": [
       "<Figure size 640x480 with 1 Axes>"
      ]
     },
     "metadata": {},
     "output_type": "display_data"
    }
   ],
   "source": [
    "plt.plot(df_train.loc[df_train.type == 'choco'].temp, df_train.loc[df_train.type == 'choco'].sales, 'o', label = 'choco')\n",
    "plt.plot(df_train.loc[df_train.type != 'choco'].temp, df_train.loc[df_train.type != 'choco'].sales, 'o', label = 'vanilla')\n",
    "plt.legend()\n",
    "plt.show()"
   ]
  },
  {
   "cell_type": "markdown",
   "id": "cd868435-4830-4d3d-a863-cdcac4559257",
   "metadata": {},
   "source": [
    "\\- 아이스크림의 종류에 따라 온도가 판매량에 미치는 정도가 다를 것으로 예상된다.\n",
    "\n",
    "> 아이스크림 종류와 온도간에 교호작용이 있다."
   ]
  },
  {
   "cell_type": "markdown",
   "id": "84c7d1c4-820a-4ab1-9e6e-87c3b3948af4",
   "metadata": {},
   "source": [
    "**교호작용을 고려하지 않은 경우**"
   ]
  },
  {
   "cell_type": "code",
   "execution_count": 83,
   "id": "664b82e8-33ed-40a2-ac36-025bc27603a4",
   "metadata": {},
   "outputs": [
    {
     "data": {
      "text/plain": [
       "0.9249530603100549"
      ]
     },
     "execution_count": 83,
     "metadata": {},
     "output_type": "execute_result"
    }
   ],
   "source": [
    "## 1\n",
    "X = pd.get_dummies(df_train.drop('sales', axis = 1))\n",
    "y = df_train.sales\n",
    "\n",
    "## 2\n",
    "predictr = sklearn.linear_model.LinearRegression()\n",
    "\n",
    "## 3\n",
    "predictr.fit(X, y)\n",
    "\n",
    "## 4\n",
    "predictr.score(X, y)"
   ]
  },
  {
   "cell_type": "markdown",
   "id": "8d0ea846-85ac-4217-9625-7c16ac159f27",
   "metadata": {},
   "source": [
    "> 이것만으로도 나름 높은 점수가 나오긴 했지만... 언제나 개선할 수 있는 건 개선해야 한다."
   ]
  },
  {
   "cell_type": "code",
   "execution_count": 85,
   "id": "ca708aa9-4f4b-44a4-bf4c-fca2b564cbe4",
   "metadata": {},
   "outputs": [],
   "source": [
    "_df = df_train.assign(sales_hat = predictr.predict(X))"
   ]
  },
  {
   "cell_type": "code",
   "execution_count": 87,
   "id": "78b18f32-aaa8-40a6-8ee9-1e38cbbc142c",
   "metadata": {},
   "outputs": [
    {
     "data": {
      "image/png": "[encoded data removed]",
      "text/plain": [
       "<Figure size 640x480 with 1 Axes>"
      ]
     },
     "metadata": {},
     "output_type": "display_data"
    }
   ],
   "source": [
    "plt.plot(df_train.loc[df_train.type == 'choco'].temp, df_train.loc[df_train.type == 'choco'].sales, 'o', label = 'choco')\n",
    "plt.plot(df_train.loc[df_train.type != 'choco'].temp, df_train.loc[df_train.type != 'choco'].sales, 'o', label = 'vanilla')\n",
    "\n",
    "plt.plot(df_train.loc[df_train.type == 'choco'].temp, _df.loc[df_train.type == 'choco'].sales_hat, '--', color = 'C0')\n",
    "plt.plot(df_train.loc[df_train.type != 'choco'].temp, _df.loc[df_train.type != 'choco'].sales_hat, '--', color = 'C1')\n",
    "\n",
    "plt.legend()\n",
    "plt.show()"
   ]
  },
  {
   "cell_type": "markdown",
   "id": "f6f0ef3d-24cc-476e-8cdb-597a311e96ab",
   "metadata": {},
   "source": [
    "> 마음속의 언더라잉과 맞지 않는다 : 언더피팅된 상황이다."
   ]
  },
  {
   "cell_type": "markdown",
   "id": "769f2460-8d13-4916-850a-ef15ab110ec4",
   "metadata": {},
   "source": [
    "**교호작용을 고려**"
   ]
  },
  {
   "cell_type": "code",
   "execution_count": 101,
   "id": "e2344722-a905-4dc2-83fa-a2747f3353cc",
   "metadata": {},
   "outputs": [
    {
     "data": {
      "text/html": [
       "<div>\n",
       "<style scoped>\n",
       "    .dataframe tbody tr th:only-of-type {\n",
       "        vertical-align: middle;\n",
       "    }\n",
       "\n",
       "    .dataframe tbody tr th {\n",
       "        vertical-align: top;\n",
       "    }\n",
       "\n",
       "    .dataframe thead th {\n",
       "        text-align: right;\n",
       "    }\n",
       "</style>\n",
       "<table border=\"1\" class=\"dataframe\">\n",
       "  <thead>\n",
       "    <tr style=\"text-align: right;\">\n",
       "      <th></th>\n",
       "      <th>vanilla</th>\n",
       "    </tr>\n",
       "  </thead>\n",
       "  <tbody>\n",
       "    <tr>\n",
       "      <th>0</th>\n",
       "      <td>0</td>\n",
       "    </tr>\n",
       "    <tr>\n",
       "      <th>1</th>\n",
       "      <td>0</td>\n",
       "    </tr>\n",
       "    <tr>\n",
       "      <th>2</th>\n",
       "      <td>0</td>\n",
       "    </tr>\n",
       "    <tr>\n",
       "      <th>3</th>\n",
       "      <td>0</td>\n",
       "    </tr>\n",
       "    <tr>\n",
       "      <th>4</th>\n",
       "      <td>0</td>\n",
       "    </tr>\n",
       "    <tr>\n",
       "      <th>...</th>\n",
       "      <td>...</td>\n",
       "    </tr>\n",
       "    <tr>\n",
       "      <th>95</th>\n",
       "      <td>1</td>\n",
       "    </tr>\n",
       "    <tr>\n",
       "      <th>96</th>\n",
       "      <td>1</td>\n",
       "    </tr>\n",
       "    <tr>\n",
       "      <th>97</th>\n",
       "      <td>1</td>\n",
       "    </tr>\n",
       "    <tr>\n",
       "      <th>98</th>\n",
       "      <td>1</td>\n",
       "    </tr>\n",
       "    <tr>\n",
       "      <th>99</th>\n",
       "      <td>1</td>\n",
       "    </tr>\n",
       "  </tbody>\n",
       "</table>\n",
       "<p>200 rows × 1 columns</p>\n",
       "</div>"
      ],
      "text/plain": [
       "    vanilla\n",
       "0         0\n",
       "1         0\n",
       "2         0\n",
       "3         0\n",
       "4         0\n",
       "..      ...\n",
       "95        1\n",
       "96        1\n",
       "97        1\n",
       "98        1\n",
       "99        1\n",
       "\n",
       "[200 rows x 1 columns]"
      ]
     },
     "execution_count": 101,
     "metadata": {},
     "output_type": "execute_result"
    }
   ],
   "source": [
    "van = pd.get_dummies(df_train.type, drop_first = True)*1\n",
    "van"
   ]
  },
  {
   "cell_type": "code",
   "execution_count": 104,
   "id": "eb13260a-aef8-4a99-8963-81447584911f",
   "metadata": {},
   "outputs": [
    {
     "data": {
      "text/html": [
       "<div>\n",
       "<style scoped>\n",
       "    .dataframe tbody tr th:only-of-type {\n",
       "        vertical-align: middle;\n",
       "    }\n",
       "\n",
       "    .dataframe tbody tr th {\n",
       "        vertical-align: top;\n",
       "    }\n",
       "\n",
       "    .dataframe thead th {\n",
       "        text-align: right;\n",
       "    }\n",
       "</style>\n",
       "<table border=\"1\" class=\"dataframe\">\n",
       "  <thead>\n",
       "    <tr style=\"text-align: right;\">\n",
       "      <th></th>\n",
       "      <th>temp</th>\n",
       "      <th>sales</th>\n",
       "      <th>type</th>\n",
       "      <th>Interaction</th>\n",
       "    </tr>\n",
       "  </thead>\n",
       "  <tbody>\n",
       "    <tr>\n",
       "      <th>0</th>\n",
       "      <td>-4.1</td>\n",
       "      <td>32.950261</td>\n",
       "      <td>choco</td>\n",
       "      <td>-0.0</td>\n",
       "    </tr>\n",
       "    <tr>\n",
       "      <th>1</th>\n",
       "      <td>-3.7</td>\n",
       "      <td>35.852524</td>\n",
       "      <td>choco</td>\n",
       "      <td>-0.0</td>\n",
       "    </tr>\n",
       "    <tr>\n",
       "      <th>2</th>\n",
       "      <td>-3.0</td>\n",
       "      <td>37.428335</td>\n",
       "      <td>choco</td>\n",
       "      <td>-0.0</td>\n",
       "    </tr>\n",
       "    <tr>\n",
       "      <th>3</th>\n",
       "      <td>-1.3</td>\n",
       "      <td>38.323681</td>\n",
       "      <td>choco</td>\n",
       "      <td>-0.0</td>\n",
       "    </tr>\n",
       "    <tr>\n",
       "      <th>4</th>\n",
       "      <td>-0.5</td>\n",
       "      <td>39.713362</td>\n",
       "      <td>choco</td>\n",
       "      <td>-0.0</td>\n",
       "    </tr>\n",
       "    <tr>\n",
       "      <th>...</th>\n",
       "      <td>...</td>\n",
       "      <td>...</td>\n",
       "      <td>...</td>\n",
       "      <td>...</td>\n",
       "    </tr>\n",
       "    <tr>\n",
       "      <th>95</th>\n",
       "      <td>12.4</td>\n",
       "      <td>119.708075</td>\n",
       "      <td>vanilla</td>\n",
       "      <td>12.4</td>\n",
       "    </tr>\n",
       "    <tr>\n",
       "      <th>96</th>\n",
       "      <td>13.4</td>\n",
       "      <td>129.300464</td>\n",
       "      <td>vanilla</td>\n",
       "      <td>13.4</td>\n",
       "    </tr>\n",
       "    <tr>\n",
       "      <th>97</th>\n",
       "      <td>14.7</td>\n",
       "      <td>136.596568</td>\n",
       "      <td>vanilla</td>\n",
       "      <td>14.7</td>\n",
       "    </tr>\n",
       "    <tr>\n",
       "      <th>98</th>\n",
       "      <td>15.0</td>\n",
       "      <td>136.213140</td>\n",
       "      <td>vanilla</td>\n",
       "      <td>15.0</td>\n",
       "    </tr>\n",
       "    <tr>\n",
       "      <th>99</th>\n",
       "      <td>15.2</td>\n",
       "      <td>135.595252</td>\n",
       "      <td>vanilla</td>\n",
       "      <td>15.2</td>\n",
       "    </tr>\n",
       "  </tbody>\n",
       "</table>\n",
       "<p>200 rows × 4 columns</p>\n",
       "</div>"
      ],
      "text/plain": [
       "    temp       sales     type  Interaction\n",
       "0   -4.1   32.950261    choco         -0.0\n",
       "1   -3.7   35.852524    choco         -0.0\n",
       "2   -3.0   37.428335    choco         -0.0\n",
       "3   -1.3   38.323681    choco         -0.0\n",
       "4   -0.5   39.713362    choco         -0.0\n",
       "..   ...         ...      ...          ...\n",
       "95  12.4  119.708075  vanilla         12.4\n",
       "96  13.4  129.300464  vanilla         13.4\n",
       "97  14.7  136.596568  vanilla         14.7\n",
       "98  15.0  136.213140  vanilla         15.0\n",
       "99  15.2  135.595252  vanilla         15.2\n",
       "\n",
       "[200 rows x 4 columns]"
      ]
     },
     "execution_count": 104,
     "metadata": {},
     "output_type": "execute_result"
    }
   ],
   "source": [
    "_df = df_train.assign(Interaction = df_train.temp * van.vanilla)\n",
    "_df"
   ]
  },
  {
   "cell_type": "code",
   "execution_count": 106,
   "id": "a9fee72f-e3f1-4a11-a695-c6e81e49ca48",
   "metadata": {},
   "outputs": [
    {
     "data": {
      "text/plain": [
       "0.9865793819066231"
      ]
     },
     "execution_count": 106,
     "metadata": {},
     "output_type": "execute_result"
    }
   ],
   "source": [
    "## 1\n",
    "X = pd.get_dummies(_df.drop('sales', axis = 1), drop_first = True)\n",
    "y = _df.sales\n",
    "\n",
    "## 2\n",
    "predictr = sklearn.linear_model.LinearRegression()\n",
    "\n",
    "## 3\n",
    "predictr.fit(X, y)\n",
    "\n",
    "## 4\n",
    "predictr.score(X, y)"
   ]
  },
  {
   "cell_type": "markdown",
   "id": "19cc8b55-0c3b-4449-9b1d-05dbcc20aa82",
   "metadata": {},
   "source": [
    "> 점수가 훨씬 높게 나왔다."
   ]
  },
  {
   "cell_type": "code",
   "execution_count": 107,
   "id": "37bc00de-9a48-4da3-b8aa-b8c9e4cd76e9",
   "metadata": {},
   "outputs": [
    {
     "data": {
      "text/html": [
       "<div>\n",
       "<style scoped>\n",
       "    .dataframe tbody tr th:only-of-type {\n",
       "        vertical-align: middle;\n",
       "    }\n",
       "\n",
       "    .dataframe tbody tr th {\n",
       "        vertical-align: top;\n",
       "    }\n",
       "\n",
       "    .dataframe thead th {\n",
       "        text-align: right;\n",
       "    }\n",
       "</style>\n",
       "<table border=\"1\" class=\"dataframe\">\n",
       "  <thead>\n",
       "    <tr style=\"text-align: right;\">\n",
       "      <th></th>\n",
       "      <th>temp</th>\n",
       "      <th>sales</th>\n",
       "      <th>type</th>\n",
       "      <th>Interaction</th>\n",
       "      <th>sales_hat</th>\n",
       "    </tr>\n",
       "  </thead>\n",
       "  <tbody>\n",
       "    <tr>\n",
       "      <th>0</th>\n",
       "      <td>-4.1</td>\n",
       "      <td>32.950261</td>\n",
       "      <td>choco</td>\n",
       "      <td>-0.0</td>\n",
       "      <td>31.403121</td>\n",
       "    </tr>\n",
       "    <tr>\n",
       "      <th>1</th>\n",
       "      <td>-3.7</td>\n",
       "      <td>35.852524</td>\n",
       "      <td>choco</td>\n",
       "      <td>-0.0</td>\n",
       "      <td>32.209366</td>\n",
       "    </tr>\n",
       "    <tr>\n",
       "      <th>2</th>\n",
       "      <td>-3.0</td>\n",
       "      <td>37.428335</td>\n",
       "      <td>choco</td>\n",
       "      <td>-0.0</td>\n",
       "      <td>33.620295</td>\n",
       "    </tr>\n",
       "    <tr>\n",
       "      <th>3</th>\n",
       "      <td>-1.3</td>\n",
       "      <td>38.323681</td>\n",
       "      <td>choco</td>\n",
       "      <td>-0.0</td>\n",
       "      <td>37.046835</td>\n",
       "    </tr>\n",
       "    <tr>\n",
       "      <th>4</th>\n",
       "      <td>-0.5</td>\n",
       "      <td>39.713362</td>\n",
       "      <td>choco</td>\n",
       "      <td>-0.0</td>\n",
       "      <td>38.659325</td>\n",
       "    </tr>\n",
       "    <tr>\n",
       "      <th>...</th>\n",
       "      <td>...</td>\n",
       "      <td>...</td>\n",
       "      <td>...</td>\n",
       "      <td>...</td>\n",
       "      <td>...</td>\n",
       "    </tr>\n",
       "    <tr>\n",
       "      <th>95</th>\n",
       "      <td>12.4</td>\n",
       "      <td>119.708075</td>\n",
       "      <td>vanilla</td>\n",
       "      <td>12.4</td>\n",
       "      <td>122.492017</td>\n",
       "    </tr>\n",
       "    <tr>\n",
       "      <th>96</th>\n",
       "      <td>13.4</td>\n",
       "      <td>129.300464</td>\n",
       "      <td>vanilla</td>\n",
       "      <td>13.4</td>\n",
       "      <td>127.521196</td>\n",
       "    </tr>\n",
       "    <tr>\n",
       "      <th>97</th>\n",
       "      <td>14.7</td>\n",
       "      <td>136.596568</td>\n",
       "      <td>vanilla</td>\n",
       "      <td>14.7</td>\n",
       "      <td>134.059129</td>\n",
       "    </tr>\n",
       "    <tr>\n",
       "      <th>98</th>\n",
       "      <td>15.0</td>\n",
       "      <td>136.213140</td>\n",
       "      <td>vanilla</td>\n",
       "      <td>15.0</td>\n",
       "      <td>135.567883</td>\n",
       "    </tr>\n",
       "    <tr>\n",
       "      <th>99</th>\n",
       "      <td>15.2</td>\n",
       "      <td>135.595252</td>\n",
       "      <td>vanilla</td>\n",
       "      <td>15.2</td>\n",
       "      <td>136.573719</td>\n",
       "    </tr>\n",
       "  </tbody>\n",
       "</table>\n",
       "<p>200 rows × 5 columns</p>\n",
       "</div>"
      ],
      "text/plain": [
       "    temp       sales     type  Interaction   sales_hat\n",
       "0   -4.1   32.950261    choco         -0.0   31.403121\n",
       "1   -3.7   35.852524    choco         -0.0   32.209366\n",
       "2   -3.0   37.428335    choco         -0.0   33.620295\n",
       "3   -1.3   38.323681    choco         -0.0   37.046835\n",
       "4   -0.5   39.713362    choco         -0.0   38.659325\n",
       "..   ...         ...      ...          ...         ...\n",
       "95  12.4  119.708075  vanilla         12.4  122.492017\n",
       "96  13.4  129.300464  vanilla         13.4  127.521196\n",
       "97  14.7  136.596568  vanilla         14.7  134.059129\n",
       "98  15.0  136.213140  vanilla         15.0  135.567883\n",
       "99  15.2  135.595252  vanilla         15.2  136.573719\n",
       "\n",
       "[200 rows x 5 columns]"
      ]
     },
     "execution_count": 107,
     "metadata": {},
     "output_type": "execute_result"
    }
   ],
   "source": [
    "__df = _df.assign(sales_hat = predictr.predict(X))\n",
    "__df"
   ]
  },
  {
   "cell_type": "code",
   "execution_count": 108,
   "id": "ab42788d-e60c-47da-81a6-9b1738133e9b",
   "metadata": {},
   "outputs": [
    {
     "data": {
      "image/png": "[encoded data removed]",
      "text/plain": [
       "<Figure size 640x480 with 1 Axes>"
      ]
     },
     "metadata": {},
     "output_type": "display_data"
    }
   ],
   "source": [
    "plt.plot(df_train.loc[df_train.type == 'choco'].temp, df_train.loc[df_train.type == 'choco'].sales, 'o', label = 'choco')\n",
    "plt.plot(df_train.loc[df_train.type != 'choco'].temp, df_train.loc[df_train.type != 'choco'].sales, 'o', label = 'vanilla')\n",
    "\n",
    "plt.plot(df_train.loc[df_train.type == 'choco'].temp, __df.loc[df_train.type == 'choco'].sales_hat, '--', color = 'C0')\n",
    "plt.plot(df_train.loc[df_train.type != 'choco'].temp, __df.loc[df_train.type != 'choco'].sales_hat, '--', color = 'C1')\n",
    "\n",
    "plt.legend()\n",
    "plt.show()"
   ]
  },
  {
   "cell_type": "code",
   "execution_count": 109,
   "id": "d08e2a1d-f2de-4a01-8525-5fcf95067081",
   "metadata": {},
   "outputs": [
    {
     "data": {
      "text/plain": [
       "array([ 2.01561216,  3.01356716, 20.46306209])"
      ]
     },
     "execution_count": 109,
     "metadata": {},
     "output_type": "execute_result"
    }
   ],
   "source": [
    "predictr.coef_"
   ]
  },
  {
   "cell_type": "markdown",
   "id": "8d0690ea-1921-4f9a-8132-2507b8dd120b",
   "metadata": {},
   "source": [
    "> 모델이 언더라잉을 잘 따라가는 것을 볼 수 있다.(애초에 계수가 세개가 됨...)"
   ]
  },
  {
   "cell_type": "markdown",
   "id": "2a4d659c-66c6-497f-a61a-541d2648463e",
   "metadata": {},
   "source": [
    "### **B. 교호작용, tree**\n",
    "---\n",
    "\n",
    "\n"
   ]
  },
  {
   "cell_type": "markdown",
   "id": "c7ced78f-d82e-4d74-af55-5c32810c189f",
   "metadata": {},
   "source": [
    "`sklearn.tree.DecisionTreeRegressor()`를 사용하면 교호작용을 손쉽게 적합할 수 있다."
   ]
  },
  {
   "cell_type": "code",
   "execution_count": 117,
   "id": "663da031-103f-464a-97aa-3e4ba6dfe401",
   "metadata": {},
   "outputs": [
    {
     "data": {
      "text/html": [
       "<div>\n",
       "<style scoped>\n",
       "    .dataframe tbody tr th:only-of-type {\n",
       "        vertical-align: middle;\n",
       "    }\n",
       "\n",
       "    .dataframe tbody tr th {\n",
       "        vertical-align: top;\n",
       "    }\n",
       "\n",
       "    .dataframe thead th {\n",
       "        text-align: right;\n",
       "    }\n",
       "</style>\n",
       "<table border=\"1\" class=\"dataframe\">\n",
       "  <thead>\n",
       "    <tr style=\"text-align: right;\">\n",
       "      <th></th>\n",
       "      <th>temp</th>\n",
       "      <th>sales</th>\n",
       "      <th>type</th>\n",
       "    </tr>\n",
       "  </thead>\n",
       "  <tbody>\n",
       "    <tr>\n",
       "      <th>0</th>\n",
       "      <td>-4.1</td>\n",
       "      <td>32.950261</td>\n",
       "      <td>choco</td>\n",
       "    </tr>\n",
       "    <tr>\n",
       "      <th>1</th>\n",
       "      <td>-3.7</td>\n",
       "      <td>35.852524</td>\n",
       "      <td>choco</td>\n",
       "    </tr>\n",
       "    <tr>\n",
       "      <th>2</th>\n",
       "      <td>-3.0</td>\n",
       "      <td>37.428335</td>\n",
       "      <td>choco</td>\n",
       "    </tr>\n",
       "    <tr>\n",
       "      <th>3</th>\n",
       "      <td>-1.3</td>\n",
       "      <td>38.323681</td>\n",
       "      <td>choco</td>\n",
       "    </tr>\n",
       "    <tr>\n",
       "      <th>4</th>\n",
       "      <td>-0.5</td>\n",
       "      <td>39.713362</td>\n",
       "      <td>choco</td>\n",
       "    </tr>\n",
       "    <tr>\n",
       "      <th>...</th>\n",
       "      <td>...</td>\n",
       "      <td>...</td>\n",
       "      <td>...</td>\n",
       "    </tr>\n",
       "    <tr>\n",
       "      <th>95</th>\n",
       "      <td>12.4</td>\n",
       "      <td>119.708075</td>\n",
       "      <td>vanilla</td>\n",
       "    </tr>\n",
       "    <tr>\n",
       "      <th>96</th>\n",
       "      <td>13.4</td>\n",
       "      <td>129.300464</td>\n",
       "      <td>vanilla</td>\n",
       "    </tr>\n",
       "    <tr>\n",
       "      <th>97</th>\n",
       "      <td>14.7</td>\n",
       "      <td>136.596568</td>\n",
       "      <td>vanilla</td>\n",
       "    </tr>\n",
       "    <tr>\n",
       "      <th>98</th>\n",
       "      <td>15.0</td>\n",
       "      <td>136.213140</td>\n",
       "      <td>vanilla</td>\n",
       "    </tr>\n",
       "    <tr>\n",
       "      <th>99</th>\n",
       "      <td>15.2</td>\n",
       "      <td>135.595252</td>\n",
       "      <td>vanilla</td>\n",
       "    </tr>\n",
       "  </tbody>\n",
       "</table>\n",
       "<p>200 rows × 3 columns</p>\n",
       "</div>"
      ],
      "text/plain": [
       "    temp       sales     type\n",
       "0   -4.1   32.950261    choco\n",
       "1   -3.7   35.852524    choco\n",
       "2   -3.0   37.428335    choco\n",
       "3   -1.3   38.323681    choco\n",
       "4   -0.5   39.713362    choco\n",
       "..   ...         ...      ...\n",
       "95  12.4  119.708075  vanilla\n",
       "96  13.4  129.300464  vanilla\n",
       "97  14.7  136.596568  vanilla\n",
       "98  15.0  136.213140  vanilla\n",
       "99  15.2  135.595252  vanilla\n",
       "\n",
       "[200 rows x 3 columns]"
      ]
     },
     "execution_count": 117,
     "metadata": {},
     "output_type": "execute_result"
    }
   ],
   "source": [
    "np.random.seed(43052)\n",
    "temp = pd.read_csv('https://raw.githubusercontent.com/guebin/DV2022/master/posts/temp.csv').iloc[:,3].to_numpy()[:100]\n",
    "temp.sort()\n",
    "choco = 40 + temp * 2.0 + np.random.randn(100)*3\n",
    "vanilla = 60 + temp * 5.0 + np.random.randn(100)*3\n",
    "df1 = pd.DataFrame({'temp':temp,'sales':choco}).assign(type='choco')\n",
    "df2 = pd.DataFrame({'temp':temp,'sales':vanilla}).assign(type='vanilla')\n",
    "df_train = pd.concat([df1,df2])\n",
    "df_train"
   ]
  },
  {
   "cell_type": "markdown",
   "id": "24ff0ea8-dc06-481a-b09e-c375512397f8",
   "metadata": {},
   "source": [
    "> 아까와 동일한 자료를 tree로 분석해보자..."
   ]
  },
  {
   "cell_type": "code",
   "execution_count": 118,
   "id": "886cf21e-7db6-4ecf-9853-9fcaf7275d32",
   "metadata": {},
   "outputs": [
    {
     "data": {
      "text/plain": [
       "0.9963887702553287"
      ]
     },
     "execution_count": 118,
     "metadata": {},
     "output_type": "execute_result"
    }
   ],
   "source": [
    "## 1\n",
    "X = pd.get_dummies(df_train.drop('sales', axis = 1), drop_first = True)\n",
    "y = df_train.sales\n",
    "\n",
    "## 2\n",
    "predictr = sklearn.tree.DecisionTreeRegressor()\n",
    "\n",
    "## 3\n",
    "predictr.fit(X, y)\n",
    "\n",
    "## 4\n",
    "predictr.score(X, y)"
   ]
  },
  {
   "cell_type": "markdown",
   "id": "aa25970d-61c9-438e-8c2f-229fa117c53e",
   "metadata": {},
   "source": [
    "> 높은 스코어가 나온다.(오버피팅된 것은 아닐까?)"
   ]
  },
  {
   "cell_type": "code",
   "execution_count": 119,
   "id": "471b0aae-3fda-4030-946a-450c6b837254",
   "metadata": {},
   "outputs": [
    {
     "data": {
      "text/html": [
       "<div>\n",
       "<style scoped>\n",
       "    .dataframe tbody tr th:only-of-type {\n",
       "        vertical-align: middle;\n",
       "    }\n",
       "\n",
       "    .dataframe tbody tr th {\n",
       "        vertical-align: top;\n",
       "    }\n",
       "\n",
       "    .dataframe thead th {\n",
       "        text-align: right;\n",
       "    }\n",
       "</style>\n",
       "<table border=\"1\" class=\"dataframe\">\n",
       "  <thead>\n",
       "    <tr style=\"text-align: right;\">\n",
       "      <th></th>\n",
       "      <th>temp</th>\n",
       "      <th>sales</th>\n",
       "      <th>type</th>\n",
       "      <th>sales_hat</th>\n",
       "    </tr>\n",
       "  </thead>\n",
       "  <tbody>\n",
       "    <tr>\n",
       "      <th>0</th>\n",
       "      <td>-4.1</td>\n",
       "      <td>32.950261</td>\n",
       "      <td>choco</td>\n",
       "      <td>32.950261</td>\n",
       "    </tr>\n",
       "    <tr>\n",
       "      <th>1</th>\n",
       "      <td>-3.7</td>\n",
       "      <td>35.852524</td>\n",
       "      <td>choco</td>\n",
       "      <td>35.852524</td>\n",
       "    </tr>\n",
       "    <tr>\n",
       "      <th>2</th>\n",
       "      <td>-3.0</td>\n",
       "      <td>37.428335</td>\n",
       "      <td>choco</td>\n",
       "      <td>37.428335</td>\n",
       "    </tr>\n",
       "    <tr>\n",
       "      <th>3</th>\n",
       "      <td>-1.3</td>\n",
       "      <td>38.323681</td>\n",
       "      <td>choco</td>\n",
       "      <td>38.323681</td>\n",
       "    </tr>\n",
       "    <tr>\n",
       "      <th>4</th>\n",
       "      <td>-0.5</td>\n",
       "      <td>39.713362</td>\n",
       "      <td>choco</td>\n",
       "      <td>39.713362</td>\n",
       "    </tr>\n",
       "    <tr>\n",
       "      <th>...</th>\n",
       "      <td>...</td>\n",
       "      <td>...</td>\n",
       "      <td>...</td>\n",
       "      <td>...</td>\n",
       "    </tr>\n",
       "    <tr>\n",
       "      <th>95</th>\n",
       "      <td>12.4</td>\n",
       "      <td>119.708075</td>\n",
       "      <td>vanilla</td>\n",
       "      <td>119.708075</td>\n",
       "    </tr>\n",
       "    <tr>\n",
       "      <th>96</th>\n",
       "      <td>13.4</td>\n",
       "      <td>129.300464</td>\n",
       "      <td>vanilla</td>\n",
       "      <td>129.300464</td>\n",
       "    </tr>\n",
       "    <tr>\n",
       "      <th>97</th>\n",
       "      <td>14.7</td>\n",
       "      <td>136.596568</td>\n",
       "      <td>vanilla</td>\n",
       "      <td>136.596568</td>\n",
       "    </tr>\n",
       "    <tr>\n",
       "      <th>98</th>\n",
       "      <td>15.0</td>\n",
       "      <td>136.213140</td>\n",
       "      <td>vanilla</td>\n",
       "      <td>136.213140</td>\n",
       "    </tr>\n",
       "    <tr>\n",
       "      <th>99</th>\n",
       "      <td>15.2</td>\n",
       "      <td>135.595252</td>\n",
       "      <td>vanilla</td>\n",
       "      <td>135.595252</td>\n",
       "    </tr>\n",
       "  </tbody>\n",
       "</table>\n",
       "<p>200 rows × 4 columns</p>\n",
       "</div>"
      ],
      "text/plain": [
       "    temp       sales     type   sales_hat\n",
       "0   -4.1   32.950261    choco   32.950261\n",
       "1   -3.7   35.852524    choco   35.852524\n",
       "2   -3.0   37.428335    choco   37.428335\n",
       "3   -1.3   38.323681    choco   38.323681\n",
       "4   -0.5   39.713362    choco   39.713362\n",
       "..   ...         ...      ...         ...\n",
       "95  12.4  119.708075  vanilla  119.708075\n",
       "96  13.4  129.300464  vanilla  129.300464\n",
       "97  14.7  136.596568  vanilla  136.596568\n",
       "98  15.0  136.213140  vanilla  136.213140\n",
       "99  15.2  135.595252  vanilla  135.595252\n",
       "\n",
       "[200 rows x 4 columns]"
      ]
     },
     "execution_count": 119,
     "metadata": {},
     "output_type": "execute_result"
    }
   ],
   "source": [
    "_df = df_train.assign(sales_hat = predictr.predict(X))\n",
    "_df"
   ]
  },
  {
   "cell_type": "code",
   "execution_count": 121,
   "id": "db72d0cf-79d4-47d3-a1fa-30f372227bbe",
   "metadata": {},
   "outputs": [
    {
     "data": {
      "image/png": "[encoded data removed]",
      "text/plain": [
       "<Figure size 640x480 with 1 Axes>"
      ]
     },
     "metadata": {},
     "output_type": "display_data"
    }
   ],
   "source": [
    "plt.plot(df_train.loc[df_train.type == 'choco'].temp, df_train.loc[df_train.type == 'choco'].sales, 'o', label = 'choco', alpha = 0.5)\n",
    "plt.plot(df_train.loc[df_train.type != 'choco'].temp, df_train.loc[df_train.type != 'choco'].sales, 'o', label = 'vanilla', alpha = 0.5)\n",
    "\n",
    "plt.plot(df_train.loc[df_train.type == 'choco'].temp, _df.loc[df_train.type == 'choco'].sales_hat, '--', color = 'C0')\n",
    "plt.plot(df_train.loc[df_train.type != 'choco'].temp, _df.loc[df_train.type != 'choco'].sales_hat, '--', color = 'C1')\n",
    "\n",
    "plt.legend()\n",
    "plt.show()"
   ]
  },
  {
   "cell_type": "markdown",
   "id": "9a85308c-5a9e-4ead-8445-d85ab8a49871",
   "metadata": {},
   "source": [
    "> 오차항까지 적합하고는 있으나... 처음 교호작용을 고려하지 않은 모델보다 성능은 좋은 것 같다. 따라서 이는 상당히 유용하다."
   ]
  }
 ],
 "metadata": {
  "kernelspec": {
   "display_name": "Python 3 (ipykernel)",
   "language": "python",
   "name": "python3"
  },
  "language_info": {
   "codemirror_mode": {
    "name": "ipython",
    "version": 3
   },
   "file_extension": ".py",
   "mimetype": "text/x-python",
   "name": "python",
   "nbconvert_exporter": "python",
   "pygments_lexer": "ipython3",
   "version": "3.10.13"
  }
 },
 "nbformat": 4,
 "nbformat_minor": 5
}
