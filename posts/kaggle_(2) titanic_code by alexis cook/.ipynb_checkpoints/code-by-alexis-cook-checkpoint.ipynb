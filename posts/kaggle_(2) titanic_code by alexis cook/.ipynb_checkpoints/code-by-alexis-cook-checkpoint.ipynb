{
 "cells": [
  {
   "cell_type": "markdown",
   "metadata": {},
   "source": [
    "---\n",
    "title: \"[Kaggle] - 2, titanic_code by alexis cook\"\n",
    "author: \"강신성\"\n",
    "date: \"2023-09-13\"\n",
    "categories: [python, analysis, titanic]\n",
    "image: \"coop.png\"\n",
    "---"
   ]
  },
  {
   "cell_type": "code",
   "execution_count": null,
   "metadata": {},
   "outputs": [],
   "source": [
    "import pandas as pd\n",
    "import numpy as np"
   ]
  },
  {
   "cell_type": "code",
   "execution_count": null,
   "metadata": {
    "execution": {
     "iopub.execute_input": "2023-09-13T02:03:24.605434Z",
     "iopub.status.busy": "2023-09-13T02:03:24.605032Z",
     "iopub.status.idle": "2023-09-13T02:03:24.660940Z",
     "shell.execute_reply": "2023-09-13T02:03:24.659965Z",
     "shell.execute_reply.started": "2023-09-13T02:03:24.605365Z"
    }
   },
   "outputs": [],
   "source": [
    "train_data = pd.read_csv(\"/kaggle/input/titanic/train.csv\")\n",
    "train_data.head()"
   ]
  },
  {
   "cell_type": "code",
   "execution_count": null,
   "metadata": {
    "execution": {
     "iopub.execute_input": "2023-09-13T02:03:27.405668Z",
     "iopub.status.busy": "2023-09-13T02:03:27.405035Z",
     "iopub.status.idle": "2023-09-13T02:03:27.438725Z",
     "shell.execute_reply": "2023-09-13T02:03:27.437668Z",
     "shell.execute_reply.started": "2023-09-13T02:03:27.405611Z"
    }
   },
   "outputs": [],
   "source": [
    "test_data = pd.read_csv(\"/kaggle/input/titanic/test.csv\")\n",
    "test_data.head()"
   ]
  },
  {
   "cell_type": "code",
   "execution_count": null,
   "metadata": {
    "execution": {
     "iopub.execute_input": "2023-09-13T02:06:18.185687Z",
     "iopub.status.busy": "2023-09-13T02:06:18.185272Z",
     "iopub.status.idle": "2023-09-13T02:06:18.200821Z",
     "shell.execute_reply": "2023-09-13T02:06:18.199793Z",
     "shell.execute_reply.started": "2023-09-13T02:06:18.185631Z"
    },
    "scrolled": true
   },
   "outputs": [],
   "source": [
    "women = train_data.loc[train_data.Sex == 'female'][\"Survived\"]\n",
    "rate_women = sum(women)/len(women)\n",
    "\n",
    "print(\"% of women who survived:\", rate_women)"
   ]
  },
  {
   "cell_type": "code",
   "execution_count": null,
   "metadata": {
    "execution": {
     "iopub.execute_input": "2023-09-13T02:06:21.480246Z",
     "iopub.status.busy": "2023-09-13T02:06:21.479749Z",
     "iopub.status.idle": "2023-09-13T02:06:21.490251Z",
     "shell.execute_reply": "2023-09-13T02:06:21.489004Z",
     "shell.execute_reply.started": "2023-09-13T02:06:21.480136Z"
    }
   },
   "outputs": [],
   "source": [
    "men = train_data.loc[train_data.Sex == 'male'][\"Survived\"]\n",
    "rate_men = sum(men)/len(men)\n",
    "\n",
    "print(\"% of men who survived:\", rate_men)"
   ]
  },
  {
   "cell_type": "code",
   "execution_count": null,
   "metadata": {
    "_kg_hide-output": false,
    "execution": {
     "iopub.execute_input": "2023-09-13T02:06:21.885726Z",
     "iopub.status.busy": "2023-09-13T02:06:21.885357Z",
     "iopub.status.idle": "2023-09-13T02:06:26.360720Z",
     "shell.execute_reply": "2023-09-13T02:06:26.359165Z",
     "shell.execute_reply.started": "2023-09-13T02:06:21.885660Z"
    }
   },
   "outputs": [],
   "source": [
    "from sklearn.ensemble import RandomForestClassifier\n",
    "\n",
    "y = train_data[\"Survived\"]\n",
    "\n",
    "features = [\"Pclass\", \"Sex\", \"SibSp\", \"Parch\"]\n",
    "X = pd.get_dummies(train_data[features])\n",
    "X_test = pd.get_dummies(test_data[features])\n",
    "\n",
    "model = RandomForestClassifier(n_estimators=100, max_depth=5, random_state=1)\n",
    "model.fit(X, y)\n",
    "predictions = model.predict(X_test)\n",
    "\n",
    "output = pd.DataFrame({'PassengerId': test_data.PassengerId, 'Survived': predictions})\n",
    "output.to_csv('submission.csv', index=False)\n",
    "print(\"Your submission was successfully saved!\")"
   ]
  },
  {
   "cell_type": "code",
   "execution_count": null,
   "metadata": {
    "execution": {
     "iopub.execute_input": "2023-09-13T02:06:32.367003Z",
     "iopub.status.busy": "2023-09-13T02:06:32.366624Z",
     "iopub.status.idle": "2023-09-13T02:06:32.390795Z",
     "shell.execute_reply": "2023-09-13T02:06:32.389305Z",
     "shell.execute_reply.started": "2023-09-13T02:06:32.366942Z"
    }
   },
   "outputs": [],
   "source": [
    "output"
   ]
  },
  {
   "cell_type": "markdown",
   "metadata": {},
   "source": [
    "```-```일단 해당 버전을 저장하도록 하자."
   ]
  }
 ],
 "metadata": {
  "kernelspec": {
   "display_name": "Python 3 (ipykernel)",
   "language": "python",
   "name": "python3"
  },
  "language_info": {
   "codemirror_mode": {
    "name": "ipython",
    "version": 3
   },
   "file_extension": ".py",
   "mimetype": "text/x-python",
   "name": "python",
   "nbconvert_exporter": "python",
   "pygments_lexer": "ipython3",
   "version": "3.10.13"
  }
 },
 "nbformat": 4,
 "nbformat_minor": 4
}
