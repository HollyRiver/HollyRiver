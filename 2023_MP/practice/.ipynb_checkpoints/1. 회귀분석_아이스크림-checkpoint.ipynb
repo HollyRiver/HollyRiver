{
 "cells": [
  {
   "cell_type": "markdown",
   "id": "8650ba31-fd25-4cee-ba1f-d02ca12676cd",
   "metadata": {},
   "source": [
    "---\n",
    "title: \"선형회귀분석의 시작 | `LinearRegression()`\"\n",
    "author: \"강신성\"\n",
    "date: \"2023-10-19\"\n",
    "date-format: iso\n",
    "categories: [python, Linear]\n",
    "---\n",
    "\n",
    "\n"
   ]
  },
  {
   "cell_type": "markdown",
   "id": "26072a96-2190-4504-b90b-56630e375288",
   "metadata": {},
   "source": [
    "> `sklearn`의 `linear_mode.LinearRegression()`을 사용하여 선형회귀분석을 해보자!"
   ]
  },
  {
   "cell_type": "markdown",
   "id": "fa71a8b5-58bd-439a-8167-0149daa2dddd",
   "metadata": {},
   "source": [
    "## 1. 라이브러리 imports"
   ]
  },
  {
   "cell_type": "code",
   "execution_count": 1,
   "id": "2e98bdd6-6caa-44ee-8ddf-7036de401ec0",
   "metadata": {},
   "outputs": [],
   "source": [
    "import numpy as np\n",
    "import pandas as pd\n",
    "import matplotlib.pyplot as plt\n",
    "import sklearn.linear_model"
   ]
  },
  {
   "cell_type": "markdown",
   "id": "e61203f6-35ee-4b98-96f9-c5d8297ff26c",
   "metadata": {},
   "source": [
    "## 2. Data"
   ]
  },
  {
   "cell_type": "markdown",
   "id": "fe14701a-f3a5-4e66-9d14-9cd374fd7a96",
   "metadata": {},
   "source": [
    "> 전주시의 기온 자료"
   ]
  },
  {
   "cell_type": "code",
   "execution_count": 2,
   "id": "69bb3632-7d9d-437b-b117-265ff9100298",
   "metadata": {},
   "outputs": [],
   "source": [
    "temp = pd.read_csv('https://raw.githubusercontent.com/guebin/DV2022/master/posts/temp.csv').iloc[:,3].to_numpy()[:100]\n",
    "temp.sort()   ## 자료를 크기 순서대로 정렬, sort_values()와 비슷하달까...\n"
   ]
  },
  {
   "cell_type": "code",
   "execution_count": 3,
   "id": "2f697bcc-1249-40ce-8c4c-4c2ef6d2fec6",
   "metadata": {},
   "outputs": [
    {
     "data": {
      "text/plain": [
       "array([-4.1, -3.7, -3. , -1.3, -0.5, -0.3,  0.3,  0.4,  0.4,  0.7,  0.7,\n",
       "        0.9,  0.9,  1. ,  1.2,  1.4,  1.4,  1.5,  1.5,  2. ,  2. ,  2. ,\n",
       "        2.3,  2.5,  2.5,  2.5,  2.6,  2.6,  2.9,  3.2,  3.5,  3.5,  3.6,\n",
       "        3.7,  3.8,  4.2,  4.4,  4.5,  4.5,  4.6,  4.9,  4.9,  4.9,  5. ,\n",
       "        5. ,  5.1,  5.6,  5.9,  5.9,  6. ,  6. ,  6.1,  6.1,  6.3,  6.3,\n",
       "        6.4,  6.4,  6.5,  6.7,  6.8,  6.8,  7. ,  7. ,  7.1,  7.2,  7.4,\n",
       "        7.7,  8. ,  8.1,  8.1,  8.3,  8.4,  8.4,  8.4,  8.5,  8.8,  8.9,\n",
       "        9.1,  9.2,  9.3,  9.4,  9.4,  9.5,  9.6,  9.6,  9.7,  9.8,  9.9,\n",
       "       10.2, 10.3, 10.6, 10.6, 10.8, 11.2, 12.1, 12.4, 13.4, 14.7, 15. ,\n",
       "       15.2])"
      ]
     },
     "execution_count": 3,
     "metadata": {},
     "output_type": "execute_result"
    }
   ],
   "source": [
    "temp"
   ]
  },
  {
   "cell_type": "markdown",
   "id": "f82a46ec-3398-4248-bcf2-2652e49d1e7a",
   "metadata": {},
   "source": [
    "\\- 아래와 같은 모형을 가정하자.\n",
    "$$\\textup{아이스크림 판매량}= 20 ＋ \\textup{온도} × 2.5 × \\textup{오차(운)}$$"
   ]
  },
  {
   "cell_type": "markdown",
   "id": "1645a937-a341-4f11-93b7-89b2654d4991",
   "metadata": {},
   "source": [
    "* 더미 모형 생성"
   ]
  },
  {
   "cell_type": "code",
   "execution_count": 4,
   "id": "72007dc3-b994-4a60-b8d8-5b7b33e1bae5",
   "metadata": {},
   "outputs": [],
   "source": [
    "np.random.seed(43052)\n",
    "eps = np.random.randn(100)*3  ## 오차\n",
    "icecream_sales = 20 + temp * 2.5 + eps"
   ]
  },
  {
   "cell_type": "code",
   "execution_count": 5,
   "id": "449e8eed-1e3c-4058-bb36-90b3e2f03edf",
   "metadata": {},
   "outputs": [
    {
     "data": {
      "image/png": "[encoded data removed]",
      "text/plain": [
       "<Figure size 640x480 with 1 Axes>"
      ]
     },
     "metadata": {},
     "output_type": "display_data"
    }
   ],
   "source": [
    "plt.plot(temp, icecream_sales, 'o')\n",
    "plt.show()"
   ]
  },
  {
   "cell_type": "markdown",
   "id": "121296d0-9ebb-4bfe-9834-42b9f424fb34",
   "metadata": {},
   "source": [
    "> 상기 결과를 관측했다고 생각합시다."
   ]
  },
  {
   "cell_type": "code",
   "execution_count": 6,
   "id": "ba0b4bbf-e09c-4e94-b3c6-176cde7682bb",
   "metadata": {},
   "outputs": [
    {
     "data": {
      "text/html": [
       "<div>\n",
       "<style scoped>\n",
       "    .dataframe tbody tr th:only-of-type {\n",
       "        vertical-align: middle;\n",
       "    }\n",
       "\n",
       "    .dataframe tbody tr th {\n",
       "        vertical-align: top;\n",
       "    }\n",
       "\n",
       "    .dataframe thead th {\n",
       "        text-align: right;\n",
       "    }\n",
       "</style>\n",
       "<table border=\"1\" class=\"dataframe\">\n",
       "  <thead>\n",
       "    <tr style=\"text-align: right;\">\n",
       "      <th></th>\n",
       "      <th>temp</th>\n",
       "      <th>sales</th>\n",
       "    </tr>\n",
       "  </thead>\n",
       "  <tbody>\n",
       "    <tr>\n",
       "      <th>0</th>\n",
       "      <td>-4.1</td>\n",
       "      <td>10.900261</td>\n",
       "    </tr>\n",
       "    <tr>\n",
       "      <th>1</th>\n",
       "      <td>-3.7</td>\n",
       "      <td>14.002524</td>\n",
       "    </tr>\n",
       "    <tr>\n",
       "      <th>2</th>\n",
       "      <td>-3.0</td>\n",
       "      <td>15.928335</td>\n",
       "    </tr>\n",
       "    <tr>\n",
       "      <th>3</th>\n",
       "      <td>-1.3</td>\n",
       "      <td>17.673681</td>\n",
       "    </tr>\n",
       "    <tr>\n",
       "      <th>4</th>\n",
       "      <td>-0.5</td>\n",
       "      <td>19.463362</td>\n",
       "    </tr>\n",
       "    <tr>\n",
       "      <th>...</th>\n",
       "      <td>...</td>\n",
       "      <td>...</td>\n",
       "    </tr>\n",
       "    <tr>\n",
       "      <th>95</th>\n",
       "      <td>12.4</td>\n",
       "      <td>54.926065</td>\n",
       "    </tr>\n",
       "    <tr>\n",
       "      <th>96</th>\n",
       "      <td>13.4</td>\n",
       "      <td>54.716129</td>\n",
       "    </tr>\n",
       "    <tr>\n",
       "      <th>97</th>\n",
       "      <td>14.7</td>\n",
       "      <td>56.194791</td>\n",
       "    </tr>\n",
       "    <tr>\n",
       "      <th>98</th>\n",
       "      <td>15.0</td>\n",
       "      <td>60.666163</td>\n",
       "    </tr>\n",
       "    <tr>\n",
       "      <th>99</th>\n",
       "      <td>15.2</td>\n",
       "      <td>61.561043</td>\n",
       "    </tr>\n",
       "  </tbody>\n",
       "</table>\n",
       "<p>100 rows × 2 columns</p>\n",
       "</div>"
      ],
      "text/plain": [
       "    temp      sales\n",
       "0   -4.1  10.900261\n",
       "1   -3.7  14.002524\n",
       "2   -3.0  15.928335\n",
       "3   -1.3  17.673681\n",
       "4   -0.5  19.463362\n",
       "..   ...        ...\n",
       "95  12.4  54.926065\n",
       "96  13.4  54.716129\n",
       "97  14.7  56.194791\n",
       "98  15.0  60.666163\n",
       "99  15.2  61.561043\n",
       "\n",
       "[100 rows x 2 columns]"
      ]
     },
     "execution_count": 6,
     "metadata": {},
     "output_type": "execute_result"
    }
   ],
   "source": [
    "df = pd.DataFrame({'temp' : temp, 'sales' : icecream_sales})\n",
    "df"
   ]
  },
  {
   "cell_type": "markdown",
   "id": "1175c79a-7ccc-4621-bff1-70a21561746d",
   "metadata": {},
   "source": [
    "## 3. 게임세팅"
   ]
  },
  {
   "cell_type": "markdown",
   "id": "4598ae14-6d7d-4923-bac8-96656fba5076",
   "metadata": {},
   "source": [
    "\\- 편의상 아래와 같은 기호를 도입하자.\n",
    "\n",
    "-   (`df.temp[0]`, `df.temp[1]`, … , `df.temp[99]`) =\n",
    "    $(x_1,x_2,\\dots,x_{100})=(-4.1,-3.7,\\dots,15.2)$\n",
    "-   (`df.sales[0]`, `df.sales[1]`, … , `df.sales[99]`) =\n",
    "    $(y_1,y_2,\\dots,y_{100})=(10.90,14.00, \\dots,61.56)$\n",
    "\n",
    "> 이 자료 $\\big\\{(x_i,y_i)\\big\\}_{i=1}^{100}$를 바탕으로 어떠한 **패턴**을 발견하여 새로운 $x$에 대한 예측값을 알고 싶다 : $\\hat{y}$"
   ]
  },
  {
   "cell_type": "markdown",
   "id": "207c3129-47c1-4c38-864b-f130de6950b6",
   "metadata": {},
   "source": [
    "**A. 질문**\n",
    "\n",
    "\\-  기온이 $x = -2.0$일 때, 아이스크림을 얼마정도 판다고 보는 게 타당할까?"
   ]
  },
  {
   "cell_type": "markdown",
   "id": "204e2a61-cfd9-4f8c-b816-1219b4dbd08d",
   "metadata": {},
   "source": [
    "**B. 답 1**"
   ]
  },
  {
   "cell_type": "markdown",
   "id": "50dd24e0-57d3-421c-ac04-7e5d0e152846",
   "metadata": {},
   "source": [
    "\\- $x = -2.0$ 근처의 데이터를 살펴보자."
   ]
  },
  {
   "cell_type": "code",
   "execution_count": 7,
   "id": "64ecc7d3-60ea-4ebe-aef5-a1401b002f4b",
   "metadata": {},
   "outputs": [
    {
     "data": {
      "text/html": [
       "<div>\n",
       "<style scoped>\n",
       "    .dataframe tbody tr th:only-of-type {\n",
       "        vertical-align: middle;\n",
       "    }\n",
       "\n",
       "    .dataframe tbody tr th {\n",
       "        vertical-align: top;\n",
       "    }\n",
       "\n",
       "    .dataframe thead th {\n",
       "        text-align: right;\n",
       "    }\n",
       "</style>\n",
       "<table border=\"1\" class=\"dataframe\">\n",
       "  <thead>\n",
       "    <tr style=\"text-align: right;\">\n",
       "      <th></th>\n",
       "      <th>temp</th>\n",
       "      <th>sales</th>\n",
       "    </tr>\n",
       "  </thead>\n",
       "  <tbody>\n",
       "    <tr>\n",
       "      <th>1</th>\n",
       "      <td>-3.7</td>\n",
       "      <td>14.002524</td>\n",
       "    </tr>\n",
       "    <tr>\n",
       "      <th>2</th>\n",
       "      <td>-3.0</td>\n",
       "      <td>15.928335</td>\n",
       "    </tr>\n",
       "    <tr>\n",
       "      <th>3</th>\n",
       "      <td>-1.3</td>\n",
       "      <td>17.673681</td>\n",
       "    </tr>\n",
       "    <tr>\n",
       "      <th>4</th>\n",
       "      <td>-0.5</td>\n",
       "      <td>19.463362</td>\n",
       "    </tr>\n",
       "    <tr>\n",
       "      <th>5</th>\n",
       "      <td>-0.3</td>\n",
       "      <td>20.317853</td>\n",
       "    </tr>\n",
       "  </tbody>\n",
       "</table>\n",
       "</div>"
      ],
      "text/plain": [
       "   temp      sales\n",
       "1  -3.7  14.002524\n",
       "2  -3.0  15.928335\n",
       "3  -1.3  17.673681\n",
       "4  -0.5  19.463362\n",
       "5  -0.3  20.317853"
      ]
     },
     "execution_count": 7,
     "metadata": {},
     "output_type": "execute_result"
    }
   ],
   "source": [
    "df[(-4.0 < df.temp) & (0.0 > df.temp)]"
   ]
  },
  {
   "cell_type": "markdown",
   "id": "bcafd422-5d82-4109-8288-44dde5d4ec56",
   "metadata": {},
   "source": [
    "> $-1.3$이 제일 가까운데, 대충 $17.67$ 언저리 아닐까...?"
   ]
  },
  {
   "cell_type": "markdown",
   "id": "537e4272-d602-4ac5-9c7b-5faef56f7d9c",
   "metadata": {},
   "source": [
    "### **A. 산점도와 추세선**\n",
    "---\n",
    "\n",
    "\n"
   ]
  },
  {
   "cell_type": "markdown",
   "id": "2590aec4-5fd5-47a7-818e-adbb73873a3b",
   "metadata": {},
   "source": [
    "\\- 자료를 바탕으로 그림을 그려보자"
   ]
  },
  {
   "cell_type": "code",
   "execution_count": 8,
   "id": "135db275-f3c9-4f5d-a62a-4225e772c348",
   "metadata": {},
   "outputs": [
    {
     "data": {
      "image/png": "[encoded data removed]",
      "text/plain": [
       "<Figure size 640x480 with 1 Axes>"
      ]
     },
     "metadata": {},
     "output_type": "display_data"
    }
   ],
   "source": [
    "plt.plot(df.temp, df.sales, 'o')\n",
    "plt.plot([-2.0],[17.67],'x')     # 이미 들어가있는 플롯에 점을 하나 찍는다. 마커는 X\n",
    "\n",
    "plt.show()"
   ]
  },
  {
   "cell_type": "markdown",
   "id": "c935b5b2-6a6c-452c-b9a6-267ecb5125ac",
   "metadata": {},
   "source": [
    "> 예상한 것(17.67)보다 못팔 것 같은데...?"
   ]
  },
  {
   "cell_type": "markdown",
   "id": "19da854d-438b-4a45-894f-ac1d747e3c56",
   "metadata": {},
   "source": [
    "### **B. 아이디어**\n",
    "---\n",
    "\n",
    "\n"
   ]
  },
  {
   "cell_type": "markdown",
   "id": "9a50821a-1092-4276-befc-b531e34dd6dc",
   "metadata": {},
   "source": [
    "\\- 선을 기가 막히게 그어서 추세선을 만들고, 그 추세선 위의 점으로 예측하자!~(사실 모형을 우리가 만들었으니 이미 추세선을 알고 있긴 함)~"
   ]
  },
  {
   "cell_type": "code",
   "execution_count": 9,
   "id": "bce07718-e171-4e73-a732-7f8771740705",
   "metadata": {},
   "outputs": [
    {
     "data": {
      "image/png": "[encoded data removed]",
      "text/plain": [
       "<Figure size 640x480 with 1 Axes>"
      ]
     },
     "metadata": {},
     "output_type": "display_data"
    }
   ],
   "source": [
    "plt.plot(df.temp, df.sales, 'o')\n",
    "plt.plot(df.temp, 20+df.temp*2.5, '--')  ## 위에서 직접 설정했던 자료의 관계, 절편이 20이고 기울기가 2.5\n",
    "\n",
    "plt.show()"
   ]
  },
  {
   "cell_type": "markdown",
   "id": "a0b1f3d0-218b-439f-8b6c-6dc4f02851e4",
   "metadata": {},
   "source": [
    "\\- 사실 $y = 20 + 2.5x$라는 추세선을 이미 알고 있었음.\n",
    "\n",
    "\\- 그래서 $x = -2$라면 $y = 20 - 2.5 × 2 = 15$라고 보는 게 합리적임(오차를 고려 안하면)\n",
    "\n",
    "> 허나, 실제 상황에서 우리는 $20, 2.5$라는 숫자를 모른다.\n",
    "\n",
    "\\- **게임셋팅**\n",
    "* 원래 게임 : 임의의 $x$에 대하여 합리적인 $y$를 잘 찾는 게임\n",
    "* 변형된 게임 : $20, 2.5$라는 숫자를 잘 찾는 게임. 즉, 데이처를 보고 최대한 $y_i \\approx ax_i+b$가 되도록 $a, b$를 잘 선택하는 게임"
   ]
  },
  {
   "cell_type": "markdown",
   "id": "9c094366-ecfe-46d9-8743-f878adf4d02a",
   "metadata": {},
   "source": [
    "## 4. 분석"
   ]
  },
  {
   "cell_type": "markdown",
   "id": "2e16c105-377a-45da-add1-a02f86d5f805",
   "metadata": {},
   "source": [
    "> 그렇다면 늘 했던 것처럼 네 단계로 분석을 해보자."
   ]
  },
  {
   "cell_type": "markdown",
   "id": "2b714f97-fb03-4a1d-b4c6-fb89df33e5f3",
   "metadata": {},
   "source": [
    "### **A. 데이터**\n",
    "---\n",
    "\n",
    "\n"
   ]
  },
  {
   "cell_type": "code",
   "execution_count": 10,
   "id": "0f9c2573-f432-4408-8ae2-9a77f0fa0cf9",
   "metadata": {},
   "outputs": [],
   "source": [
    "# step 1 -- data\n",
    "train = pd.DataFrame({'temp' : temp, 'sales' : icecream_sales})\n",
    "\n",
    "X = train[['temp']]\n",
    "y = train['sales']"
   ]
  },
  {
   "cell_type": "markdown",
   "id": "e3e60b45-cc57-4eed-ab53-f7800fdb5e62",
   "metadata": {},
   "source": [
    "> 데이터를 학습해서 추세선을 적절히 그릴 수 있고, 그려진 추세선으로 예측까지 해줄 수 있는 아이(predictor)를 만들자.~(근데 이정도면 학생이 아니라 노예...)~"
   ]
  },
  {
   "cell_type": "markdown",
   "id": "ab83862b-9a96-437c-b4fe-ceeb417b2bd8",
   "metadata": {},
   "source": [
    "### **B. predictor**\n",
    "---\n",
    "\n",
    "\n"
   ]
  },
  {
   "cell_type": "code",
   "execution_count": 11,
   "id": "ab2a3b59-9d9e-43a6-977d-ebb0c4e8c631",
   "metadata": {},
   "outputs": [],
   "source": [
    "# step 2\n",
    "predictr = sklearn.linear_model.LinearRegression()"
   ]
  },
  {
   "cell_type": "markdown",
   "id": "ec6df37f-f64e-4200-86e5-e561da43848a",
   "metadata": {},
   "source": [
    "> `sklearn`의 `linear_model.LinearRegression()`을 사용했다. 이러면 가장 기본적인 선형회귀를 진행한다.(LSE를 쓰는 그거 있잖아...)"
   ]
  },
  {
   "cell_type": "markdown",
   "id": "3042b75c-dca5-4875-b6b9-60ba8828cd84",
   "metadata": {},
   "source": [
    "### **C. 학습**\n",
    "---\n",
    "\n",
    "\n"
   ]
  },
  {
   "cell_type": "code",
   "execution_count": 12,
   "id": "c5d774fc-6a20-455c-acc3-2799eb710f90",
   "metadata": {},
   "outputs": [
    {
     "data": {
      "text/html": [
       "<style>#sk-container-id-1 {color: black;}#sk-container-id-1 pre{padding: 0;}#sk-container-id-1 div.sk-toggleable {background-color: white;}#sk-container-id-1 label.sk-toggleable__label {cursor: pointer;display: block;width: 100%;margin-bottom: 0;padding: 0.3em;box-sizing: border-box;text-align: center;}#sk-container-id-1 label.sk-toggleable__label-arrow:before {content: \"▸\";float: left;margin-right: 0.25em;color: #696969;}#sk-container-id-1 label.sk-toggleable__label-arrow:hover:before {color: black;}#sk-container-id-1 div.sk-estimator:hover label.sk-toggleable__label-arrow:before {color: black;}#sk-container-id-1 div.sk-toggleable__content {max-height: 0;max-width: 0;overflow: hidden;text-align: left;background-color: #f0f8ff;}#sk-container-id-1 div.sk-toggleable__content pre {margin: 0.2em;color: black;border-radius: 0.25em;background-color: #f0f8ff;}#sk-container-id-1 input.sk-toggleable__control:checked~div.sk-toggleable__content {max-height: 200px;max-width: 100%;overflow: auto;}#sk-container-id-1 input.sk-toggleable__control:checked~label.sk-toggleable__label-arrow:before {content: \"▾\";}#sk-container-id-1 div.sk-estimator input.sk-toggleable__control:checked~label.sk-toggleable__label {background-color: #d4ebff;}#sk-container-id-1 div.sk-label input.sk-toggleable__control:checked~label.sk-toggleable__label {background-color: #d4ebff;}#sk-container-id-1 input.sk-hidden--visually {border: 0;clip: rect(1px 1px 1px 1px);clip: rect(1px, 1px, 1px, 1px);height: 1px;margin: -1px;overflow: hidden;padding: 0;position: absolute;width: 1px;}#sk-container-id-1 div.sk-estimator {font-family: monospace;background-color: #f0f8ff;border: 1px dotted black;border-radius: 0.25em;box-sizing: border-box;margin-bottom: 0.5em;}#sk-container-id-1 div.sk-estimator:hover {background-color: #d4ebff;}#sk-container-id-1 div.sk-parallel-item::after {content: \"\";width: 100%;border-bottom: 1px solid gray;flex-grow: 1;}#sk-container-id-1 div.sk-label:hover label.sk-toggleable__label {background-color: #d4ebff;}#sk-container-id-1 div.sk-serial::before {content: \"\";position: absolute;border-left: 1px solid gray;box-sizing: border-box;top: 0;bottom: 0;left: 50%;z-index: 0;}#sk-container-id-1 div.sk-serial {display: flex;flex-direction: column;align-items: center;background-color: white;padding-right: 0.2em;padding-left: 0.2em;position: relative;}#sk-container-id-1 div.sk-item {position: relative;z-index: 1;}#sk-container-id-1 div.sk-parallel {display: flex;align-items: stretch;justify-content: center;background-color: white;position: relative;}#sk-container-id-1 div.sk-item::before, #sk-container-id-1 div.sk-parallel-item::before {content: \"\";position: absolute;border-left: 1px solid gray;box-sizing: border-box;top: 0;bottom: 0;left: 50%;z-index: -1;}#sk-container-id-1 div.sk-parallel-item {display: flex;flex-direction: column;z-index: 1;position: relative;background-color: white;}#sk-container-id-1 div.sk-parallel-item:first-child::after {align-self: flex-end;width: 50%;}#sk-container-id-1 div.sk-parallel-item:last-child::after {align-self: flex-start;width: 50%;}#sk-container-id-1 div.sk-parallel-item:only-child::after {width: 0;}#sk-container-id-1 div.sk-dashed-wrapped {border: 1px dashed gray;margin: 0 0.4em 0.5em 0.4em;box-sizing: border-box;padding-bottom: 0.4em;background-color: white;}#sk-container-id-1 div.sk-label label {font-family: monospace;font-weight: bold;display: inline-block;line-height: 1.2em;}#sk-container-id-1 div.sk-label-container {text-align: center;}#sk-container-id-1 div.sk-container {/* jupyter's `normalize.less` sets `[hidden] { display: none; }` but bootstrap.min.css set `[hidden] { display: none !important; }` so we also need the `!important` here to be able to override the default hidden behavior on the sphinx rendered scikit-learn.org. See: https://github.com/scikit-learn/scikit-learn/issues/21755 */display: inline-block !important;position: relative;}#sk-container-id-1 div.sk-text-repr-fallback {display: none;}</style><div id=\"sk-container-id-1\" class=\"sk-top-container\"><div class=\"sk-text-repr-fallback\"><pre>LinearRegression()</pre><b>In a Jupyter environment, please rerun this cell to show the HTML representation or trust the notebook. <br />On GitHub, the HTML representation is unable to render, please try loading this page with nbviewer.org.</b></div><div class=\"sk-container\" hidden><div class=\"sk-item\"><div class=\"sk-estimator sk-toggleable\"><input class=\"sk-toggleable__control sk-hidden--visually\" id=\"sk-estimator-id-1\" type=\"checkbox\" checked><label for=\"sk-estimator-id-1\" class=\"sk-toggleable__label sk-toggleable__label-arrow\">LinearRegression</label><div class=\"sk-toggleable__content\"><pre>LinearRegression()</pre></div></div></div></div></div>"
      ],
      "text/plain": [
       "LinearRegression()"
      ]
     },
     "execution_count": 12,
     "metadata": {},
     "output_type": "execute_result"
    }
   ],
   "source": [
    "# step 3\n",
    "predictr.fit(X, y)"
   ]
  },
  {
   "cell_type": "markdown",
   "id": "601dacec-f298-4095-9c11-dfa97dc1f327",
   "metadata": {},
   "source": [
    "> 학생이 train을 완료했다."
   ]
  },
  {
   "cell_type": "markdown",
   "id": "494fd944-47d0-415d-ad6d-02dea1d18268",
   "metadata": {},
   "source": [
    "### **D. 예측(predict)**\n",
    "---\n",
    "\n",
    "\n"
   ]
  },
  {
   "cell_type": "markdown",
   "id": "ae3dc6e9-8cd8-45b5-a34e-6f49b805f16a",
   "metadata": {},
   "source": [
    "\\- 학생(predictr) : 데이터를 살펴보니 True는 이럴 것 같아요."
   ]
  },
  {
   "cell_type": "code",
   "execution_count": 13,
   "id": "63857bcf-cd52-41ec-b358-58e4e17f009c",
   "metadata": {},
   "outputs": [],
   "source": [
    "y_hat = predictr.predict(X)  ## X값에 해당하는 y_hat값을 예측하여 산출."
   ]
  },
  {
   "cell_type": "code",
   "execution_count": 14,
   "id": "2d0d3365-87ce-4e50-85d6-7d57866cde52",
   "metadata": {},
   "outputs": [
    {
     "data": {
      "image/png": "[encoded data removed]",
      "text/plain": [
       "<Figure size 640x480 with 1 Axes>"
      ]
     },
     "metadata": {},
     "output_type": "display_data"
    }
   ],
   "source": [
    "plt.plot(X, y, 'o', alpha = 0.5)\n",
    "plt.plot(X, y_hat, 'o--', alpha = 0.5)\n",
    "\n",
    "plt.show()"
   ]
  },
  {
   "cell_type": "markdown",
   "id": "b78bcae2-0fce-46e0-a4ff-8c4e972be129",
   "metadata": {},
   "source": [
    "\\- 그럼 기울기와 절편은 어디에 저장된 걸까?\n",
    "\n",
    "\\- predictr : 여깄음."
   ]
  },
  {
   "cell_type": "code",
   "execution_count": 16,
   "id": "bc021261-292d-48cf-a07f-7ce62599bdc5",
   "metadata": {},
   "outputs": [
    {
     "data": {
      "text/plain": [
       "(array([2.51561216]), 19.66713126947925)"
      ]
     },
     "execution_count": 16,
     "metadata": {},
     "output_type": "execute_result"
    }
   ],
   "source": [
    "(predictr.coef_, predictr.intercept_)"
   ]
  },
  {
   "cell_type": "markdown",
   "id": "05ae4014-9341-48b2-b8d9-4ae77da29146",
   "metadata": {},
   "source": [
    "\\- 새로운 데이터 $x = -2$에 대한 예측"
   ]
  },
  {
   "cell_type": "code",
   "execution_count": 19,
   "id": "450b0499-1145-48d8-9b3c-6a4ee34e7e7a",
   "metadata": {},
   "outputs": [
    {
     "data": {
      "text/plain": [
       "14.63590694951262"
      ]
     },
     "execution_count": 19,
     "metadata": {},
     "output_type": "execute_result"
    }
   ],
   "source": [
    "float(predictr.coef_)*(-2) + float(predictr.intercept_)"
   ]
  },
  {
   "cell_type": "markdown",
   "id": "830df23c-4402-474f-ac4b-8b75b71f3778",
   "metadata": {},
   "source": [
    "> 해당 결과값을 그래프에 나타내면..."
   ]
  },
  {
   "cell_type": "code",
   "execution_count": 26,
   "id": "b965e698-be1e-4e33-bade-904377682003",
   "metadata": {},
   "outputs": [],
   "source": [
    "X_input = pd.DataFrame({'temp' : [-2.0]})"
   ]
  },
  {
   "cell_type": "code",
   "execution_count": 27,
   "id": "e0035d95-4ecd-4662-aef1-839e7c9a1608",
   "metadata": {},
   "outputs": [
    {
     "data": {
      "image/png": "[encoded data removed]",
      "text/plain": [
       "<Figure size 640x480 with 1 Axes>"
      ]
     },
     "metadata": {},
     "output_type": "display_data"
    }
   ],
   "source": [
    "plt.plot(X, y, 'o', alpha = 0.5)\n",
    "plt.plot(X, y_hat, '--', alpha = 0.5)\n",
    "plt.plot(X_input, predictr.predict(X_input), 'xr')  ## 원래는 리스트나 어레이로 넣어주는 게 정배긴 함\n",
    "\n",
    "plt.show()"
   ]
  },
  {
   "cell_type": "markdown",
   "id": "dbb1fb76-ffb0-40d2-adbf-3bef61b81b3a",
   "metadata": {},
   "source": [
    "> 예측값이 직선상에 위치함을 알 수 있다."
   ]
  },
  {
   "cell_type": "markdown",
   "id": "38032c71-806a-47c3-810b-81dd6cd116f0",
   "metadata": {},
   "source": [
    "## 5. 두 타입의 아이스크림(초코 / 바닐라)에 대한 회귀분석"
   ]
  },
  {
   "cell_type": "markdown",
   "id": "993b7551-fed5-467c-885e-f2f7744793fa",
   "metadata": {},
   "source": [
    "> 이전의 기온 자료를 바꿔 아래와 같은 모형을 가정해보자."
   ]
  },
  {
   "cell_type": "markdown",
   "id": "50466cb6-5f49-4898-8ef1-d1137376cd87",
   "metadata": {},
   "source": [
    "### **A. Data**\n",
    "---\n",
    "\n",
    "\n"
   ]
  },
  {
   "cell_type": "code",
   "execution_count": 28,
   "id": "6c7e2574-7345-44a1-a9ea-4da39dd58d10",
   "metadata": {},
   "outputs": [
    {
     "data": {
      "text/plain": [
       "array([-4.1, -3.7, -3. , -1.3, -0.5, -0.3,  0.3,  0.4,  0.4,  0.7,  0.7,\n",
       "        0.9,  0.9,  1. ,  1.2,  1.4,  1.4,  1.5,  1.5,  2. ,  2. ,  2. ,\n",
       "        2.3,  2.5,  2.5,  2.5,  2.6,  2.6,  2.9,  3.2,  3.5,  3.5,  3.6,\n",
       "        3.7,  3.8,  4.2,  4.4,  4.5,  4.5,  4.6,  4.9,  4.9,  4.9,  5. ,\n",
       "        5. ,  5.1,  5.6,  5.9,  5.9,  6. ,  6. ,  6.1,  6.1,  6.3,  6.3,\n",
       "        6.4,  6.4,  6.5,  6.7,  6.8,  6.8,  7. ,  7. ,  7.1,  7.2,  7.4,\n",
       "        7.7,  8. ,  8.1,  8.1,  8.3,  8.4,  8.4,  8.4,  8.5,  8.8,  8.9,\n",
       "        9.1,  9.2,  9.3,  9.4,  9.4,  9.5,  9.6,  9.6,  9.7,  9.8,  9.9,\n",
       "       10.2, 10.3, 10.6, 10.6, 10.8, 11.2, 12.1, 12.4, 13.4, 14.7, 15. ,\n",
       "       15.2])"
      ]
     },
     "execution_count": 28,
     "metadata": {},
     "output_type": "execute_result"
    }
   ],
   "source": [
    "temp = pd.read_csv('https://raw.githubusercontent.com/guebin/DV2022/master/posts/temp.csv').iloc[:,3].to_numpy()[:100]\n",
    "temp.sort()   ## 자료를 크기 순서대로 정렬\n",
    "temp  ## 전주시의 기온 100개 자료"
   ]
  },
  {
   "cell_type": "markdown",
   "id": "daa5137f-7c70-4def-804f-7b2500a6191c",
   "metadata": {},
   "source": [
    "\\- 아래와 같은 모형을 가정하자.\n",
    "\n",
    "$$\\textup{초코 아이스크림 판매량} = 20 + \\textup{온도} \\times 2.5 + \\textup{오차(운)}$$\n",
    "\n",
    "$$\\textup{바닐라 아이스크림 판매량} = 40 + \\textup{온도} \\times 2.5 + \\textup{오차(운)}$$"
   ]
  },
  {
   "cell_type": "code",
   "execution_count": 44,
   "id": "0aa7ef86-2054-488e-bfec-bc81d16c3a26",
   "metadata": {},
   "outputs": [],
   "source": [
    "np.random.seed(43052)\n",
    "choco = 20 + temp*2.5 + np.random.randn(100)*3  ## random normal distribution\n",
    "vanilla = 40 + temp*2.5 + np.random.randn(100)*3"
   ]
  },
  {
   "cell_type": "code",
   "execution_count": 45,
   "id": "22d351ba-b70e-47cb-81c1-5f186fc30cf0",
   "metadata": {},
   "outputs": [
    {
     "data": {
      "image/png": "[encoded data removed]",
      "text/plain": [
       "<Figure size 640x480 with 1 Axes>"
      ]
     },
     "metadata": {},
     "output_type": "display_data"
    }
   ],
   "source": [
    "plt.plot(temp, choco, 'o', label = 'choco')\n",
    "plt.plot(temp, vanilla, 'o', label = 'vanilla')\n",
    "plt.legend()\n",
    "plt.show()"
   ]
  },
  {
   "cell_type": "markdown",
   "id": "13114edc-6485-4ec7-8dfa-a499c45e25f1",
   "metadata": {},
   "source": [
    "> 우리는 위와 같은 정보를 관측했다고 가정하자."
   ]
  },
  {
   "cell_type": "code",
   "execution_count": 47,
   "id": "5c2c6bfa-29b0-4e03-9b13-d74a7e3b257d",
   "metadata": {},
   "outputs": [
    {
     "data": {
      "text/html": [
       "<div>\n",
       "<style scoped>\n",
       "    .dataframe tbody tr th:only-of-type {\n",
       "        vertical-align: middle;\n",
       "    }\n",
       "\n",
       "    .dataframe tbody tr th {\n",
       "        vertical-align: top;\n",
       "    }\n",
       "\n",
       "    .dataframe thead th {\n",
       "        text-align: right;\n",
       "    }\n",
       "</style>\n",
       "<table border=\"1\" class=\"dataframe\">\n",
       "  <thead>\n",
       "    <tr style=\"text-align: right;\">\n",
       "      <th></th>\n",
       "      <th>temp</th>\n",
       "      <th>type</th>\n",
       "      <th>sales</th>\n",
       "    </tr>\n",
       "  </thead>\n",
       "  <tbody>\n",
       "    <tr>\n",
       "      <th>0</th>\n",
       "      <td>-4.1</td>\n",
       "      <td>choco</td>\n",
       "      <td>10.900261</td>\n",
       "    </tr>\n",
       "    <tr>\n",
       "      <th>1</th>\n",
       "      <td>-3.7</td>\n",
       "      <td>choco</td>\n",
       "      <td>14.002524</td>\n",
       "    </tr>\n",
       "    <tr>\n",
       "      <th>2</th>\n",
       "      <td>-3.0</td>\n",
       "      <td>choco</td>\n",
       "      <td>15.928335</td>\n",
       "    </tr>\n",
       "    <tr>\n",
       "      <th>3</th>\n",
       "      <td>-1.3</td>\n",
       "      <td>choco</td>\n",
       "      <td>17.673681</td>\n",
       "    </tr>\n",
       "    <tr>\n",
       "      <th>4</th>\n",
       "      <td>-0.5</td>\n",
       "      <td>choco</td>\n",
       "      <td>19.463362</td>\n",
       "    </tr>\n",
       "    <tr>\n",
       "      <th>...</th>\n",
       "      <td>...</td>\n",
       "      <td>...</td>\n",
       "      <td>...</td>\n",
       "    </tr>\n",
       "    <tr>\n",
       "      <th>195</th>\n",
       "      <td>12.4</td>\n",
       "      <td>vanilla</td>\n",
       "      <td>68.708075</td>\n",
       "    </tr>\n",
       "    <tr>\n",
       "      <th>196</th>\n",
       "      <td>13.4</td>\n",
       "      <td>vanilla</td>\n",
       "      <td>75.800464</td>\n",
       "    </tr>\n",
       "    <tr>\n",
       "      <th>197</th>\n",
       "      <td>14.7</td>\n",
       "      <td>vanilla</td>\n",
       "      <td>79.846568</td>\n",
       "    </tr>\n",
       "    <tr>\n",
       "      <th>198</th>\n",
       "      <td>15.0</td>\n",
       "      <td>vanilla</td>\n",
       "      <td>78.713140</td>\n",
       "    </tr>\n",
       "    <tr>\n",
       "      <th>199</th>\n",
       "      <td>15.2</td>\n",
       "      <td>vanilla</td>\n",
       "      <td>77.595252</td>\n",
       "    </tr>\n",
       "  </tbody>\n",
       "</table>\n",
       "<p>200 rows × 3 columns</p>\n",
       "</div>"
      ],
      "text/plain": [
       "     temp     type      sales\n",
       "0    -4.1    choco  10.900261\n",
       "1    -3.7    choco  14.002524\n",
       "2    -3.0    choco  15.928335\n",
       "3    -1.3    choco  17.673681\n",
       "4    -0.5    choco  19.463362\n",
       "..    ...      ...        ...\n",
       "195  12.4  vanilla  68.708075\n",
       "196  13.4  vanilla  75.800464\n",
       "197  14.7  vanilla  79.846568\n",
       "198  15.0  vanilla  78.713140\n",
       "199  15.2  vanilla  77.595252\n",
       "\n",
       "[200 rows x 3 columns]"
      ]
     },
     "execution_count": 47,
     "metadata": {},
     "output_type": "execute_result"
    }
   ],
   "source": [
    "df1 = pd.DataFrame({'temp' : temp, 'type' : ['choco' for i in range(100)], 'sales' : choco})\n",
    "df2 = pd.DataFrame({'temp' : temp, 'type' : ['vanilla' for i in range(100)], 'sales' : vanilla})\n",
    "\n",
    "df = pd.concat([df1, df2], axis = 0).reset_index(drop = True)\n",
    "df"
   ]
  },
  {
   "cell_type": "markdown",
   "id": "54d9fbde-a8f8-4f67-b4bb-f72d46ecc921",
   "metadata": {},
   "source": [
    "### **B. 분석**\n",
    "---\n",
    "\n",
    "\n"
   ]
  },
  {
   "cell_type": "markdown",
   "id": "6f901d9c-1031-444e-bb22-81fab15a9750",
   "metadata": {},
   "source": [
    "\\- 언제처럼 늘 그랬던 것처럼..."
   ]
  },
  {
   "cell_type": "code",
   "execution_count": 70,
   "id": "6dcfdbd6-8b4e-4dd1-82e1-ca7a76965c4b",
   "metadata": {},
   "outputs": [
    {
     "data": {
      "text/html": [
       "<div>\n",
       "<style scoped>\n",
       "    .dataframe tbody tr th:only-of-type {\n",
       "        vertical-align: middle;\n",
       "    }\n",
       "\n",
       "    .dataframe tbody tr th {\n",
       "        vertical-align: top;\n",
       "    }\n",
       "\n",
       "    .dataframe thead th {\n",
       "        text-align: right;\n",
       "    }\n",
       "</style>\n",
       "<table border=\"1\" class=\"dataframe\">\n",
       "  <thead>\n",
       "    <tr style=\"text-align: right;\">\n",
       "      <th></th>\n",
       "      <th>temp</th>\n",
       "      <th>type</th>\n",
       "      <th>sales</th>\n",
       "      <th>sales_hat</th>\n",
       "    </tr>\n",
       "  </thead>\n",
       "  <tbody>\n",
       "    <tr>\n",
       "      <th>0</th>\n",
       "      <td>-4.1</td>\n",
       "      <td>choco</td>\n",
       "      <td>10.900261</td>\n",
       "      <td>9.286731</td>\n",
       "    </tr>\n",
       "    <tr>\n",
       "      <th>1</th>\n",
       "      <td>-3.7</td>\n",
       "      <td>choco</td>\n",
       "      <td>14.002524</td>\n",
       "      <td>10.295689</td>\n",
       "    </tr>\n",
       "    <tr>\n",
       "      <th>2</th>\n",
       "      <td>-3.0</td>\n",
       "      <td>choco</td>\n",
       "      <td>15.928335</td>\n",
       "      <td>12.061366</td>\n",
       "    </tr>\n",
       "    <tr>\n",
       "      <th>3</th>\n",
       "      <td>-1.3</td>\n",
       "      <td>choco</td>\n",
       "      <td>17.673681</td>\n",
       "      <td>16.349439</td>\n",
       "    </tr>\n",
       "    <tr>\n",
       "      <th>4</th>\n",
       "      <td>-0.5</td>\n",
       "      <td>choco</td>\n",
       "      <td>19.463362</td>\n",
       "      <td>18.367355</td>\n",
       "    </tr>\n",
       "    <tr>\n",
       "      <th>...</th>\n",
       "      <td>...</td>\n",
       "      <td>...</td>\n",
       "      <td>...</td>\n",
       "      <td>...</td>\n",
       "    </tr>\n",
       "    <tr>\n",
       "      <th>195</th>\n",
       "      <td>12.4</td>\n",
       "      <td>vanilla</td>\n",
       "      <td>68.708075</td>\n",
       "      <td>71.446479</td>\n",
       "    </tr>\n",
       "    <tr>\n",
       "      <th>196</th>\n",
       "      <td>13.4</td>\n",
       "      <td>vanilla</td>\n",
       "      <td>75.800464</td>\n",
       "      <td>73.968875</td>\n",
       "    </tr>\n",
       "    <tr>\n",
       "      <th>197</th>\n",
       "      <td>14.7</td>\n",
       "      <td>vanilla</td>\n",
       "      <td>79.846568</td>\n",
       "      <td>77.247989</td>\n",
       "    </tr>\n",
       "    <tr>\n",
       "      <th>198</th>\n",
       "      <td>15.0</td>\n",
       "      <td>vanilla</td>\n",
       "      <td>78.713140</td>\n",
       "      <td>78.004708</td>\n",
       "    </tr>\n",
       "    <tr>\n",
       "      <th>199</th>\n",
       "      <td>15.2</td>\n",
       "      <td>vanilla</td>\n",
       "      <td>77.595252</td>\n",
       "      <td>78.509187</td>\n",
       "    </tr>\n",
       "  </tbody>\n",
       "</table>\n",
       "<p>200 rows × 4 columns</p>\n",
       "</div>"
      ],
      "text/plain": [
       "     temp     type      sales  sales_hat\n",
       "0    -4.1    choco  10.900261   9.286731\n",
       "1    -3.7    choco  14.002524  10.295689\n",
       "2    -3.0    choco  15.928335  12.061366\n",
       "3    -1.3    choco  17.673681  16.349439\n",
       "4    -0.5    choco  19.463362  18.367355\n",
       "..    ...      ...        ...        ...\n",
       "195  12.4  vanilla  68.708075  71.446479\n",
       "196  13.4  vanilla  75.800464  73.968875\n",
       "197  14.7  vanilla  79.846568  77.247989\n",
       "198  15.0  vanilla  78.713140  78.004708\n",
       "199  15.2  vanilla  77.595252  78.509187\n",
       "\n",
       "[200 rows x 4 columns]"
      ]
     },
     "execution_count": 70,
     "metadata": {},
     "output_type": "execute_result"
    }
   ],
   "source": [
    "# step 1\n",
    "## X = pd.get_dummies(df).drop(['sales'], axis = 1) ## 이게 제일 범용적이긴 함\n",
    "X = df.loc[:, ['temp', 'type']].assign(type = (df.type == 'choco')) ## 직관적으로 쓴 코드, 범주형은 인식을 못한다.\n",
    "y = df['sales']\n",
    "\n",
    "# step 2\n",
    "predictr = sklearn.linear_model.LinearRegression()\n",
    "\n",
    "# step 3\n",
    "predictr.fit(X, y)\n",
    "\n",
    "# step 4\n",
    "df = df.assign(sales_hat = predictr.predict(X));df"
   ]
  },
  {
   "cell_type": "markdown",
   "id": "bb792fa1-6981-406a-be61-59ebbee6d1ac",
   "metadata": {},
   "source": [
    "\\- 가장 중요한 시각화까지..."
   ]
  },
  {
   "cell_type": "code",
   "execution_count": 74,
   "id": "590edbee-cef2-411c-a396-96100729cb7c",
   "metadata": {},
   "outputs": [
    {
     "data": {
      "image/png": "[encoded data removed]",
      "text/plain": [
       "<Figure size 640x480 with 1 Axes>"
      ]
     },
     "metadata": {},
     "output_type": "display_data"
    }
   ],
   "source": [
    "plt.plot(df.temp, df.sales, 'o')\n",
    "plt.plot(df.loc[df.type == 'choco'].temp, df.loc[df.type == 'choco'].sales_hat, '--', color = 'brown', label = 'choco')\n",
    "plt.plot(df.loc[df.type == 'vanilla'].temp, df.loc[df.type == 'vanilla'].sales_hat, '--', color = 'yellow', label = 'vanilla')\n",
    "plt.legend()\n",
    "plt.show()"
   ]
  },
  {
   "cell_type": "markdown",
   "id": "232f9416-befa-48e3-8fd6-5887cb6a9f5a",
   "metadata": {},
   "source": [
    "> 별다른 뜻 없이 (초코, 바닐라)에 (1, 0)을 넣었는데, 어떻게 뭐가 나오긴 했다.\n",
    "\n",
    "> **어케했음???**\n",
    "\n",
    "$$\\textup{아이스크림 판매량} = 40 + \\textup{아이스크림종류} \\times (-20) + \\textup{온도} \\times 2.5 + \\textup{오차(운)}$$"
   ]
  },
  {
   "cell_type": "code",
   "execution_count": 72,
   "id": "ace10e7e-ee88-4e18-aca5-313f9d5d90ba",
   "metadata": {},
   "outputs": [
    {
     "data": {
      "text/plain": [
       "(array([  2.52239574, -20.54021854]), 40.16877158069265)"
      ]
     },
     "execution_count": 72,
     "metadata": {},
     "output_type": "execute_result"
    }
   ],
   "source": [
    "predictr.coef_, predictr.intercept_"
   ]
  },
  {
   "cell_type": "markdown",
   "id": "60dee324-61e1-47a8-af54-117a44298421",
   "metadata": {},
   "source": [
    "> coef_(기울기)가 2개지요.\n",
    "\n",
    "온도와 범주형 자료인 아이스크림 종류에 따라 기울기가 다르다. 온도 1도가 변할때마다 판매량은 2.52239574가 변하고, 아이스크림 종류가 1 변할때마다(0에서 1이니까 바닐라에서 초코로 바뀜) -20.54를 곱한 수를 더하여 수식을 설명하였다."
   ]
  },
  {
   "cell_type": "markdown",
   "id": "64bd5194-83bd-4fd5-a362-e835601106d9",
   "metadata": {},
   "source": [
    "**예측**\n",
    "\n",
    "\\- 온도가 $-2$이고, `type`이 `vanilla(0)`라면 예측값은?"
   ]
  },
  {
   "cell_type": "code",
   "execution_count": 76,
   "id": "d6a545a8-d34b-4809-b169-28d84e148791",
   "metadata": {},
   "outputs": [
    {
     "data": {
      "text/plain": [
       "array([35.1239801])"
      ]
     },
     "execution_count": 76,
     "metadata": {},
     "output_type": "execute_result"
    }
   ],
   "source": [
    "Xnew = pd.DataFrame({'temp' : [-2], 'type' : [0]})\n",
    "\n",
    "predictr.predict(Xnew)"
   ]
  },
  {
   "cell_type": "code",
   "execution_count": 77,
   "id": "d24f9bd4-7d54-4524-9b0b-9cec55717868",
   "metadata": {},
   "outputs": [
    {
     "data": {
      "image/png": "[encoded data removed]",
      "text/plain": [
       "<Figure size 640x480 with 1 Axes>"
      ]
     },
     "metadata": {},
     "output_type": "display_data"
    }
   ],
   "source": [
    "plt.plot(df.temp, df.sales, 'o')\n",
    "plt.plot(df.loc[df.type == 'choco'].temp, df.loc[df.type == 'choco'].sales_hat, '--', color = 'brown', label = 'choco')\n",
    "plt.plot(df.loc[df.type == 'vanilla'].temp, df.loc[df.type == 'vanilla'].sales_hat, '--', color = 'yellow', label = 'vanilla')\n",
    "plt.plot(Xnew.temp, predictr.predict(Xnew), 'or', label = 'prediction')\n",
    "plt.legend()\n",
    "plt.show()"
   ]
  },
  {
   "cell_type": "markdown",
   "id": "7d8b08ee-53c4-401a-af8b-7d849fae3484",
   "metadata": {},
   "source": [
    "### **C. 데이터 전처리**\n",
    "---\n",
    "\n",
    "\n"
   ]
  },
  {
   "cell_type": "markdown",
   "id": "061d0fa1-46bd-4890-802b-dbc6009a4eab",
   "metadata": {},
   "source": [
    "\\- 아까 `pd.get_dummies()`를 잠시 본 것 같은데, 이걸 어떻게, 왜 써야 하는 지 알아보자."
   ]
  },
  {
   "cell_type": "code",
   "execution_count": 78,
   "id": "884540d8-405b-4140-b15e-f1e5238d862f",
   "metadata": {},
   "outputs": [],
   "source": [
    "X = df[['temp','type']] # 독립변수, 설명변수, 피쳐\n",
    "y = df[['sales']] # 종속변수, 반응변수, 타겟 "
   ]
  },
  {
   "cell_type": "code",
   "execution_count": 79,
   "id": "baa7f63a-e64e-4939-9040-37b18452b59e",
   "metadata": {},
   "outputs": [
    {
     "data": {
      "text/html": [
       "<div>\n",
       "<style scoped>\n",
       "    .dataframe tbody tr th:only-of-type {\n",
       "        vertical-align: middle;\n",
       "    }\n",
       "\n",
       "    .dataframe tbody tr th {\n",
       "        vertical-align: top;\n",
       "    }\n",
       "\n",
       "    .dataframe thead th {\n",
       "        text-align: right;\n",
       "    }\n",
       "</style>\n",
       "<table border=\"1\" class=\"dataframe\">\n",
       "  <thead>\n",
       "    <tr style=\"text-align: right;\">\n",
       "      <th></th>\n",
       "      <th>temp</th>\n",
       "      <th>type_choco</th>\n",
       "      <th>type_vanilla</th>\n",
       "    </tr>\n",
       "  </thead>\n",
       "  <tbody>\n",
       "    <tr>\n",
       "      <th>0</th>\n",
       "      <td>-4.1</td>\n",
       "      <td>True</td>\n",
       "      <td>False</td>\n",
       "    </tr>\n",
       "    <tr>\n",
       "      <th>1</th>\n",
       "      <td>-3.7</td>\n",
       "      <td>True</td>\n",
       "      <td>False</td>\n",
       "    </tr>\n",
       "    <tr>\n",
       "      <th>2</th>\n",
       "      <td>-3.0</td>\n",
       "      <td>True</td>\n",
       "      <td>False</td>\n",
       "    </tr>\n",
       "    <tr>\n",
       "      <th>3</th>\n",
       "      <td>-1.3</td>\n",
       "      <td>True</td>\n",
       "      <td>False</td>\n",
       "    </tr>\n",
       "    <tr>\n",
       "      <th>4</th>\n",
       "      <td>-0.5</td>\n",
       "      <td>True</td>\n",
       "      <td>False</td>\n",
       "    </tr>\n",
       "    <tr>\n",
       "      <th>...</th>\n",
       "      <td>...</td>\n",
       "      <td>...</td>\n",
       "      <td>...</td>\n",
       "    </tr>\n",
       "    <tr>\n",
       "      <th>195</th>\n",
       "      <td>12.4</td>\n",
       "      <td>False</td>\n",
       "      <td>True</td>\n",
       "    </tr>\n",
       "    <tr>\n",
       "      <th>196</th>\n",
       "      <td>13.4</td>\n",
       "      <td>False</td>\n",
       "      <td>True</td>\n",
       "    </tr>\n",
       "    <tr>\n",
       "      <th>197</th>\n",
       "      <td>14.7</td>\n",
       "      <td>False</td>\n",
       "      <td>True</td>\n",
       "    </tr>\n",
       "    <tr>\n",
       "      <th>198</th>\n",
       "      <td>15.0</td>\n",
       "      <td>False</td>\n",
       "      <td>True</td>\n",
       "    </tr>\n",
       "    <tr>\n",
       "      <th>199</th>\n",
       "      <td>15.2</td>\n",
       "      <td>False</td>\n",
       "      <td>True</td>\n",
       "    </tr>\n",
       "  </tbody>\n",
       "</table>\n",
       "<p>200 rows × 3 columns</p>\n",
       "</div>"
      ],
      "text/plain": [
       "     temp  type_choco  type_vanilla\n",
       "0    -4.1        True         False\n",
       "1    -3.7        True         False\n",
       "2    -3.0        True         False\n",
       "3    -1.3        True         False\n",
       "4    -0.5        True         False\n",
       "..    ...         ...           ...\n",
       "195  12.4       False          True\n",
       "196  13.4       False          True\n",
       "197  14.7       False          True\n",
       "198  15.0       False          True\n",
       "199  15.2       False          True\n",
       "\n",
       "[200 rows x 3 columns]"
      ]
     },
     "execution_count": 79,
     "metadata": {},
     "output_type": "execute_result"
    }
   ],
   "source": [
    "X = pd.get_dummies(X);X"
   ]
  },
  {
   "cell_type": "markdown",
   "id": "5cbd761c-2a52-45eb-8666-686885937af7",
   "metadata": {},
   "source": [
    "> 원-핫 인코딩 : 표현하고 싶은 단어에는 1을, 그것이 아닌 것에는 0을 부여\n",
    "\n",
    "\\- LinearRegression 모델의 경우 범주형 자료를 자동으로 인식하지 못한다. 따라서 구분할 범주형 변수가 많다면, pd.get_dummies()를 통해 범주를 나눠주어야 한다."
   ]
  },
  {
   "cell_type": "markdown",
   "id": "df3813ce-2be0-49a2-9dc1-909d6506e9a3",
   "metadata": {},
   "source": [
    "### **D. 모형의 평가**\n",
    "---\n",
    "\n",
    "\n"
   ]
  },
  {
   "cell_type": "markdown",
   "id": "c2765bf0-78f7-477f-866b-f729aef8de73",
   "metadata": {},
   "source": [
    "\\- 단순선형회귀분석의 경우 모형을 $R^2$(결정계수)로 평가한다.\n",
    "\n",
    "> 다만 이것이 높다고 해서 무조건적으로 좋은 건 아니고, 명확한 기준도 없다. 모형 간 상대적인 좋음을 비교하는 것 뿐이다.\n",
    "\n",
    "\\- LogisticRegression에서는 적중률로 딱 떨어지게 점수를 내줄 수 있겠지만, 이건 그렇게 해버리면 0점이 나와버리겠지..."
   ]
  },
  {
   "cell_type": "markdown",
   "id": "1b6a6a3e-9a1a-47d0-8e2a-9f23c5302f7c",
   "metadata": {},
   "source": [
    "## 6. 설명변수가 많을 때"
   ]
  },
  {
   "cell_type": "markdown",
   "id": "ad7d1136-e8e2-4092-b275-af74be5df92e",
   "metadata": {},
   "source": [
    "\\- kaggle에서 \"Medical Cose Personal Datasets\"을 다운로드\n",
    "\n",
    "> https://www.kaggle.com/datasets/mirichoi0218/insurance"
   ]
  },
  {
   "cell_type": "code",
   "execution_count": 82,
   "id": "d12bc1b2-49de-4b8e-8ff7-6f5ea07692c0",
   "metadata": {},
   "outputs": [
    {
     "data": {
      "text/html": [
       "<div>\n",
       "<style scoped>\n",
       "    .dataframe tbody tr th:only-of-type {\n",
       "        vertical-align: middle;\n",
       "    }\n",
       "\n",
       "    .dataframe tbody tr th {\n",
       "        vertical-align: top;\n",
       "    }\n",
       "\n",
       "    .dataframe thead th {\n",
       "        text-align: right;\n",
       "    }\n",
       "</style>\n",
       "<table border=\"1\" class=\"dataframe\">\n",
       "  <thead>\n",
       "    <tr style=\"text-align: right;\">\n",
       "      <th></th>\n",
       "      <th>age</th>\n",
       "      <th>sex</th>\n",
       "      <th>bmi</th>\n",
       "      <th>children</th>\n",
       "      <th>smoker</th>\n",
       "      <th>region</th>\n",
       "      <th>charges</th>\n",
       "    </tr>\n",
       "  </thead>\n",
       "  <tbody>\n",
       "    <tr>\n",
       "      <th>0</th>\n",
       "      <td>19</td>\n",
       "      <td>female</td>\n",
       "      <td>27.900</td>\n",
       "      <td>0</td>\n",
       "      <td>yes</td>\n",
       "      <td>southwest</td>\n",
       "      <td>16884.92400</td>\n",
       "    </tr>\n",
       "    <tr>\n",
       "      <th>1</th>\n",
       "      <td>18</td>\n",
       "      <td>male</td>\n",
       "      <td>33.770</td>\n",
       "      <td>1</td>\n",
       "      <td>no</td>\n",
       "      <td>southeast</td>\n",
       "      <td>1725.55230</td>\n",
       "    </tr>\n",
       "    <tr>\n",
       "      <th>2</th>\n",
       "      <td>28</td>\n",
       "      <td>male</td>\n",
       "      <td>33.000</td>\n",
       "      <td>3</td>\n",
       "      <td>no</td>\n",
       "      <td>southeast</td>\n",
       "      <td>4449.46200</td>\n",
       "    </tr>\n",
       "    <tr>\n",
       "      <th>3</th>\n",
       "      <td>33</td>\n",
       "      <td>male</td>\n",
       "      <td>22.705</td>\n",
       "      <td>0</td>\n",
       "      <td>no</td>\n",
       "      <td>northwest</td>\n",
       "      <td>21984.47061</td>\n",
       "    </tr>\n",
       "    <tr>\n",
       "      <th>4</th>\n",
       "      <td>32</td>\n",
       "      <td>male</td>\n",
       "      <td>28.880</td>\n",
       "      <td>0</td>\n",
       "      <td>no</td>\n",
       "      <td>northwest</td>\n",
       "      <td>3866.85520</td>\n",
       "    </tr>\n",
       "    <tr>\n",
       "      <th>...</th>\n",
       "      <td>...</td>\n",
       "      <td>...</td>\n",
       "      <td>...</td>\n",
       "      <td>...</td>\n",
       "      <td>...</td>\n",
       "      <td>...</td>\n",
       "      <td>...</td>\n",
       "    </tr>\n",
       "    <tr>\n",
       "      <th>1333</th>\n",
       "      <td>50</td>\n",
       "      <td>male</td>\n",
       "      <td>30.970</td>\n",
       "      <td>3</td>\n",
       "      <td>no</td>\n",
       "      <td>northwest</td>\n",
       "      <td>10600.54830</td>\n",
       "    </tr>\n",
       "    <tr>\n",
       "      <th>1334</th>\n",
       "      <td>18</td>\n",
       "      <td>female</td>\n",
       "      <td>31.920</td>\n",
       "      <td>0</td>\n",
       "      <td>no</td>\n",
       "      <td>northeast</td>\n",
       "      <td>2205.98080</td>\n",
       "    </tr>\n",
       "    <tr>\n",
       "      <th>1335</th>\n",
       "      <td>18</td>\n",
       "      <td>female</td>\n",
       "      <td>36.850</td>\n",
       "      <td>0</td>\n",
       "      <td>no</td>\n",
       "      <td>southeast</td>\n",
       "      <td>1629.83350</td>\n",
       "    </tr>\n",
       "    <tr>\n",
       "      <th>1336</th>\n",
       "      <td>21</td>\n",
       "      <td>female</td>\n",
       "      <td>25.800</td>\n",
       "      <td>0</td>\n",
       "      <td>no</td>\n",
       "      <td>southwest</td>\n",
       "      <td>2007.94500</td>\n",
       "    </tr>\n",
       "    <tr>\n",
       "      <th>1337</th>\n",
       "      <td>61</td>\n",
       "      <td>female</td>\n",
       "      <td>29.070</td>\n",
       "      <td>0</td>\n",
       "      <td>yes</td>\n",
       "      <td>northwest</td>\n",
       "      <td>29141.36030</td>\n",
       "    </tr>\n",
       "  </tbody>\n",
       "</table>\n",
       "<p>1338 rows × 7 columns</p>\n",
       "</div>"
      ],
      "text/plain": [
       "      age     sex     bmi  children smoker     region      charges\n",
       "0      19  female  27.900         0    yes  southwest  16884.92400\n",
       "1      18    male  33.770         1     no  southeast   1725.55230\n",
       "2      28    male  33.000         3     no  southeast   4449.46200\n",
       "3      33    male  22.705         0     no  northwest  21984.47061\n",
       "4      32    male  28.880         0     no  northwest   3866.85520\n",
       "...   ...     ...     ...       ...    ...        ...          ...\n",
       "1333   50    male  30.970         3     no  northwest  10600.54830\n",
       "1334   18  female  31.920         0     no  northeast   2205.98080\n",
       "1335   18  female  36.850         0     no  southeast   1629.83350\n",
       "1336   21  female  25.800         0     no  southwest   2007.94500\n",
       "1337   61  female  29.070         0    yes  northwest  29141.36030\n",
       "\n",
       "[1338 rows x 7 columns]"
      ]
     },
     "execution_count": 82,
     "metadata": {},
     "output_type": "execute_result"
    }
   ],
   "source": [
    "df = pd.read_csv(\".\\data\\insurance.csv\")\n",
    "df"
   ]
  },
  {
   "cell_type": "markdown",
   "id": "b26b5c87-df03-4cf4-ab9c-08c4843acb17",
   "metadata": {},
   "source": [
    "### **A. 분석**\n",
    "---\n",
    "\n",
    "\n"
   ]
  },
  {
   "cell_type": "markdown",
   "id": "4e1c2885-bed2-4bb2-b5c8-9b45f53b144e",
   "metadata": {},
   "source": [
    "> 열 이름을 먼저 알아보자."
   ]
  },
  {
   "cell_type": "code",
   "execution_count": 84,
   "id": "1905986b-e028-44c5-b144-03f4d98664d9",
   "metadata": {},
   "outputs": [
    {
     "data": {
      "text/plain": [
       "{'age', 'bmi', 'charges', 'children', 'region', 'sex', 'smoker'}"
      ]
     },
     "execution_count": 84,
     "metadata": {},
     "output_type": "execute_result"
    }
   ],
   "source": [
    "set(df.columns)"
   ]
  },
  {
   "cell_type": "code",
   "execution_count": 86,
   "id": "b90fe4d2-5329-4ba5-b707-4b49a125c038",
   "metadata": {},
   "outputs": [
    {
     "name": "stdout",
     "output_type": "stream",
     "text": [
      "<class 'pandas.core.frame.DataFrame'>\n",
      "RangeIndex: 1338 entries, 0 to 1337\n",
      "Data columns (total 7 columns):\n",
      " #   Column    Non-Null Count  Dtype  \n",
      "---  ------    --------------  -----  \n",
      " 0   age       1338 non-null   int64  \n",
      " 1   sex       1338 non-null   object \n",
      " 2   bmi       1338 non-null   float64\n",
      " 3   children  1338 non-null   int64  \n",
      " 4   smoker    1338 non-null   object \n",
      " 5   region    1338 non-null   object \n",
      " 6   charges   1338 non-null   float64\n",
      "dtypes: float64(2), int64(2), object(3)\n",
      "memory usage: 73.3+ KB\n"
     ]
    }
   ],
   "source": [
    "df.info()"
   ]
  },
  {
   "cell_type": "markdown",
   "id": "139e36e9-e26c-4c38-b7d8-f2113cb4da4f",
   "metadata": {},
   "source": [
    "\\- 대충 여러가지 범주형ㆍ연속형 설명변수들과 보험료의 관계를 요약하고 싶다고 하자.\n",
    "\n",
    "> 먼저 범주형 자료(`sex`, `smoker`, `region`)들을 원-핫 인코딩 해주자."
   ]
  },
  {
   "cell_type": "code",
   "execution_count": 93,
   "id": "0888d37d-b028-4d00-bfa6-041b808fe152",
   "metadata": {},
   "outputs": [
    {
     "data": {
      "text/html": [
       "<div>\n",
       "<style scoped>\n",
       "    .dataframe tbody tr th:only-of-type {\n",
       "        vertical-align: middle;\n",
       "    }\n",
       "\n",
       "    .dataframe tbody tr th {\n",
       "        vertical-align: top;\n",
       "    }\n",
       "\n",
       "    .dataframe thead th {\n",
       "        text-align: right;\n",
       "    }\n",
       "</style>\n",
       "<table border=\"1\" class=\"dataframe\">\n",
       "  <thead>\n",
       "    <tr style=\"text-align: right;\">\n",
       "      <th></th>\n",
       "      <th>age</th>\n",
       "      <th>bmi</th>\n",
       "      <th>children</th>\n",
       "      <th>sex_female</th>\n",
       "      <th>sex_male</th>\n",
       "      <th>smoker_no</th>\n",
       "      <th>smoker_yes</th>\n",
       "      <th>region_northeast</th>\n",
       "      <th>region_northwest</th>\n",
       "      <th>region_southeast</th>\n",
       "      <th>region_southwest</th>\n",
       "    </tr>\n",
       "  </thead>\n",
       "  <tbody>\n",
       "    <tr>\n",
       "      <th>0</th>\n",
       "      <td>19</td>\n",
       "      <td>27.900</td>\n",
       "      <td>0</td>\n",
       "      <td>True</td>\n",
       "      <td>False</td>\n",
       "      <td>False</td>\n",
       "      <td>True</td>\n",
       "      <td>False</td>\n",
       "      <td>False</td>\n",
       "      <td>False</td>\n",
       "      <td>True</td>\n",
       "    </tr>\n",
       "    <tr>\n",
       "      <th>1</th>\n",
       "      <td>18</td>\n",
       "      <td>33.770</td>\n",
       "      <td>1</td>\n",
       "      <td>False</td>\n",
       "      <td>True</td>\n",
       "      <td>True</td>\n",
       "      <td>False</td>\n",
       "      <td>False</td>\n",
       "      <td>False</td>\n",
       "      <td>True</td>\n",
       "      <td>False</td>\n",
       "    </tr>\n",
       "    <tr>\n",
       "      <th>2</th>\n",
       "      <td>28</td>\n",
       "      <td>33.000</td>\n",
       "      <td>3</td>\n",
       "      <td>False</td>\n",
       "      <td>True</td>\n",
       "      <td>True</td>\n",
       "      <td>False</td>\n",
       "      <td>False</td>\n",
       "      <td>False</td>\n",
       "      <td>True</td>\n",
       "      <td>False</td>\n",
       "    </tr>\n",
       "    <tr>\n",
       "      <th>3</th>\n",
       "      <td>33</td>\n",
       "      <td>22.705</td>\n",
       "      <td>0</td>\n",
       "      <td>False</td>\n",
       "      <td>True</td>\n",
       "      <td>True</td>\n",
       "      <td>False</td>\n",
       "      <td>False</td>\n",
       "      <td>True</td>\n",
       "      <td>False</td>\n",
       "      <td>False</td>\n",
       "    </tr>\n",
       "    <tr>\n",
       "      <th>4</th>\n",
       "      <td>32</td>\n",
       "      <td>28.880</td>\n",
       "      <td>0</td>\n",
       "      <td>False</td>\n",
       "      <td>True</td>\n",
       "      <td>True</td>\n",
       "      <td>False</td>\n",
       "      <td>False</td>\n",
       "      <td>True</td>\n",
       "      <td>False</td>\n",
       "      <td>False</td>\n",
       "    </tr>\n",
       "    <tr>\n",
       "      <th>...</th>\n",
       "      <td>...</td>\n",
       "      <td>...</td>\n",
       "      <td>...</td>\n",
       "      <td>...</td>\n",
       "      <td>...</td>\n",
       "      <td>...</td>\n",
       "      <td>...</td>\n",
       "      <td>...</td>\n",
       "      <td>...</td>\n",
       "      <td>...</td>\n",
       "      <td>...</td>\n",
       "    </tr>\n",
       "    <tr>\n",
       "      <th>1333</th>\n",
       "      <td>50</td>\n",
       "      <td>30.970</td>\n",
       "      <td>3</td>\n",
       "      <td>False</td>\n",
       "      <td>True</td>\n",
       "      <td>True</td>\n",
       "      <td>False</td>\n",
       "      <td>False</td>\n",
       "      <td>True</td>\n",
       "      <td>False</td>\n",
       "      <td>False</td>\n",
       "    </tr>\n",
       "    <tr>\n",
       "      <th>1334</th>\n",
       "      <td>18</td>\n",
       "      <td>31.920</td>\n",
       "      <td>0</td>\n",
       "      <td>True</td>\n",
       "      <td>False</td>\n",
       "      <td>True</td>\n",
       "      <td>False</td>\n",
       "      <td>True</td>\n",
       "      <td>False</td>\n",
       "      <td>False</td>\n",
       "      <td>False</td>\n",
       "    </tr>\n",
       "    <tr>\n",
       "      <th>1335</th>\n",
       "      <td>18</td>\n",
       "      <td>36.850</td>\n",
       "      <td>0</td>\n",
       "      <td>True</td>\n",
       "      <td>False</td>\n",
       "      <td>True</td>\n",
       "      <td>False</td>\n",
       "      <td>False</td>\n",
       "      <td>False</td>\n",
       "      <td>True</td>\n",
       "      <td>False</td>\n",
       "    </tr>\n",
       "    <tr>\n",
       "      <th>1336</th>\n",
       "      <td>21</td>\n",
       "      <td>25.800</td>\n",
       "      <td>0</td>\n",
       "      <td>True</td>\n",
       "      <td>False</td>\n",
       "      <td>True</td>\n",
       "      <td>False</td>\n",
       "      <td>False</td>\n",
       "      <td>False</td>\n",
       "      <td>False</td>\n",
       "      <td>True</td>\n",
       "    </tr>\n",
       "    <tr>\n",
       "      <th>1337</th>\n",
       "      <td>61</td>\n",
       "      <td>29.070</td>\n",
       "      <td>0</td>\n",
       "      <td>True</td>\n",
       "      <td>False</td>\n",
       "      <td>False</td>\n",
       "      <td>True</td>\n",
       "      <td>False</td>\n",
       "      <td>True</td>\n",
       "      <td>False</td>\n",
       "      <td>False</td>\n",
       "    </tr>\n",
       "  </tbody>\n",
       "</table>\n",
       "<p>1338 rows × 11 columns</p>\n",
       "</div>"
      ],
      "text/plain": [
       "      age     bmi  children  sex_female  sex_male  smoker_no  smoker_yes  \\\n",
       "0      19  27.900         0        True     False      False        True   \n",
       "1      18  33.770         1       False      True       True       False   \n",
       "2      28  33.000         3       False      True       True       False   \n",
       "3      33  22.705         0       False      True       True       False   \n",
       "4      32  28.880         0       False      True       True       False   \n",
       "...   ...     ...       ...         ...       ...        ...         ...   \n",
       "1333   50  30.970         3       False      True       True       False   \n",
       "1334   18  31.920         0        True     False       True       False   \n",
       "1335   18  36.850         0        True     False       True       False   \n",
       "1336   21  25.800         0        True     False       True       False   \n",
       "1337   61  29.070         0        True     False      False        True   \n",
       "\n",
       "      region_northeast  region_northwest  region_southeast  region_southwest  \n",
       "0                False             False             False              True  \n",
       "1                False             False              True             False  \n",
       "2                False             False              True             False  \n",
       "3                False              True             False             False  \n",
       "4                False              True             False             False  \n",
       "...                ...               ...               ...               ...  \n",
       "1333             False              True             False             False  \n",
       "1334              True             False             False             False  \n",
       "1335             False             False              True             False  \n",
       "1336             False             False             False              True  \n",
       "1337             False              True             False             False  \n",
       "\n",
       "[1338 rows x 11 columns]"
      ]
     },
     "execution_count": 93,
     "metadata": {},
     "output_type": "execute_result"
    }
   ],
   "source": [
    "X = pd.get_dummies(df.drop(['charges'], axis = 1))\n",
    "y = df.charges\n",
    "\n",
    "X"
   ]
  },
  {
   "cell_type": "markdown",
   "id": "047c940a-5dc0-44ad-8603-ce330481ab9e",
   "metadata": {},
   "source": [
    "\\- 그럼 뭐 늘 하던대로..."
   ]
  },
  {
   "cell_type": "code",
   "execution_count": 94,
   "id": "2f1ee552-40db-4796-ae67-8bdb0f25c8f3",
   "metadata": {},
   "outputs": [],
   "source": [
    "# 2\n",
    "predictr = sklearn.linear_model.LinearRegression()\n",
    "\n",
    "# 3\n",
    "predictr.fit(X, y)\n",
    "\n",
    "# 4\n",
    "df = df.assign(y_hat = predictr.predict(X))"
   ]
  },
  {
   "cell_type": "code",
   "execution_count": 95,
   "id": "b0a61d11-38ea-4d8d-9cf0-34cf1f010625",
   "metadata": {},
   "outputs": [
    {
     "data": {
      "text/html": [
       "<div>\n",
       "<style scoped>\n",
       "    .dataframe tbody tr th:only-of-type {\n",
       "        vertical-align: middle;\n",
       "    }\n",
       "\n",
       "    .dataframe tbody tr th {\n",
       "        vertical-align: top;\n",
       "    }\n",
       "\n",
       "    .dataframe thead th {\n",
       "        text-align: right;\n",
       "    }\n",
       "</style>\n",
       "<table border=\"1\" class=\"dataframe\">\n",
       "  <thead>\n",
       "    <tr style=\"text-align: right;\">\n",
       "      <th></th>\n",
       "      <th>age</th>\n",
       "      <th>sex</th>\n",
       "      <th>bmi</th>\n",
       "      <th>children</th>\n",
       "      <th>smoker</th>\n",
       "      <th>region</th>\n",
       "      <th>charges</th>\n",
       "      <th>y_hat</th>\n",
       "    </tr>\n",
       "  </thead>\n",
       "  <tbody>\n",
       "    <tr>\n",
       "      <th>0</th>\n",
       "      <td>19</td>\n",
       "      <td>female</td>\n",
       "      <td>27.900</td>\n",
       "      <td>0</td>\n",
       "      <td>yes</td>\n",
       "      <td>southwest</td>\n",
       "      <td>16884.92400</td>\n",
       "      <td>25293.713028</td>\n",
       "    </tr>\n",
       "    <tr>\n",
       "      <th>1</th>\n",
       "      <td>18</td>\n",
       "      <td>male</td>\n",
       "      <td>33.770</td>\n",
       "      <td>1</td>\n",
       "      <td>no</td>\n",
       "      <td>southeast</td>\n",
       "      <td>1725.55230</td>\n",
       "      <td>3448.602834</td>\n",
       "    </tr>\n",
       "    <tr>\n",
       "      <th>2</th>\n",
       "      <td>28</td>\n",
       "      <td>male</td>\n",
       "      <td>33.000</td>\n",
       "      <td>3</td>\n",
       "      <td>no</td>\n",
       "      <td>southeast</td>\n",
       "      <td>4449.46200</td>\n",
       "      <td>6706.988491</td>\n",
       "    </tr>\n",
       "    <tr>\n",
       "      <th>3</th>\n",
       "      <td>33</td>\n",
       "      <td>male</td>\n",
       "      <td>22.705</td>\n",
       "      <td>0</td>\n",
       "      <td>no</td>\n",
       "      <td>northwest</td>\n",
       "      <td>21984.47061</td>\n",
       "      <td>3754.830163</td>\n",
       "    </tr>\n",
       "    <tr>\n",
       "      <th>4</th>\n",
       "      <td>32</td>\n",
       "      <td>male</td>\n",
       "      <td>28.880</td>\n",
       "      <td>0</td>\n",
       "      <td>no</td>\n",
       "      <td>northwest</td>\n",
       "      <td>3866.85520</td>\n",
       "      <td>5592.493386</td>\n",
       "    </tr>\n",
       "    <tr>\n",
       "      <th>...</th>\n",
       "      <td>...</td>\n",
       "      <td>...</td>\n",
       "      <td>...</td>\n",
       "      <td>...</td>\n",
       "      <td>...</td>\n",
       "      <td>...</td>\n",
       "      <td>...</td>\n",
       "      <td>...</td>\n",
       "    </tr>\n",
       "    <tr>\n",
       "      <th>1333</th>\n",
       "      <td>50</td>\n",
       "      <td>male</td>\n",
       "      <td>30.970</td>\n",
       "      <td>3</td>\n",
       "      <td>no</td>\n",
       "      <td>northwest</td>\n",
       "      <td>10600.54830</td>\n",
       "      <td>12351.323686</td>\n",
       "    </tr>\n",
       "    <tr>\n",
       "      <th>1334</th>\n",
       "      <td>18</td>\n",
       "      <td>female</td>\n",
       "      <td>31.920</td>\n",
       "      <td>0</td>\n",
       "      <td>no</td>\n",
       "      <td>northeast</td>\n",
       "      <td>2205.98080</td>\n",
       "      <td>3511.930809</td>\n",
       "    </tr>\n",
       "    <tr>\n",
       "      <th>1335</th>\n",
       "      <td>18</td>\n",
       "      <td>female</td>\n",
       "      <td>36.850</td>\n",
       "      <td>0</td>\n",
       "      <td>no</td>\n",
       "      <td>southeast</td>\n",
       "      <td>1629.83350</td>\n",
       "      <td>4149.132486</td>\n",
       "    </tr>\n",
       "    <tr>\n",
       "      <th>1336</th>\n",
       "      <td>21</td>\n",
       "      <td>female</td>\n",
       "      <td>25.800</td>\n",
       "      <td>0</td>\n",
       "      <td>no</td>\n",
       "      <td>southwest</td>\n",
       "      <td>2007.94500</td>\n",
       "      <td>1246.584939</td>\n",
       "    </tr>\n",
       "    <tr>\n",
       "      <th>1337</th>\n",
       "      <td>61</td>\n",
       "      <td>female</td>\n",
       "      <td>29.070</td>\n",
       "      <td>0</td>\n",
       "      <td>yes</td>\n",
       "      <td>northwest</td>\n",
       "      <td>29141.36030</td>\n",
       "      <td>37085.623268</td>\n",
       "    </tr>\n",
       "  </tbody>\n",
       "</table>\n",
       "<p>1338 rows × 8 columns</p>\n",
       "</div>"
      ],
      "text/plain": [
       "      age     sex     bmi  children smoker     region      charges  \\\n",
       "0      19  female  27.900         0    yes  southwest  16884.92400   \n",
       "1      18    male  33.770         1     no  southeast   1725.55230   \n",
       "2      28    male  33.000         3     no  southeast   4449.46200   \n",
       "3      33    male  22.705         0     no  northwest  21984.47061   \n",
       "4      32    male  28.880         0     no  northwest   3866.85520   \n",
       "...   ...     ...     ...       ...    ...        ...          ...   \n",
       "1333   50    male  30.970         3     no  northwest  10600.54830   \n",
       "1334   18  female  31.920         0     no  northeast   2205.98080   \n",
       "1335   18  female  36.850         0     no  southeast   1629.83350   \n",
       "1336   21  female  25.800         0     no  southwest   2007.94500   \n",
       "1337   61  female  29.070         0    yes  northwest  29141.36030   \n",
       "\n",
       "             y_hat  \n",
       "0     25293.713028  \n",
       "1      3448.602834  \n",
       "2      6706.988491  \n",
       "3      3754.830163  \n",
       "4      5592.493386  \n",
       "...            ...  \n",
       "1333  12351.323686  \n",
       "1334   3511.930809  \n",
       "1335   4149.132486  \n",
       "1336   1246.584939  \n",
       "1337  37085.623268  \n",
       "\n",
       "[1338 rows x 8 columns]"
      ]
     },
     "execution_count": 95,
     "metadata": {},
     "output_type": "execute_result"
    }
   ],
   "source": [
    "df"
   ]
  },
  {
   "cell_type": "markdown",
   "id": "ec5dd5ec-f555-4914-b807-6880f1b7073d",
   "metadata": {},
   "source": [
    "\\- `charge`와 `y_hat`이 잘 안맞는 것 같은데...?"
   ]
  },
  {
   "cell_type": "markdown",
   "id": "b32e8fbf-9d9c-4691-b6a0-52076565d691",
   "metadata": {},
   "source": [
    "### **B. 평가**\n",
    "---\n",
    "\n",
    "\n"
   ]
  },
  {
   "cell_type": "code",
   "execution_count": 97,
   "id": "656db0c5-8a96-4af4-9b08-7bf95499e2d5",
   "metadata": {},
   "outputs": [
    {
     "data": {
      "text/plain": [
       "0.7509130345985205"
      ]
     },
     "execution_count": 97,
     "metadata": {},
     "output_type": "execute_result"
    }
   ],
   "source": [
    "predictr.score(X, y)"
   ]
  },
  {
   "cell_type": "markdown",
   "id": "7e2be445-3478-4d52-944f-b15047c032b5",
   "metadata": {},
   "source": [
    "> $R^2 = \\frac{SSR}{SST} = 0.7509130345985205$\n",
    ">\n",
    "> 0.7 이상이면 망한 모형까진 아니지만..."
   ]
  },
  {
   "cell_type": "markdown",
   "id": "fcd11d45-79f3-46ad-867b-658055552b2f",
   "metadata": {},
   "source": [
    "**계수 해석**\n",
    "\n",
    "\\- 상수항"
   ]
  },
  {
   "cell_type": "code",
   "execution_count": 98,
   "id": "b041230c-0e8c-4abb-8234-6d3c7951796d",
   "metadata": {},
   "outputs": [
    {
     "data": {
      "text/plain": [
       "-666.9377199366372"
      ]
     },
     "execution_count": 98,
     "metadata": {},
     "output_type": "execute_result"
    }
   ],
   "source": [
    "predictr.intercept_"
   ]
  },
  {
   "cell_type": "markdown",
   "id": "88532a5b-d3e6-49af-934e-60c61ebaa0fe",
   "metadata": {},
   "source": [
    "> 기본적인 보험료(다른 모든 것이 0일 때)는 -666이다.~(딱봐도 이상하죠? 그래서 별로 의미는 없다.)~\n",
    "\n",
    "\\- 계수"
   ]
  },
  {
   "cell_type": "code",
   "execution_count": 101,
   "id": "11bf2189-6d24-4c2b-86b9-8ffd39553116",
   "metadata": {},
   "outputs": [
    {
     "data": {
      "text/html": [
       "<div>\n",
       "<style scoped>\n",
       "    .dataframe tbody tr th:only-of-type {\n",
       "        vertical-align: middle;\n",
       "    }\n",
       "\n",
       "    .dataframe tbody tr th {\n",
       "        vertical-align: top;\n",
       "    }\n",
       "\n",
       "    .dataframe thead th {\n",
       "        text-align: right;\n",
       "    }\n",
       "</style>\n",
       "<table border=\"1\" class=\"dataframe\">\n",
       "  <thead>\n",
       "    <tr style=\"text-align: right;\">\n",
       "      <th></th>\n",
       "      <th>columns</th>\n",
       "      <th>coef</th>\n",
       "    </tr>\n",
       "  </thead>\n",
       "  <tbody>\n",
       "    <tr>\n",
       "      <th>0</th>\n",
       "      <td>age</td>\n",
       "      <td>256.856353</td>\n",
       "    </tr>\n",
       "    <tr>\n",
       "      <th>1</th>\n",
       "      <td>bmi</td>\n",
       "      <td>339.193454</td>\n",
       "    </tr>\n",
       "    <tr>\n",
       "      <th>2</th>\n",
       "      <td>children</td>\n",
       "      <td>475.500545</td>\n",
       "    </tr>\n",
       "    <tr>\n",
       "      <th>3</th>\n",
       "      <td>sex_female</td>\n",
       "      <td>65.657180</td>\n",
       "    </tr>\n",
       "    <tr>\n",
       "      <th>4</th>\n",
       "      <td>sex_male</td>\n",
       "      <td>-65.657180</td>\n",
       "    </tr>\n",
       "    <tr>\n",
       "      <th>5</th>\n",
       "      <td>smoker_no</td>\n",
       "      <td>-11924.267271</td>\n",
       "    </tr>\n",
       "    <tr>\n",
       "      <th>6</th>\n",
       "      <td>smoker_yes</td>\n",
       "      <td>11924.267271</td>\n",
       "    </tr>\n",
       "    <tr>\n",
       "      <th>7</th>\n",
       "      <td>region_northeast</td>\n",
       "      <td>587.009235</td>\n",
       "    </tr>\n",
       "    <tr>\n",
       "      <th>8</th>\n",
       "      <td>region_northwest</td>\n",
       "      <td>234.045336</td>\n",
       "    </tr>\n",
       "    <tr>\n",
       "      <th>9</th>\n",
       "      <td>region_southeast</td>\n",
       "      <td>-448.012814</td>\n",
       "    </tr>\n",
       "    <tr>\n",
       "      <th>10</th>\n",
       "      <td>region_southwest</td>\n",
       "      <td>-373.041756</td>\n",
       "    </tr>\n",
       "  </tbody>\n",
       "</table>\n",
       "</div>"
      ],
      "text/plain": [
       "             columns          coef\n",
       "0                age    256.856353\n",
       "1                bmi    339.193454\n",
       "2           children    475.500545\n",
       "3         sex_female     65.657180\n",
       "4           sex_male    -65.657180\n",
       "5          smoker_no -11924.267271\n",
       "6         smoker_yes  11924.267271\n",
       "7   region_northeast    587.009235\n",
       "8   region_northwest    234.045336\n",
       "9   region_southeast   -448.012814\n",
       "10  region_southwest   -373.041756"
      ]
     },
     "execution_count": 101,
     "metadata": {},
     "output_type": "execute_result"
    }
   ],
   "source": [
    "pd.DataFrame({'columns' : X.columns, 'coef' : predictr.coef_})"
   ]
  },
  {
   "cell_type": "markdown",
   "id": "33c8965d-ddda-44ee-adf0-403d7c7e7568",
   "metadata": {},
   "source": [
    "* 연속형 : 나이, bmi, 자녀의 수가 많을수록 보험료는 올라갔다.\n",
    "* 범주형 : 여성, 흡연자의 경우 보험료가 더 비쌌다.\n",
    "* 지역은 잘 모르겠으나, 나머지는 꽤 그럴듯해 보인다.(지역에 대한 정보는 알기 어려움...)"
   ]
  }
 ],
 "metadata": {
  "kernelspec": {
   "display_name": "Python 3 (ipykernel)",
   "language": "python",
   "name": "python3"
  },
  "language_info": {
   "codemirror_mode": {
    "name": "ipython",
    "version": 3
   },
   "file_extension": ".py",
   "mimetype": "text/x-python",
   "name": "python",
   "nbconvert_exporter": "python",
   "pygments_lexer": "ipython3",
   "version": "3.10.13"
  }
 },
 "nbformat": 4,
 "nbformat_minor": 5
}
