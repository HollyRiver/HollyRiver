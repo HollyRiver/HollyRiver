{
 "cells": [
  {
   "cell_type": "markdown",
   "id": "10f56340-0df9-4a9b-b48a-acc6fc55572a",
   "metadata": {},
   "source": [
    "---\n",
    "title: \"sklearn.linear_model의 작동원리\"\n",
    "author: \"강신성\"\n",
    "date: \"2023-10-22\"\n",
    "date-format: iso\n",
    "categories: [linear_model]\n",
    "---\n",
    "\n",
    "\n"
   ]
  },
  {
   "cell_type": "markdown",
   "id": "40fd7ef6-ba87-4ac5-af4c-e65605c7c394",
   "metadata": {},
   "source": [
    "> LogisticRegression의 작동원리와 sklearn.linear_model에 대해서 자세히 알아보자."
   ]
  },
  {
   "cell_type": "markdown",
   "id": "b33c4914-9030-460d-9960-e85f5bec03d8",
   "metadata": {},
   "source": [
    "###### 해당 자료는 전북대학교 통계학과 최규빈 교수님의 강의 내용을 토대로 재구성되었음을 밝힙니다."
   ]
  },
  {
   "cell_type": "markdown",
   "id": "26bb6317-e6f7-4b2f-a60b-711a95e5975e",
   "metadata": {},
   "source": [
    "## 1. 라이브러리 imports"
   ]
  },
  {
   "cell_type": "code",
   "execution_count": 13,
   "id": "f22df06b-021f-4966-b166-ca86086510f2",
   "metadata": {},
   "outputs": [],
   "source": [
    "import pandas as pd\n",
    "import numpy as np\n",
    "import matplotlib.pyplot as plt\n",
    "import sklearn.linear_model\n",
    "import itertools"
   ]
  },
  {
   "cell_type": "markdown",
   "id": "a3b04055-a286-460e-8863-6aca57bb99cf",
   "metadata": {},
   "source": [
    "## 2. 로지스틱 회귀분석의 원리"
   ]
  },
  {
   "cell_type": "markdown",
   "id": "69a1a12c-590d-4116-a82f-cd5ae93feb63",
   "metadata": {},
   "source": [
    "* 저번에 봤었던 취업 자료를 가져와보자."
   ]
  },
  {
   "cell_type": "code",
   "execution_count": 2,
   "id": "770eac59-9d43-4d0e-98be-4a7b77bc2af4",
   "metadata": {},
   "outputs": [
    {
     "data": {
      "text/html": [
       "<div>\n",
       "<style scoped>\n",
       "    .dataframe tbody tr th:only-of-type {\n",
       "        vertical-align: middle;\n",
       "    }\n",
       "\n",
       "    .dataframe tbody tr th {\n",
       "        vertical-align: top;\n",
       "    }\n",
       "\n",
       "    .dataframe thead th {\n",
       "        text-align: right;\n",
       "    }\n",
       "</style>\n",
       "<table border=\"1\" class=\"dataframe\">\n",
       "  <thead>\n",
       "    <tr style=\"text-align: right;\">\n",
       "      <th></th>\n",
       "      <th>toeic</th>\n",
       "      <th>gpa</th>\n",
       "      <th>employment</th>\n",
       "    </tr>\n",
       "  </thead>\n",
       "  <tbody>\n",
       "    <tr>\n",
       "      <th>0</th>\n",
       "      <td>135</td>\n",
       "      <td>0.051535</td>\n",
       "      <td>0</td>\n",
       "    </tr>\n",
       "    <tr>\n",
       "      <th>1</th>\n",
       "      <td>935</td>\n",
       "      <td>0.355496</td>\n",
       "      <td>0</td>\n",
       "    </tr>\n",
       "    <tr>\n",
       "      <th>2</th>\n",
       "      <td>485</td>\n",
       "      <td>2.228435</td>\n",
       "      <td>0</td>\n",
       "    </tr>\n",
       "    <tr>\n",
       "      <th>3</th>\n",
       "      <td>65</td>\n",
       "      <td>1.179701</td>\n",
       "      <td>0</td>\n",
       "    </tr>\n",
       "    <tr>\n",
       "      <th>4</th>\n",
       "      <td>445</td>\n",
       "      <td>3.962356</td>\n",
       "      <td>1</td>\n",
       "    </tr>\n",
       "    <tr>\n",
       "      <th>...</th>\n",
       "      <td>...</td>\n",
       "      <td>...</td>\n",
       "      <td>...</td>\n",
       "    </tr>\n",
       "    <tr>\n",
       "      <th>495</th>\n",
       "      <td>280</td>\n",
       "      <td>4.288465</td>\n",
       "      <td>1</td>\n",
       "    </tr>\n",
       "    <tr>\n",
       "      <th>496</th>\n",
       "      <td>310</td>\n",
       "      <td>2.601212</td>\n",
       "      <td>1</td>\n",
       "    </tr>\n",
       "    <tr>\n",
       "      <th>497</th>\n",
       "      <td>225</td>\n",
       "      <td>0.042323</td>\n",
       "      <td>0</td>\n",
       "    </tr>\n",
       "    <tr>\n",
       "      <th>498</th>\n",
       "      <td>320</td>\n",
       "      <td>1.041416</td>\n",
       "      <td>0</td>\n",
       "    </tr>\n",
       "    <tr>\n",
       "      <th>499</th>\n",
       "      <td>375</td>\n",
       "      <td>3.626883</td>\n",
       "      <td>1</td>\n",
       "    </tr>\n",
       "  </tbody>\n",
       "</table>\n",
       "<p>500 rows × 3 columns</p>\n",
       "</div>"
      ],
      "text/plain": [
       "     toeic       gpa  employment\n",
       "0      135  0.051535           0\n",
       "1      935  0.355496           0\n",
       "2      485  2.228435           0\n",
       "3       65  1.179701           0\n",
       "4      445  3.962356           1\n",
       "..     ...       ...         ...\n",
       "495    280  4.288465           1\n",
       "496    310  2.601212           1\n",
       "497    225  0.042323           0\n",
       "498    320  1.041416           0\n",
       "499    375  3.626883           1\n",
       "\n",
       "[500 rows x 3 columns]"
      ]
     },
     "execution_count": 2,
     "metadata": {},
     "output_type": "execute_result"
    }
   ],
   "source": [
    "df = pd.read_csv('https://raw.githubusercontent.com/guebin/MP2023/main/posts/employment.csv')\n",
    "df"
   ]
  },
  {
   "cell_type": "markdown",
   "id": "a75f4376-31ff-4bda-8b77-b18577929ee6",
   "metadata": {},
   "source": [
    "employment를 예측하려면..."
   ]
  },
  {
   "cell_type": "code",
   "execution_count": 4,
   "id": "29092873-283c-4272-80b6-adb17f51f0a4",
   "metadata": {},
   "outputs": [
    {
     "data": {
      "text/plain": [
       "array([0, 0, 0, 0, 1, 0, 0, 0, 1, 0, 0, 1, 1, 0, 1, 0, 0, 1, 1, 0, 1, 1,\n",
       "       1, 1, 1, 1, 1, 0, 0, 0, 0, 0, 1, 1, 1, 0, 0, 0, 0, 0, 0, 0, 1, 1,\n",
       "       0, 0, 1, 0, 1, 0, 1, 1, 1, 0, 0, 0, 0, 0, 1, 0, 0, 0, 1, 1, 1, 0,\n",
       "       0, 1, 0, 0, 0, 0, 1, 1, 0, 0, 0, 1, 1, 1, 1, 0, 0, 1, 1, 0, 1, 1,\n",
       "       1, 1, 1, 1, 1, 1, 1, 1, 0, 1, 0, 0, 1, 1, 0, 0, 0, 0, 1, 0, 1, 0,\n",
       "       1, 0, 1, 0, 1, 1, 1, 0, 1, 1, 0, 0, 0, 0, 1, 1, 1, 1, 0, 1, 0, 0,\n",
       "       1, 0, 0, 1, 1, 1, 1, 1, 1, 1, 1, 1, 0, 1, 1, 0, 1, 1, 0, 1, 1, 1,\n",
       "       0, 0, 0, 1, 1, 0, 0, 1, 0, 0, 0, 1, 1, 1, 1, 0, 1, 0, 1, 1, 0, 1,\n",
       "       1, 1, 1, 1, 0, 1, 1, 0, 1, 0, 0, 1, 0, 1, 0, 0, 1, 1, 0, 0, 1, 1,\n",
       "       1, 1, 1, 1, 1, 1, 0, 1, 0, 0, 0, 1, 0, 1, 0, 1, 0, 1, 0, 0, 1, 1,\n",
       "       0, 0, 1, 0, 1, 0, 0, 0, 1, 1, 1, 0, 0, 1, 0, 0, 0, 1, 1, 1, 1, 0,\n",
       "       1, 1, 1, 0, 0, 0, 0, 0, 0, 1, 0, 1, 0, 1, 1, 0, 1, 1, 0, 0, 0, 0,\n",
       "       0, 0, 1, 1, 0, 1, 1, 1, 0, 0, 1, 1, 1, 0, 1, 1, 0, 1, 0, 1, 1, 0,\n",
       "       0, 1, 1, 1, 0, 1, 0, 1, 0, 0, 0, 1, 0, 0, 0, 0, 1, 1, 0, 0, 1, 1,\n",
       "       0, 0, 0, 0, 0, 0, 1, 0, 1, 1, 1, 1, 0, 0, 1, 1, 0, 0, 0, 1, 1, 0,\n",
       "       0, 1, 1, 1, 0, 1, 0, 1, 0, 0, 1, 1, 1, 1, 0, 1, 0, 0, 0, 1, 1, 1,\n",
       "       0, 1, 0, 0, 0, 1, 0, 0, 1, 0, 0, 1, 1, 1, 0, 1, 1, 1, 1, 1, 0, 1,\n",
       "       0, 0, 0, 0, 1, 1, 1, 0, 0, 0, 1, 1, 0, 0, 0, 1, 0, 0, 1, 0, 1, 1,\n",
       "       0, 1, 1, 0, 0, 0, 1, 0, 1, 0, 1, 1, 0, 0, 1, 1, 1, 1, 0, 1, 0, 0,\n",
       "       0, 0, 1, 1, 0, 0, 1, 0, 0, 1, 0, 0, 0, 1, 1, 1, 0, 1, 0, 1, 0, 1,\n",
       "       1, 1, 0, 1, 1, 1, 1, 1, 0, 1, 1, 1, 0, 1, 1, 1, 0, 1, 0, 0, 0, 1,\n",
       "       0, 1, 0, 1, 1, 0, 1, 0, 1, 0, 1, 0, 1, 0, 0, 1, 0, 1, 0, 1, 1, 0,\n",
       "       0, 0, 1, 1, 0, 0, 0, 0, 0, 0, 1, 1, 0, 0, 0, 1], dtype=int64)"
      ]
     },
     "execution_count": 4,
     "metadata": {},
     "output_type": "execute_result"
    }
   ],
   "source": [
    "## 1\n",
    "X = df.drop(['employment'], axis = 1)\n",
    "y = df.employment\n",
    "\n",
    "## 2\n",
    "predictr = sklearn.linear_model.LogisticRegression()\n",
    "\n",
    "## 3\n",
    "predictr.fit(X, y)\n",
    "\n",
    "predictr.predict(X)  ## yhat"
   ]
  },
  {
   "cell_type": "markdown",
   "id": "bb36526e-eabc-47a5-b633-efff73c5aae7",
   "metadata": {},
   "source": [
    "### **$\\hat{y}$은 어떻게 나왔는가?**"
   ]
  },
  {
   "cell_type": "markdown",
   "id": "97b496ec-7e76-4843-8cef-c23e896311ee",
   "metadata": {},
   "source": [
    "\\- 아래 수식에 의하여 나왔음..."
   ]
  },
  {
   "cell_type": "code",
   "execution_count": 5,
   "id": "5f25bb31-f486-40ed-896f-7fe1fab4c82c",
   "metadata": {},
   "outputs": [
    {
     "data": {
      "text/plain": [
       "(array([[0.00571598, 2.46520018]]), array([-8.45433334]))"
      ]
     },
     "execution_count": 5,
     "metadata": {},
     "output_type": "execute_result"
    }
   ],
   "source": [
    "predictr.coef_, predictr.intercept_  ## 로지스틱임에도 기울기와 절편이 있다."
   ]
  },
  {
   "cell_type": "code",
   "execution_count": 6,
   "id": "8e56ec76-2b04-4bb8-b51d-37e5cc7a2919",
   "metadata": {},
   "outputs": [
    {
     "data": {
      "text/plain": [
       "0      0.000523\n",
       "1      0.096780\n",
       "2      0.453003\n",
       "3      0.005627\n",
       "4      0.979312\n",
       "         ...   \n",
       "495    0.976295\n",
       "496    0.432939\n",
       "497    0.000855\n",
       "498    0.016991\n",
       "499    0.932777\n",
       "Length: 500, dtype: float64"
      ]
     },
     "execution_count": 6,
     "metadata": {},
     "output_type": "execute_result"
    }
   ],
   "source": [
    "u = X.toeic*0.00571598 + X.gpa*2.46520018 - 8.45433334  ## yhat\n",
    "v = 1/(1+np.exp(-u))  # v : 확률같은 거\n",
    "\n",
    "v"
   ]
  },
  {
   "cell_type": "code",
   "execution_count": 8,
   "id": "373b41bb-8a84-46ff-a6ad-c9022e872291",
   "metadata": {},
   "outputs": [
    {
     "data": {
      "text/plain": [
       "1.0"
      ]
     },
     "execution_count": 8,
     "metadata": {},
     "output_type": "execute_result"
    }
   ],
   "source": [
    "((v > 0.5) == predictr.predict(X)).mean()  ## v가 0.5보다 클 경우 전부 True였음을 알 수 있음"
   ]
  },
  {
   "cell_type": "markdown",
   "id": "6fcd9e35-721c-445b-9e36-e4c9bf32f43e",
   "metadata": {},
   "source": [
    "**해당 개체에 처리가 취해질 확률을 구하고, 그것이 0.5보다 크면 처리를 취한다.**\n",
    "\n",
    "\\- 만약 적합된 v값을 알고 싶다면..."
   ]
  },
  {
   "cell_type": "code",
   "execution_count": 9,
   "id": "0bdc3515-a898-41d9-8828-6d10ebce327d",
   "metadata": {},
   "outputs": [
    {
     "data": {
      "text/plain": [
       "0    0.001\n",
       "1    0.097\n",
       "2    0.453\n",
       "3    0.006\n",
       "4    0.979\n",
       "dtype: float64"
      ]
     },
     "execution_count": 9,
     "metadata": {},
     "output_type": "execute_result"
    }
   ],
   "source": [
    "v[:5].round(3)"
   ]
  },
  {
   "cell_type": "code",
   "execution_count": 12,
   "id": "08a0c4f2-8501-42f2-884c-6a528cf0e989",
   "metadata": {},
   "outputs": [
    {
     "data": {
      "text/plain": [
       "array([[0.999, 0.001],\n",
       "       [0.903, 0.097],\n",
       "       [0.547, 0.453],\n",
       "       [0.994, 0.006],\n",
       "       [0.021, 0.979]])"
      ]
     },
     "execution_count": 12,
     "metadata": {},
     "output_type": "execute_result"
    }
   ],
   "source": [
    "predictr.predict_proba(X)[:5].round(3)"
   ]
  },
  {
   "cell_type": "markdown",
   "id": "653dccf5-f5e3-4a00-80c2-c61d93f664a9",
   "metadata": {},
   "source": [
    "> 우측의 값과 일치하는 것을 알 수 있다.(0번째 : 0일 확률, 1번째 : 1일 확률)"
   ]
  },
  {
   "cell_type": "markdown",
   "id": "c98518da-0c93-4e0d-b0c3-c79db2eee8e1",
   "metadata": {},
   "source": [
    "## 3. predictor 파고들기"
   ]
  },
  {
   "cell_type": "markdown",
   "id": "5f914c9f-6239-41c1-b760-4e63badcc90e",
   "metadata": {},
   "source": [
    "* 아래와 같은 데이터를 가공해서 0\\~7까지는 train, 8\\~9까지는 test 셋으로 쓰도록 하자."
   ]
  },
  {
   "cell_type": "code",
   "execution_count": 14,
   "id": "4d71ce2b-a1cf-42a7-b7c4-19cb122755d7",
   "metadata": {},
   "outputs": [
    {
     "data": {
      "text/html": [
       "<div>\n",
       "<style scoped>\n",
       "    .dataframe tbody tr th:only-of-type {\n",
       "        vertical-align: middle;\n",
       "    }\n",
       "\n",
       "    .dataframe tbody tr th {\n",
       "        vertical-align: top;\n",
       "    }\n",
       "\n",
       "    .dataframe thead th {\n",
       "        text-align: right;\n",
       "    }\n",
       "</style>\n",
       "<table border=\"1\" class=\"dataframe\">\n",
       "  <thead>\n",
       "    <tr style=\"text-align: right;\">\n",
       "      <th></th>\n",
       "      <th>X</th>\n",
       "      <th>y</th>\n",
       "    </tr>\n",
       "  </thead>\n",
       "  <tbody>\n",
       "    <tr>\n",
       "      <th>0</th>\n",
       "      <td>20</td>\n",
       "      <td>0.992487</td>\n",
       "    </tr>\n",
       "    <tr>\n",
       "      <th>1</th>\n",
       "      <td>21</td>\n",
       "      <td>-0.040013</td>\n",
       "    </tr>\n",
       "    <tr>\n",
       "      <th>2</th>\n",
       "      <td>22</td>\n",
       "      <td>-0.984351</td>\n",
       "    </tr>\n",
       "    <tr>\n",
       "      <th>3</th>\n",
       "      <td>23</td>\n",
       "      <td>-2.085536</td>\n",
       "    </tr>\n",
       "    <tr>\n",
       "      <th>4</th>\n",
       "      <td>24</td>\n",
       "      <td>-3.023587</td>\n",
       "    </tr>\n",
       "    <tr>\n",
       "      <th>5</th>\n",
       "      <td>25</td>\n",
       "      <td>-4.287162</td>\n",
       "    </tr>\n",
       "    <tr>\n",
       "      <th>6</th>\n",
       "      <td>26</td>\n",
       "      <td>-5.085849</td>\n",
       "    </tr>\n",
       "    <tr>\n",
       "      <th>7</th>\n",
       "      <td>27</td>\n",
       "      <td>-6.110568</td>\n",
       "    </tr>\n",
       "    <tr>\n",
       "      <th>8</th>\n",
       "      <td>28</td>\n",
       "      <td>-6.798420</td>\n",
       "    </tr>\n",
       "    <tr>\n",
       "      <th>9</th>\n",
       "      <td>29</td>\n",
       "      <td>-8.028488</td>\n",
       "    </tr>\n",
       "  </tbody>\n",
       "</table>\n",
       "</div>"
      ],
      "text/plain": [
       "    X         y\n",
       "0  20  0.992487\n",
       "1  21 -0.040013\n",
       "2  22 -0.984351\n",
       "3  23 -2.085536\n",
       "4  24 -3.023587\n",
       "5  25 -4.287162\n",
       "6  26 -5.085849\n",
       "7  27 -6.110568\n",
       "8  28 -6.798420\n",
       "9  29 -8.028488"
      ]
     },
     "execution_count": 14,
     "metadata": {},
     "output_type": "execute_result"
    }
   ],
   "source": [
    "df = pd.DataFrame({'X':np.arange(20,30),'y':-np.arange(10)+1+np.random.randn(10)*0.1})\n",
    "df"
   ]
  },
  {
   "cell_type": "code",
   "execution_count": 16,
   "id": "07685667-12ac-4205-aeb7-9d262f80c141",
   "metadata": {},
   "outputs": [],
   "source": [
    "df_train = df[:8]\n",
    "df_test = df[8:]\n",
    "\n",
    "df_train_X = df_train[['X']]\n",
    "df_train_y = df_train[['y']]\n",
    "df_test_X = df_test[['X']]\n",
    "df_test_y = df_test[['y']]"
   ]
  },
  {
   "cell_type": "code",
   "execution_count": 17,
   "id": "dba3ded9-0764-4fc3-8fd7-256457c62988",
   "metadata": {},
   "outputs": [
    {
     "data": {
      "text/plain": [
       "[LinearRegression(), LinearRegression()]"
      ]
     },
     "execution_count": 17,
     "metadata": {},
     "output_type": "execute_result"
    }
   ],
   "source": [
    "## predictor 두 개를 만들도록 리스트 컴프리헨션\n",
    "predictors = [sklearn.linear_model.LinearRegression() for i in range(2)]\n",
    "predictors"
   ]
  },
  {
   "cell_type": "code",
   "execution_count": 18,
   "id": "67eb6e82-5c80-43ac-854a-f48f58d8c3ff",
   "metadata": {},
   "outputs": [
    {
     "data": {
      "text/html": [
       "<style>#sk-container-id-2 {color: black;}#sk-container-id-2 pre{padding: 0;}#sk-container-id-2 div.sk-toggleable {background-color: white;}#sk-container-id-2 label.sk-toggleable__label {cursor: pointer;display: block;width: 100%;margin-bottom: 0;padding: 0.3em;box-sizing: border-box;text-align: center;}#sk-container-id-2 label.sk-toggleable__label-arrow:before {content: \"▸\";float: left;margin-right: 0.25em;color: #696969;}#sk-container-id-2 label.sk-toggleable__label-arrow:hover:before {color: black;}#sk-container-id-2 div.sk-estimator:hover label.sk-toggleable__label-arrow:before {color: black;}#sk-container-id-2 div.sk-toggleable__content {max-height: 0;max-width: 0;overflow: hidden;text-align: left;background-color: #f0f8ff;}#sk-container-id-2 div.sk-toggleable__content pre {margin: 0.2em;color: black;border-radius: 0.25em;background-color: #f0f8ff;}#sk-container-id-2 input.sk-toggleable__control:checked~div.sk-toggleable__content {max-height: 200px;max-width: 100%;overflow: auto;}#sk-container-id-2 input.sk-toggleable__control:checked~label.sk-toggleable__label-arrow:before {content: \"▾\";}#sk-container-id-2 div.sk-estimator input.sk-toggleable__control:checked~label.sk-toggleable__label {background-color: #d4ebff;}#sk-container-id-2 div.sk-label input.sk-toggleable__control:checked~label.sk-toggleable__label {background-color: #d4ebff;}#sk-container-id-2 input.sk-hidden--visually {border: 0;clip: rect(1px 1px 1px 1px);clip: rect(1px, 1px, 1px, 1px);height: 1px;margin: -1px;overflow: hidden;padding: 0;position: absolute;width: 1px;}#sk-container-id-2 div.sk-estimator {font-family: monospace;background-color: #f0f8ff;border: 1px dotted black;border-radius: 0.25em;box-sizing: border-box;margin-bottom: 0.5em;}#sk-container-id-2 div.sk-estimator:hover {background-color: #d4ebff;}#sk-container-id-2 div.sk-parallel-item::after {content: \"\";width: 100%;border-bottom: 1px solid gray;flex-grow: 1;}#sk-container-id-2 div.sk-label:hover label.sk-toggleable__label {background-color: #d4ebff;}#sk-container-id-2 div.sk-serial::before {content: \"\";position: absolute;border-left: 1px solid gray;box-sizing: border-box;top: 0;bottom: 0;left: 50%;z-index: 0;}#sk-container-id-2 div.sk-serial {display: flex;flex-direction: column;align-items: center;background-color: white;padding-right: 0.2em;padding-left: 0.2em;position: relative;}#sk-container-id-2 div.sk-item {position: relative;z-index: 1;}#sk-container-id-2 div.sk-parallel {display: flex;align-items: stretch;justify-content: center;background-color: white;position: relative;}#sk-container-id-2 div.sk-item::before, #sk-container-id-2 div.sk-parallel-item::before {content: \"\";position: absolute;border-left: 1px solid gray;box-sizing: border-box;top: 0;bottom: 0;left: 50%;z-index: -1;}#sk-container-id-2 div.sk-parallel-item {display: flex;flex-direction: column;z-index: 1;position: relative;background-color: white;}#sk-container-id-2 div.sk-parallel-item:first-child::after {align-self: flex-end;width: 50%;}#sk-container-id-2 div.sk-parallel-item:last-child::after {align-self: flex-start;width: 50%;}#sk-container-id-2 div.sk-parallel-item:only-child::after {width: 0;}#sk-container-id-2 div.sk-dashed-wrapped {border: 1px dashed gray;margin: 0 0.4em 0.5em 0.4em;box-sizing: border-box;padding-bottom: 0.4em;background-color: white;}#sk-container-id-2 div.sk-label label {font-family: monospace;font-weight: bold;display: inline-block;line-height: 1.2em;}#sk-container-id-2 div.sk-label-container {text-align: center;}#sk-container-id-2 div.sk-container {/* jupyter's `normalize.less` sets `[hidden] { display: none; }` but bootstrap.min.css set `[hidden] { display: none !important; }` so we also need the `!important` here to be able to override the default hidden behavior on the sphinx rendered scikit-learn.org. See: https://github.com/scikit-learn/scikit-learn/issues/21755 */display: inline-block !important;position: relative;}#sk-container-id-2 div.sk-text-repr-fallback {display: none;}</style><div id=\"sk-container-id-2\" class=\"sk-top-container\"><div class=\"sk-text-repr-fallback\"><pre>LinearRegression()</pre><b>In a Jupyter environment, please rerun this cell to show the HTML representation or trust the notebook. <br />On GitHub, the HTML representation is unable to render, please try loading this page with nbviewer.org.</b></div><div class=\"sk-container\" hidden><div class=\"sk-item\"><div class=\"sk-estimator sk-toggleable\"><input class=\"sk-toggleable__control sk-hidden--visually\" id=\"sk-estimator-id-2\" type=\"checkbox\" checked><label for=\"sk-estimator-id-2\" class=\"sk-toggleable__label sk-toggleable__label-arrow\">LinearRegression</label><div class=\"sk-toggleable__content\"><pre>LinearRegression()</pre></div></div></div></div></div>"
      ],
      "text/plain": [
       "LinearRegression()"
      ]
     },
     "execution_count": 18,
     "metadata": {},
     "output_type": "execute_result"
    }
   ],
   "source": [
    "predictors[0].fit(df_train_X, df_train_y)"
   ]
  },
  {
   "cell_type": "markdown",
   "id": "59add8f8-4749-4297-9088-3b8fb86d1706",
   "metadata": {},
   "source": [
    "> 첫 번째 predictr에 적합하면 .score, .intercept_, .coef_가 해금된다. 두 번째 predictr에는 적용되지 않는다.~(당연한 거 아님?)~"
   ]
  },
  {
   "cell_type": "markdown",
   "id": "ed001b45-d334-4170-bd9b-f9eb31552cb8",
   "metadata": {},
   "source": [
    "* X, y에 들어갈 수 있는 형식"
   ]
  },
  {
   "cell_type": "code",
   "execution_count": 19,
   "id": "676930ba-151e-437b-8f4a-944d33df8679",
   "metadata": {},
   "outputs": [],
   "source": [
    "Xs = {'DataFrame(2d)': df_train_X, \n",
    "      'Seires(1d)': df_train_X.X,\n",
    "      'ndarray(2d)': np.array(df_train_X),\n",
    "      'ndarray(1d)': np.array(df_train_X).reshape(-1),\n",
    "      'list(2d)': np.array(df_train_X).tolist(),\n",
    "      'list(1d)': np.array(df_train_X).reshape(-1).tolist()}"
   ]
  },
  {
   "cell_type": "code",
   "execution_count": 20,
   "id": "6c6866b5-653a-45dc-b5e2-b5b21e4cd816",
   "metadata": {},
   "outputs": [],
   "source": [
    "ys = {'DataFrame(2d)': df_train_y, \n",
    "      'Seires(1d)': df_train_y.y,\n",
    "      'ndarray(2d)': np.array(df_train_y),\n",
    "      'ndarray(1d)': np.array(df_train_y).reshape(-1),\n",
    "      'list(2d)': np.array(df_train_y).tolist(),\n",
    "      'list(1d)': np.array(df_train_y).reshape(-1).tolist()}"
   ]
  },
  {
   "cell_type": "code",
   "execution_count": 24,
   "id": "3423e4e8-d95f-4690-9813-eeebc39e3d22",
   "metadata": {},
   "outputs": [],
   "source": [
    "def test(X,y):\n",
    "    try: \n",
    "        predictr = sklearn.linear_model.LinearRegression()\n",
    "        predictr.fit(X,y)\n",
    "        return 'no error'\n",
    "    except:\n",
    "        return 'error'  ## 예외사항(error) 발생 시의 output"
   ]
  },
  {
   "cell_type": "markdown",
   "id": "30085b78-abf3-4c21-b181-99a53829d2db",
   "metadata": {},
   "source": [
    "> 가능한 형식들을 모두 모아놨다. 그럼 이것들을 가지고 어떤 녀석이 되는 지 딕셔너리 컴프리헨션을 해보자."
   ]
  },
  {
   "cell_type": "code",
   "execution_count": 25,
   "id": "d01f6473-2cdc-4ee0-920d-a5031aa895d9",
   "metadata": {},
   "outputs": [
    {
     "data": {
      "text/plain": [
       "{('X=DataFrame(2d)', 'y=DataFrame(2d)'): 'no error',\n",
       " ('X=DataFrame(2d)', 'y=Seires(1d)'): 'no error',\n",
       " ('X=DataFrame(2d)', 'y=ndarray(2d)'): 'no error',\n",
       " ('X=DataFrame(2d)', 'y=ndarray(1d)'): 'no error',\n",
       " ('X=DataFrame(2d)', 'y=list(2d)'): 'no error',\n",
       " ('X=DataFrame(2d)', 'y=list(1d)'): 'no error',\n",
       " ('X=Seires(1d)', 'y=DataFrame(2d)'): 'error',\n",
       " ('X=Seires(1d)', 'y=Seires(1d)'): 'error',\n",
       " ('X=Seires(1d)', 'y=ndarray(2d)'): 'error',\n",
       " ('X=Seires(1d)', 'y=ndarray(1d)'): 'error',\n",
       " ('X=Seires(1d)', 'y=list(2d)'): 'error',\n",
       " ('X=Seires(1d)', 'y=list(1d)'): 'error',\n",
       " ('X=ndarray(2d)', 'y=DataFrame(2d)'): 'no error',\n",
       " ('X=ndarray(2d)', 'y=Seires(1d)'): 'no error',\n",
       " ('X=ndarray(2d)', 'y=ndarray(2d)'): 'no error',\n",
       " ('X=ndarray(2d)', 'y=ndarray(1d)'): 'no error',\n",
       " ('X=ndarray(2d)', 'y=list(2d)'): 'no error',\n",
       " ('X=ndarray(2d)', 'y=list(1d)'): 'no error',\n",
       " ('X=ndarray(1d)', 'y=DataFrame(2d)'): 'error',\n",
       " ('X=ndarray(1d)', 'y=Seires(1d)'): 'error',\n",
       " ('X=ndarray(1d)', 'y=ndarray(2d)'): 'error',\n",
       " ('X=ndarray(1d)', 'y=ndarray(1d)'): 'error',\n",
       " ('X=ndarray(1d)', 'y=list(2d)'): 'error',\n",
       " ('X=ndarray(1d)', 'y=list(1d)'): 'error',\n",
       " ('X=list(2d)', 'y=DataFrame(2d)'): 'no error',\n",
       " ('X=list(2d)', 'y=Seires(1d)'): 'no error',\n",
       " ('X=list(2d)', 'y=ndarray(2d)'): 'no error',\n",
       " ('X=list(2d)', 'y=ndarray(1d)'): 'no error',\n",
       " ('X=list(2d)', 'y=list(2d)'): 'no error',\n",
       " ('X=list(2d)', 'y=list(1d)'): 'no error',\n",
       " ('X=list(1d)', 'y=DataFrame(2d)'): 'error',\n",
       " ('X=list(1d)', 'y=Seires(1d)'): 'error',\n",
       " ('X=list(1d)', 'y=ndarray(2d)'): 'error',\n",
       " ('X=list(1d)', 'y=ndarray(1d)'): 'error',\n",
       " ('X=list(1d)', 'y=list(2d)'): 'error',\n",
       " ('X=list(1d)', 'y=list(1d)'): 'error'}"
      ]
     },
     "execution_count": 25,
     "metadata": {},
     "output_type": "execute_result"
    }
   ],
   "source": [
    "{('X='+i,'y='+j): test(Xs[i],ys[j]) for i,j in itertools.product(Xs.keys(),ys.keys())}\n",
    "\n",
    "## itertools.product() : 원소들의 데카르트 곱을 리스트로 반환.\n",
    "## itertools.product('ABCD', repeat = 2)의 경우 크기가 2인 앞의 string 조합을 모두 반환"
   ]
  },
  {
   "cell_type": "markdown",
   "id": "c57c5769-579d-4c17-90de-1010237e6235",
   "metadata": {},
   "source": [
    "\\- 결론 | X에는 2차원 데이터만 들어올 수 있지만, y에는 1ㆍ2차원 데이터 모두가 들어올 수 있다.\n",
    "\n",
    "\\- 그리고 일반적으로, X에는 2차원 데이터 배열이 imput되기를 기대하고, y에는 1차원 데이터 배열이 imput되기를 기대한다."
   ]
  },
  {
   "cell_type": "markdown",
   "id": "69e7a9c1-3874-443c-bcf4-8d7f2feecf65",
   "metadata": {},
   "source": [
    "## 4. 첨언 | 데이터셋 이름 설정에 대하여"
   ]
  },
  {
   "cell_type": "markdown",
   "id": "67d30b07-ca79-4ba8-a1ec-ef0dde8ffa8b",
   "metadata": {},
   "source": [
    "* 설명변수와 반응변수, 테스트 셋과 트레인 셋을 부르는 변수 명을 어떻게 설정해야 할 지 나타내겠다."
   ]
  },
  {
   "cell_type": "markdown",
   "id": "46d08a13-045b-40bf-a760-cc84c268aeed",
   "metadata": {},
   "source": [
    "X : 설명변수 & Train\n",
    "\n",
    "y : 반응변수 & Train\n",
    "\n",
    "XX : 설명변수 & Test\n",
    "\n",
    "yy : 반응변수 & Test\n",
    "\n",
    "yhat : predictr.predict(X)\n",
    "\n",
    "yyhat : predictr.predict(XX)"
   ]
  }
 ],
 "metadata": {
  "kernelspec": {
   "display_name": "Python 3 (ipykernel)",
   "language": "python",
   "name": "python3"
  },
  "language_info": {
   "codemirror_mode": {
    "name": "ipython",
    "version": 3
   },
   "file_extension": ".py",
   "mimetype": "text/x-python",
   "name": "python",
   "nbconvert_exporter": "python",
   "pygments_lexer": "ipython3",
   "version": "3.10.13"
  }
 },
 "nbformat": 4,
 "nbformat_minor": 5
}
