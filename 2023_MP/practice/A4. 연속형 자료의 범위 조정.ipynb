{
 "cells": [
  {
   "cell_type": "markdown",
   "id": "09531cc8-b195-4044-9b32-8af254be3277",
   "metadata": {},
   "source": [
    "---\n",
    "title: \"전처리 | 연속형 자료의 범위 조정\"\n",
    "author: \"강신성\"\n",
    "date: \"2023-10-22\"\n",
    "date-format: iso\n",
    "categories: [preprocessing]\n",
    "---\n",
    "\n",
    "\n"
   ]
  },
  {
   "cell_type": "markdown",
   "id": "704359e1-b5d2-4a0f-81eb-607c6f35270c",
   "metadata": {},
   "source": [
    "> `sklearn.preprocessing`을 이용하여 자료의 범위를 전처리해보자."
   ]
  },
  {
   "cell_type": "markdown",
   "id": "aae377d9-5b9a-4e7b-8732-3c2a4f0c0e4e",
   "metadata": {},
   "source": [
    "###### 해당 자료는 전북대학교 통계학과 최규빈 교수님의 강의 내용을 토대로 재구성되었음을 밝힙니다."
   ]
  },
  {
   "cell_type": "markdown",
   "id": "3fc1444c-885c-4ae9-8a6e-98e3b591d334",
   "metadata": {},
   "source": [
    "## 1. 라이브러리 import"
   ]
  },
  {
   "cell_type": "code",
   "execution_count": 1,
   "id": "698086eb-1d61-4de1-9322-3056f2fafd5c",
   "metadata": {},
   "outputs": [],
   "source": [
    "import pandas as pd\n",
    "import numpy as np\n",
    "import sklearn.preprocessing"
   ]
  },
  {
   "cell_type": "markdown",
   "id": "d299ed32-af32-4b99-b6d5-9c842869883e",
   "metadata": {},
   "source": [
    "## 2. `MinMaxScaler`"
   ]
  },
  {
   "cell_type": "markdown",
   "id": "464d9b43-ef3f-42fa-8929-e7fcb559ae7c",
   "metadata": {},
   "source": [
    "### **A. 모티브**\n",
    "---\n",
    "\n",
    "\n"
   ]
  },
  {
   "cell_type": "markdown",
   "id": "a7705558-f6db-44eb-b3b9-2eb66b92bb49",
   "metadata": {},
   "source": [
    "\\- 예제자료 : 학점, 토익 등이 취업에 미치는 정도"
   ]
  },
  {
   "cell_type": "code",
   "execution_count": 2,
   "id": "d9404e5b-df6a-41c1-abd2-5e39ff6f79f5",
   "metadata": {},
   "outputs": [
    {
     "data": {
      "text/html": [
       "<div>\n",
       "<style scoped>\n",
       "    .dataframe tbody tr th:only-of-type {\n",
       "        vertical-align: middle;\n",
       "    }\n",
       "\n",
       "    .dataframe tbody tr th {\n",
       "        vertical-align: top;\n",
       "    }\n",
       "\n",
       "    .dataframe thead th {\n",
       "        text-align: right;\n",
       "    }\n",
       "</style>\n",
       "<table border=\"1\" class=\"dataframe\">\n",
       "  <thead>\n",
       "    <tr style=\"text-align: right;\">\n",
       "      <th></th>\n",
       "      <th>toeic</th>\n",
       "      <th>gpa</th>\n",
       "    </tr>\n",
       "  </thead>\n",
       "  <tbody>\n",
       "    <tr>\n",
       "      <th>0</th>\n",
       "      <td>135</td>\n",
       "      <td>0.051535</td>\n",
       "    </tr>\n",
       "    <tr>\n",
       "      <th>1</th>\n",
       "      <td>935</td>\n",
       "      <td>0.355496</td>\n",
       "    </tr>\n",
       "    <tr>\n",
       "      <th>2</th>\n",
       "      <td>485</td>\n",
       "      <td>2.228435</td>\n",
       "    </tr>\n",
       "    <tr>\n",
       "      <th>3</th>\n",
       "      <td>65</td>\n",
       "      <td>1.179701</td>\n",
       "    </tr>\n",
       "    <tr>\n",
       "      <th>4</th>\n",
       "      <td>445</td>\n",
       "      <td>3.962356</td>\n",
       "    </tr>\n",
       "    <tr>\n",
       "      <th>5</th>\n",
       "      <td>65</td>\n",
       "      <td>1.846885</td>\n",
       "    </tr>\n",
       "    <tr>\n",
       "      <th>6</th>\n",
       "      <td>290</td>\n",
       "      <td>0.309928</td>\n",
       "    </tr>\n",
       "    <tr>\n",
       "      <th>7</th>\n",
       "      <td>730</td>\n",
       "      <td>0.336081</td>\n",
       "    </tr>\n",
       "  </tbody>\n",
       "</table>\n",
       "</div>"
      ],
      "text/plain": [
       "   toeic       gpa\n",
       "0    135  0.051535\n",
       "1    935  0.355496\n",
       "2    485  2.228435\n",
       "3     65  1.179701\n",
       "4    445  3.962356\n",
       "5     65  1.846885\n",
       "6    290  0.309928\n",
       "7    730  0.336081"
      ]
     },
     "execution_count": 2,
     "metadata": {},
     "output_type": "execute_result"
    }
   ],
   "source": [
    "df = pd.read_csv('https://raw.githubusercontent.com/guebin/MP2023/main/posts/employment.csv').loc[:7,['toeic','gpa']]\n",
    "df"
   ]
  },
  {
   "cell_type": "markdown",
   "id": "de0cb145-8016-46ed-a692-193b7f32b069",
   "metadata": {},
   "source": [
    "\\- 모형을 돌려보고 해석한 결과...\n",
    "(```sklearn.linear_model.Linear_Regression()```)\n",
    "\n",
    "```\n",
    "u = X.toeic*0.00571598 + X.gpa*2.46520018 -8.45433334\n",
    "v = 1/(1+np.exp(-u))\n",
    "v # 확률같은것임\n",
    "```\n",
    "\n",
    "**그래서...**\n",
    "* 토익이 중요해? 아니면 학점이 중요해?\n",
    "* 무엇이 얼만큼 중요해?\n",
    "\n",
    "\\- 모티브 : 토익과 gpa 모두 0~1 사이의 척도로 바꾸면 해석이 쉽지 않을까?"
   ]
  },
  {
   "cell_type": "markdown",
   "id": "0fb8d398-b7ef-472f-af49-9f2326328429",
   "metadata": {},
   "source": [
    "### **B. 사용방법**\n",
    "---\n",
    "\n",
    "\n"
   ]
  },
  {
   "cell_type": "markdown",
   "id": "92b06c10-b59b-48d6-a748-df957314af45",
   "metadata": {},
   "source": [
    "* class를 이용, object를 생성하는 방법(이전과 유사한 방법)"
   ]
  },
  {
   "cell_type": "code",
   "execution_count": 3,
   "id": "36ddbdd6-3681-4e53-a9f7-f7a723864adc",
   "metadata": {},
   "outputs": [
    {
     "data": {
      "text/plain": [
       "array([[0.08045977, 0.        ],\n",
       "       [1.        , 0.07772319],\n",
       "       [0.48275862, 0.55663499],\n",
       "       [0.        , 0.28847292],\n",
       "       [0.43678161, 1.        ],\n",
       "       [0.        , 0.45907256],\n",
       "       [0.25862069, 0.06607128],\n",
       "       [0.76436782, 0.07275881]])"
      ]
     },
     "execution_count": 3,
     "metadata": {},
     "output_type": "execute_result"
    }
   ],
   "source": [
    "scalr = sklearn.preprocessing.MinMaxScaler()\n",
    "\n",
    "scalr.fit(df)\n",
    "\n",
    "scalr.transform(df)  ## 전처리의 경우에는 transform을 사용한다. .impute.SimpleImputer()에서도 그랬잖아?"
   ]
  },
  {
   "cell_type": "markdown",
   "id": "b5fd0bd2-8fe2-4098-a542-837a8a3eb782",
   "metadata": {},
   "source": [
    "* 역시 한번에 할 수도 있다."
   ]
  },
  {
   "cell_type": "code",
   "execution_count": 7,
   "id": "e2880d68-ae36-43a4-8705-369f85099ba5",
   "metadata": {},
   "outputs": [
    {
     "data": {
      "text/plain": [
       "array([[0.08045977, 0.        ],\n",
       "       [1.        , 0.07772319],\n",
       "       [0.48275862, 0.55663499],\n",
       "       [0.        , 0.28847292],\n",
       "       [0.43678161, 1.        ],\n",
       "       [0.        , 0.45907256],\n",
       "       [0.25862069, 0.06607128],\n",
       "       [0.76436782, 0.07275881]])"
      ]
     },
     "execution_count": 7,
     "metadata": {},
     "output_type": "execute_result"
    }
   ],
   "source": [
    "scalr.fit_transform(df)  ## 당연히 원래 자료를 훼손하진 않는다."
   ]
  },
  {
   "cell_type": "code",
   "execution_count": 4,
   "id": "438fe6ee-5efe-4a39-a2ff-62b585f19f66",
   "metadata": {},
   "outputs": [
    {
     "data": {
      "text/plain": [
       "array([[0.08045977, 0.        ],\n",
       "       [1.        , 0.07772319],\n",
       "       [0.48275862, 0.55663499],\n",
       "       [0.        , 0.28847292],\n",
       "       [0.43678161, 1.        ],\n",
       "       [0.        , 0.45907256],\n",
       "       [0.25862069, 0.06607128],\n",
       "       [0.76436782, 0.07275881]])"
      ]
     },
     "execution_count": 4,
     "metadata": {},
     "output_type": "execute_result"
    }
   ],
   "source": [
    "sklearn.preprocessing.minmax_scale(df)  ## 한 번에 할 수도 있다."
   ]
  },
  {
   "cell_type": "markdown",
   "id": "7077da88-d5eb-46ff-87ed-27a01aeba9a4",
   "metadata": {},
   "source": [
    "> 위처럼 할 수도 있는데, 이 경우는 scalr를 test셋에 적용시킬 수 없기 때문에 사용하지 않는다."
   ]
  },
  {
   "cell_type": "markdown",
   "id": "5ebf8d73-35d0-44ae-adc5-6028d3b77f95",
   "metadata": {},
   "source": [
    "### **C. 옳고 그른 방법론**\n",
    "---\n",
    "\n",
    "\n"
   ]
  },
  {
   "cell_type": "markdown",
   "id": "06372c09-4014-48f5-87b9-ca50c3bf0a57",
   "metadata": {},
   "source": [
    "`# 1` 비효율적인 전환"
   ]
  },
  {
   "cell_type": "markdown",
   "id": "961a70df-8dd2-48af-8990-a1dd43977345",
   "metadata": {},
   "source": [
    "\\- 주어진 자료가 아래와 같이 train/test로 나뉘어있다고 하자."
   ]
  },
  {
   "cell_type": "code",
   "execution_count": 7,
   "id": "e9a05975-04bb-41e0-b87b-2707b065d2d1",
   "metadata": {},
   "outputs": [
    {
     "data": {
      "text/plain": [
       "(array([[1.],\n",
       "        [2.],\n",
       "        [3.],\n",
       "        [4.],\n",
       "        [5.]]),\n",
       " array([[1.5],\n",
       "        [2.5],\n",
       "        [3.5]]))"
      ]
     },
     "execution_count": 7,
     "metadata": {},
     "output_type": "execute_result"
    }
   ],
   "source": [
    "X = np.array([1.0, 2.0, 3.0, 4.0, 5.0]).reshape(-1,1)\n",
    "XX = np.array([1.5, 2.5, 3.5]).reshape(-1,1)\n",
    "\n",
    "X, XX"
   ]
  },
  {
   "cell_type": "code",
   "execution_count": 6,
   "id": "3e25289d-58de-442d-8a31-165c096fa407",
   "metadata": {},
   "outputs": [
    {
     "data": {
      "text/plain": [
       "(array([[0.  ],\n",
       "        [0.25],\n",
       "        [0.5 ],\n",
       "        [0.75],\n",
       "        [1.  ]]),\n",
       " array([[0. ],\n",
       "        [0.5],\n",
       "        [1. ]]))"
      ]
     },
     "execution_count": 6,
     "metadata": {},
     "output_type": "execute_result"
    }
   ],
   "source": [
    "scalr = sklearn.preprocessing.MinMaxScaler()\n",
    "\n",
    "scalr.fit_transform(X), scalr.fit_transform(XX)"
   ]
  },
  {
   "cell_type": "markdown",
   "id": "40cf5ab1-3e39-427c-8426-c56aa6ead272",
   "metadata": {},
   "source": [
    "> 같은 값임에도 다르게 스케일을 변환시키는 것을 볼 수 있다.(X에선 5가 1인데, XX에선 3.5가 1이 됨."
   ]
  },
  {
   "cell_type": "markdown",
   "id": "38892e30-b6f7-47af-9ad3-3ca09a3fcc1f",
   "metadata": {},
   "source": [
    "`# 2` 권장하는 스케일링 방법"
   ]
  },
  {
   "cell_type": "code",
   "execution_count": 8,
   "id": "c3bb3038-d531-41c2-981a-a0c3a2de35d8",
   "metadata": {},
   "outputs": [
    {
     "data": {
      "text/plain": [
       "(array([[0.  ],\n",
       "        [0.25],\n",
       "        [0.5 ],\n",
       "        [0.75],\n",
       "        [1.  ]]),\n",
       " array([[0.125],\n",
       "        [0.375],\n",
       "        [0.625]]))"
      ]
     },
     "execution_count": 8,
     "metadata": {},
     "output_type": "execute_result"
    }
   ],
   "source": [
    "scalr = sklearn.preprocessing.MinMaxScaler()\n",
    "\n",
    "scalr.fit(X)\n",
    "\n",
    "scalr.transform(X), scalr.transform(XX)"
   ]
  },
  {
   "cell_type": "markdown",
   "id": "3e81326e-7fbe-4e25-b22a-267b1b4a991c",
   "metadata": {},
   "source": [
    "> 더 합리적이다."
   ]
  },
  {
   "cell_type": "markdown",
   "id": "d4e27ee6-525e-4dd4-a951-63b56b040188",
   "metadata": {},
   "source": [
    "`# 3` 변환값의 범위"
   ]
  },
  {
   "cell_type": "markdown",
   "id": "9397d774-6388-480f-873a-457d60b4640c",
   "metadata": {},
   "source": [
    "\\- 변환한 값이 무조건 0과 1 사이가 되는 것은 아니다."
   ]
  },
  {
   "cell_type": "code",
   "execution_count": 10,
   "id": "2df68163-ec50-497e-887f-75c4aafd2c62",
   "metadata": {},
   "outputs": [],
   "source": [
    "X = np.array([1.0, 2.0, 3.0, 4.0, 3.5]).reshape(-1,1)\n",
    "XX = np.array([1.5, 2.5, 5.0]).reshape(-1,1)\n",
    "## XX의 5.0은 X에서의 최대값인 4.0을 초과한다."
   ]
  },
  {
   "cell_type": "code",
   "execution_count": 11,
   "id": "3d4daa1f-e065-428f-b67a-09a46f8bae86",
   "metadata": {},
   "outputs": [
    {
     "data": {
      "text/plain": [
       "(array([[0.        ],\n",
       "        [0.33333333],\n",
       "        [0.66666667],\n",
       "        [1.        ],\n",
       "        [0.83333333]]),\n",
       " array([[0.16666667],\n",
       "        [0.5       ],\n",
       "        [1.33333333]]))"
      ]
     },
     "execution_count": 11,
     "metadata": {},
     "output_type": "execute_result"
    }
   ],
   "source": [
    "sclr = sklearn.preprocessing.MinMaxScaler()\n",
    "sclr.fit(X)\n",
    "\n",
    "sclr.transform(X), sclr.transform(XX)"
   ]
  },
  {
   "cell_type": "markdown",
   "id": "031829aa-4081-482d-b3d6-0d512f6e2605",
   "metadata": {},
   "source": [
    "> 스케일링한 값이 1보다 커질 수 있다."
   ]
  },
  {
   "cell_type": "markdown",
   "id": "5a7d9bc3-0e09-484f-95ea-50082cbfb791",
   "metadata": {},
   "source": [
    "### **D. <span style=background-color:pink>아주아주 잘못된 스케일링 방법 - <span style=color:red>정보누수</span></span>**\n",
    "---\n",
    "\n",
    "\n",
    "\n",
    "\\- 주어진 자료가 아래와 같다고 하자."
   ]
  },
  {
   "cell_type": "code",
   "execution_count": 12,
   "id": "9c01c126-d0ae-4a11-9ea3-f1264b291cd4",
   "metadata": {},
   "outputs": [],
   "source": [
    "X = np.array([1.0, 2.0, 3.0, 4.0, 3.5]).reshape(-1,1)\n",
    "XX = np.array([1.5, 2.5, 5.0]).reshape(-1,1)"
   ]
  },
  {
   "cell_type": "markdown",
   "id": "6d47a451-6a2b-48b4-b15a-442611999ba4",
   "metadata": {},
   "source": [
    "\\- train data와 test data를 합친다....**????!!!??!?!??**"
   ]
  },
  {
   "cell_type": "code",
   "execution_count": 13,
   "id": "85ee34c7-fe91-4df0-9306-9e3c6b13752b",
   "metadata": {},
   "outputs": [
    {
     "data": {
      "text/plain": [
       "array([[1. ],\n",
       "       [2. ],\n",
       "       [3. ],\n",
       "       [4. ],\n",
       "       [3.5],\n",
       "       [1.5],\n",
       "       [2.5],\n",
       "       [5. ]])"
      ]
     },
     "execution_count": 13,
     "metadata": {},
     "output_type": "execute_result"
    }
   ],
   "source": [
    "np.concatenate([X, XX], axis = 0)"
   ]
  },
  {
   "cell_type": "markdown",
   "id": "745a007c-f08c-4885-9d44-76595b146d0d",
   "metadata": {},
   "source": [
    "\\- 합친 데이터에서 스케일링...."
   ]
  },
  {
   "cell_type": "code",
   "execution_count": 14,
   "id": "0e44cb5c-1f58-45d9-86cc-e7e236a2ae91",
   "metadata": {},
   "outputs": [
    {
     "data": {
      "text/plain": [
       "array([[0.   ],\n",
       "       [0.25 ],\n",
       "       [0.5  ],\n",
       "       [0.75 ],\n",
       "       [0.625],\n",
       "       [0.125],\n",
       "       [0.375],\n",
       "       [1.   ]])"
      ]
     },
     "execution_count": 14,
     "metadata": {},
     "output_type": "execute_result"
    }
   ],
   "source": [
    "sklearn.preprocessing.MinMaxScaler().fit_transform(np.concatenate([X, XX], axis = 0))"
   ]
  },
  {
   "cell_type": "markdown",
   "id": "8bed6f62-a363-4445-8752-666f4ad533ef",
   "metadata": {},
   "source": [
    "> 이렇게 전저리하는 것은 **정보누수**에 해당한다. 본래 test dataset은 알지 못한 상태인데 그것을 합칠 순 없다!\n",
    ">\n",
    "> <span style=color:red>대회에서 이런 일이 발생하면 cheating으로 간주되어 탈락된다.</span>\n",
    "\n",
    "* 위에서 ```minmax_scale()```로 처리하는 것은 전략적으로 비효율적인 문제이지 치팅과 관련된 치명적인 문제가 아니다. (만약 어떠한 경우에 ```minmax_scale``` 전처리 방식이 유리하다는 생각이 들면 사용해도 무방함)"
   ]
  },
  {
   "cell_type": "markdown",
   "id": "da355284-d775-4110-ad28-70f0589800c7",
   "metadata": {},
   "source": [
    "## 3. `StandardScaler`"
   ]
  },
  {
   "cell_type": "code",
   "execution_count": 15,
   "id": "cbde2166-ec19-461a-ac97-ab1b79607c19",
   "metadata": {},
   "outputs": [
    {
     "data": {
      "text/html": [
       "<div>\n",
       "<style scoped>\n",
       "    .dataframe tbody tr th:only-of-type {\n",
       "        vertical-align: middle;\n",
       "    }\n",
       "\n",
       "    .dataframe tbody tr th {\n",
       "        vertical-align: top;\n",
       "    }\n",
       "\n",
       "    .dataframe thead th {\n",
       "        text-align: right;\n",
       "    }\n",
       "</style>\n",
       "<table border=\"1\" class=\"dataframe\">\n",
       "  <thead>\n",
       "    <tr style=\"text-align: right;\">\n",
       "      <th></th>\n",
       "      <th>toeic</th>\n",
       "      <th>gpa</th>\n",
       "    </tr>\n",
       "  </thead>\n",
       "  <tbody>\n",
       "    <tr>\n",
       "      <th>0</th>\n",
       "      <td>135</td>\n",
       "      <td>0.051535</td>\n",
       "    </tr>\n",
       "    <tr>\n",
       "      <th>1</th>\n",
       "      <td>935</td>\n",
       "      <td>0.355496</td>\n",
       "    </tr>\n",
       "    <tr>\n",
       "      <th>2</th>\n",
       "      <td>485</td>\n",
       "      <td>2.228435</td>\n",
       "    </tr>\n",
       "    <tr>\n",
       "      <th>3</th>\n",
       "      <td>65</td>\n",
       "      <td>1.179701</td>\n",
       "    </tr>\n",
       "    <tr>\n",
       "      <th>4</th>\n",
       "      <td>445</td>\n",
       "      <td>3.962356</td>\n",
       "    </tr>\n",
       "    <tr>\n",
       "      <th>5</th>\n",
       "      <td>65</td>\n",
       "      <td>1.846885</td>\n",
       "    </tr>\n",
       "    <tr>\n",
       "      <th>6</th>\n",
       "      <td>290</td>\n",
       "      <td>0.309928</td>\n",
       "    </tr>\n",
       "    <tr>\n",
       "      <th>7</th>\n",
       "      <td>730</td>\n",
       "      <td>0.336081</td>\n",
       "    </tr>\n",
       "  </tbody>\n",
       "</table>\n",
       "</div>"
      ],
      "text/plain": [
       "   toeic       gpa\n",
       "0    135  0.051535\n",
       "1    935  0.355496\n",
       "2    485  2.228435\n",
       "3     65  1.179701\n",
       "4    445  3.962356\n",
       "5     65  1.846885\n",
       "6    290  0.309928\n",
       "7    730  0.336081"
      ]
     },
     "execution_count": 15,
     "metadata": {},
     "output_type": "execute_result"
    }
   ],
   "source": [
    "df = pd.read_csv('https://raw.githubusercontent.com/guebin/MP2023/main/posts/employment.csv').loc[:7,['toeic','gpa']]\n",
    "df"
   ]
  },
  {
   "cell_type": "markdown",
   "id": "b40e4834-a919-4eab-944d-f3e3aae99a61",
   "metadata": {},
   "source": [
    "> 여기서 토익과 gpa가 미치는 영향을 비교하기 위해 각 값들을 표준화해보자."
   ]
  },
  {
   "cell_type": "markdown",
   "id": "2aa92d70-6d78-4bb1-9126-49f398e8428f",
   "metadata": {},
   "source": [
    "### **A. 사용법**\n",
    "---\n",
    "\n",
    "\n"
   ]
  },
  {
   "cell_type": "code",
   "execution_count": 16,
   "id": "998cc360-d734-4d9a-b520-894ca01fb9c3",
   "metadata": {},
   "outputs": [
    {
     "data": {
      "text/plain": [
       "array([[-0.8680409 , -0.98104887],\n",
       "       [ 1.81575704, -0.73905505],\n",
       "       [ 0.3061207 ,  0.75205327],\n",
       "       [-1.10287322, -0.08287854],\n",
       "       [ 0.17193081,  2.13248542],\n",
       "       [-1.10287322,  0.44828929],\n",
       "       [-0.34805505, -0.77533368],\n",
       "       [ 1.12803382, -0.75451182]])"
      ]
     },
     "execution_count": 16,
     "metadata": {},
     "output_type": "execute_result"
    }
   ],
   "source": [
    "sclr = sklearn.preprocessing.StandardScaler()\n",
    "sclr.fit_transform(df)"
   ]
  },
  {
   "cell_type": "markdown",
   "id": "ced63c72-0d55-4a73-b420-a2a149324610",
   "metadata": {},
   "source": [
    "> `MinMaxScaler`도 마찬가지로 여러 열을 한번에 할 수 있다."
   ]
  },
  {
   "cell_type": "markdown",
   "id": "35f2d336-67ac-4712-87ec-0eba7ef1edc1",
   "metadata": {},
   "source": [
    "\\- 원리"
   ]
  },
  {
   "cell_type": "code",
   "execution_count": 18,
   "id": "36a9fad4-00b4-4f4b-a85c-b9549e4d22a1",
   "metadata": {},
   "outputs": [
    {
     "data": {
      "text/plain": [
       "0   -0.868041\n",
       "1    1.815757\n",
       "2    0.306121\n",
       "3   -1.102873\n",
       "4    0.171931\n",
       "5   -1.102873\n",
       "6   -0.348055\n",
       "7    1.128034\n",
       "Name: toeic, dtype: float64"
      ]
     },
     "execution_count": 18,
     "metadata": {},
     "output_type": "execute_result"
    }
   ],
   "source": [
    "(df.toeic - df.toeic.mean())/df.toeic.std(ddof=0) # 계산식, 자유도는 0(모분산으로 취급)"
   ]
  },
  {
   "cell_type": "markdown",
   "id": "102772b5-4700-4e1a-8c53-c5f5a3d73567",
   "metadata": {},
   "source": [
    "> 그냥 표준화하는 것"
   ]
  },
  {
   "cell_type": "markdown",
   "id": "f15bf4e9-94d7-40c4-9f0d-b83f3307e57d",
   "metadata": {},
   "source": [
    "## 4. 비교"
   ]
  },
  {
   "cell_type": "markdown",
   "id": "702cf3a7-26cb-4240-a210-41005d83684b",
   "metadata": {},
   "source": [
    "\\- `MinMaxScaler`와 `StandardScaler`는 데이터의 스케일을 조정하는 두 가지 일반적인 방법이다.\n",
    "\n",
    "1. **MinMaxSclaer**:\n",
    "    * 장점 : 원하는 범위 내로 데이터를 조정할 때 유용, 특히 신경망에서는 활성화 함수의 범위와 일치하도록 입력값을 조정하는 데 유용.\n",
    "    * 단점 : 이상치에 매우 민감하다.\n",
    "\n",
    "1. **StandardScaler**:\n",
    "   * 장점 : **이상치에 덜 민감**함, 많은 통계적 기법들 - **선형 알고리즘에서 잘 작동**함\n",
    "   * 단점 : 표준화된 데이터의 값이 특정 범위 내에 있음을 보장하지 않음.\n",
    " \n",
    "> 단순히 MinMaxScaler는 데이터가 0\\~1 또는 -1~1사이의 범위에 있다고 가정한다.\n",
    "\n",
    "\n",
    "**그래서 둘 중 어느 것을 선택해야 하는데???**\n",
    "\n",
    "* 둘 중 이상치가 많으면 `StandardScaler`가 더 적합할 수 있다.\n",
    "* 모델의 알고리즘과 특성에 따라 선택해야 한다. 신경망의 경우 `MinMaxScaler`가 적합할 수 있다.\n",
    "\n",
    "결론적으로 두 스케일링 방법 중 어느 것이 더 좋은지는 사용 사례와 데이터의 특성에 따라 다르기 때문에, 가능한 경우 둘 다 시도해보고 모델의 성능을 비교하는 것이 좋다."
   ]
  },
  {
   "cell_type": "markdown",
   "id": "f941fd24-bf40-46e9-a0d8-9ec17040541a",
   "metadata": {},
   "source": [
    "### **결론**\n",
    "\n",
    "# ***답이 없다!***"
   ]
  }
 ],
 "metadata": {
  "kernelspec": {
   "display_name": "Python 3 (ipykernel)",
   "language": "python",
   "name": "python3"
  },
  "language_info": {
   "codemirror_mode": {
    "name": "ipython",
    "version": 3
   },
   "file_extension": ".py",
   "mimetype": "text/x-python",
   "name": "python",
   "nbconvert_exporter": "python",
   "pygments_lexer": "ipython3",
   "version": "3.10.13"
  }
 },
 "nbformat": 4,
 "nbformat_minor": 5
}
